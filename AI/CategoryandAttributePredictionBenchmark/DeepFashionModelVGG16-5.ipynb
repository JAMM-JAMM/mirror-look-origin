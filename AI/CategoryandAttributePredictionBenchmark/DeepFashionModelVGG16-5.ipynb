{
 "cells": [
  {
   "cell_type": "code",
   "execution_count": 1,
   "id": "686fe7be",
   "metadata": {},
   "outputs": [],
   "source": [
    "# Import Packages\n",
    "import tensorflow as tf\n",
    "from tensorflow.python.client import device_lib\n",
    "from tensorflow.keras.applications import vgg16\n",
    "from tensorflow.keras.applications.vgg16 import VGG16\n",
    "from tensorflow.keras.layers import Conv2D, Dense, MaxPooling2D, Dropout, Flatten, Activation, BatchNormalization, LeakyReLU\n",
    "from tensorflow.keras.preprocessing.image import ImageDataGenerator\n",
    "import matplotlib.pyplot as plt\n",
    "import numpy as np\n",
    "from sklearn.metrics import confusion_matrix, classification_report\n",
    "import seaborn as sns\n",
    "import pandas as pd\n",
    "import cv2\n",
    "import glob\n",
    "from keras.utils import plot_model\n",
    "%matplotlib inline"
   ]
  },
  {
   "cell_type": "code",
   "execution_count": 2,
   "id": "83e98a92",
   "metadata": {},
   "outputs": [
    {
     "name": "stdout",
     "output_type": "stream",
     "text": [
      "[PhysicalDevice(name='/physical_device:GPU:0', device_type='GPU')]\n",
      "[name: \"/device:CPU:0\"\n",
      "device_type: \"CPU\"\n",
      "memory_limit: 268435456\n",
      "locality {\n",
      "}\n",
      "incarnation: 10394702819377723257\n",
      ", name: \"/device:GPU:0\"\n",
      "device_type: \"GPU\"\n",
      "memory_limit: 14648653952\n",
      "locality {\n",
      "  bus_id: 1\n",
      "  links {\n",
      "  }\n",
      "}\n",
      "incarnation: 14574658699780946195\n",
      "physical_device_desc: \"device: 0, name: NVIDIA Tesla T4, pci bus id: 0001:00:00.0, compute capability: 7.5\"\n",
      "]\n"
     ]
    }
   ],
   "source": [
    "print(tf.config.list_physical_devices('GPU'))\n",
    "print(device_lib.list_local_devices())"
   ]
  },
  {
   "cell_type": "code",
   "execution_count": 3,
   "id": "49ef1097",
   "metadata": {},
   "outputs": [],
   "source": [
    "# DeepFashion Dataset Path\n",
    "train_path = '/home/azure/passion/AI/CategoryandAttributePredictionBenchmark/dataset/train'\n",
    "validation_path = '/home/azure/passion/AI/CategoryandAttributePredictionBenchmark/dataset/validation'\n",
    "test_path = '/home/azure/passion/AI/CategoryandAttributePredictionBenchmark/dataset/test'\n",
    "\n",
    "# Setting the Parameters & Hyperparameters\n",
    "\n",
    "# 1\n",
    "# img_row, img_col, img_channel = 224, 224, 3\n",
    "# batch_size_train = 32\n",
    "# batch_size_validation = 32\n",
    "# epochs = 10\n",
    "# category_nums = 50\n",
    "# drop_rate = 0.25\n",
    "# learning_rate = 0.001\n",
    "# momentum_num = 0.99\n",
    "# plot_num_rows = 3\n",
    "# plot_num_rows = 3\n",
    "\n",
    "# # 2\n",
    "# img_row, img_col, img_channel = 224, 224, 3\n",
    "# batch_size_train = 64\n",
    "# batch_size_validation = 64\n",
    "# epochs = 20\n",
    "# category_nums = 50\n",
    "# drop_rate = 0.25\n",
    "# learning_rate = 0.0001\n",
    "# momentum_num = 0.99\n",
    "# plot_num_rows = 3\n",
    "# plot_num_rows = 3\n",
    "\n",
    "# # 3\n",
    "# img_row, img_col, img_channel = 224, 224, 3\n",
    "# batch_size_train = 64\n",
    "# batch_size_validation = 64\n",
    "# epochs = 3\n",
    "# category_nums = 50\n",
    "# drop_rate = 0.25\n",
    "# learning_rate = 0.0001\n",
    "# momentum_num = 0.99\n",
    "# plot_num_rows = 3\n",
    "# plot_num_rows = 3\n",
    "\n",
    "# 4\n",
    "# img_row, img_col, img_channel = 224, 224, 3\n",
    "# batch_size_train = 64\n",
    "# batch_size_validation = 64\n",
    "# epochs = 10\n",
    "# category_nums = 50\n",
    "# drop_rate = 0.25\n",
    "# learning_rate = 0.0001\n",
    "# momentum_num = 0.99\n",
    "# plot_num_rows = 3\n",
    "# plot_num_rows = 3\n",
    "\n",
    "# 5\n",
    "img_row, img_col, img_channel = 224, 224, 3\n",
    "batch_size_train = 64\n",
    "batch_size_validation = 64\n",
    "epochs = 10\n",
    "category_nums = 26\n",
    "drop_rate = 0.25\n",
    "learning_rate = 0.0001\n",
    "momentum_num = 0.99\n",
    "plot_num_rows = 3\n",
    "plot_num_rows = 3"
   ]
  },
  {
   "cell_type": "code",
   "execution_count": 4,
   "id": "2819a79e",
   "metadata": {},
   "outputs": [
    {
     "name": "stdout",
     "output_type": "stream",
     "text": [
      "<tensorflow.python.keras.engine.input_layer.InputLayer object at 0x7f3974212240> True\n",
      "<tensorflow.python.keras.layers.convolutional.Conv2D object at 0x7f38d003e6a0> True\n",
      "<tensorflow.python.keras.layers.convolutional.Conv2D object at 0x7f38708cc400> True\n",
      "<tensorflow.python.keras.layers.pooling.MaxPooling2D object at 0x7f387087d978> True\n",
      "<tensorflow.python.keras.layers.convolutional.Conv2D object at 0x7f3870885a20> True\n",
      "<tensorflow.python.keras.layers.convolutional.Conv2D object at 0x7f387087deb8> True\n",
      "<tensorflow.python.keras.layers.pooling.MaxPooling2D object at 0x7f3870889ef0> True\n",
      "<tensorflow.python.keras.layers.convolutional.Conv2D object at 0x7f3870890cc0> True\n",
      "<tensorflow.python.keras.layers.convolutional.Conv2D object at 0x7f3870895ef0> True\n",
      "<tensorflow.python.keras.layers.convolutional.Conv2D object at 0x7f3870890080> True\n",
      "<tensorflow.python.keras.layers.pooling.MaxPooling2D object at 0x7f3870018da0> True\n",
      "<tensorflow.python.keras.layers.convolutional.Conv2D object at 0x7f3870023a58> True\n",
      "<tensorflow.python.keras.layers.convolutional.Conv2D object at 0x7f3870023160> True\n",
      "<tensorflow.python.keras.layers.convolutional.Conv2D object at 0x7f38708902b0> True\n",
      "<tensorflow.python.keras.layers.pooling.MaxPooling2D object at 0x7f387002e898> True\n",
      "<tensorflow.python.keras.layers.convolutional.Conv2D object at 0x7f387002e668> True\n",
      "<tensorflow.python.keras.layers.convolutional.Conv2D object at 0x7f387002b0f0> True\n",
      "<tensorflow.python.keras.layers.convolutional.Conv2D object at 0x7f3870036588> True\n",
      "<tensorflow.python.keras.layers.pooling.MaxPooling2D object at 0x7f3870036438> True\n"
     ]
    }
   ],
   "source": [
    "# Initialize the VGG model\n",
    "vgg_conv = VGG16(weights='imagenet', include_top=False, input_shape=(img_row, img_col, img_channel))\n",
    "\n",
    "# Freeze all the layers\n",
    "for layer in vgg_conv.layers[:]:\n",
    "    layer.trainable = True\n",
    "\n",
    "# Check the trainable status of the individual layers\n",
    "for layer in vgg_conv.layers:\n",
    "    print(layer, layer.trainable)"
   ]
  },
  {
   "cell_type": "code",
   "execution_count": 5,
   "id": "f9681bba",
   "metadata": {},
   "outputs": [],
   "source": [
    "def build_model(vgg_conv, category_nums, drop_rate, learning_rate, momentum_num):\n",
    "    \n",
    "    # Create the model\n",
    "    model = tf.keras.models.Sequential()\n",
    "\n",
    "    # Add the vgg convolutional base model\n",
    "    model.add(vgg_conv)\n",
    "\n",
    "    # Add new layers\n",
    "    model.add(Flatten())\n",
    "    model.add(Dense(1024, activation='relu'))\n",
    "    model.add(BatchNormalization())\n",
    "    model.add(Dropout(drop_rate))\n",
    "    model.add(Dense(category_nums, activation='softmax'))\n",
    "\n",
    "    # Compile the model with a SGD and a very slow learning rate\n",
    "    model.compile(\n",
    "        loss='categorical_crossentropy',\n",
    "        optimizer=tf.keras.optimizers.Adam(learning_rate=learning_rate),\n",
    "        metrics=['accuracy']\n",
    "    )\n",
    "\n",
    "    return model"
   ]
  },
  {
   "cell_type": "code",
   "execution_count": 6,
   "id": "9b6ff6f3",
   "metadata": {},
   "outputs": [],
   "source": [
    "model = build_model(vgg_conv, category_nums, drop_rate, learning_rate, momentum_num)"
   ]
  },
  {
   "cell_type": "code",
   "execution_count": 7,
   "id": "8f84e614",
   "metadata": {},
   "outputs": [
    {
     "name": "stdout",
     "output_type": "stream",
     "text": [
      "Model: \"sequential\"\n",
      "_________________________________________________________________\n",
      "Layer (type)                 Output Shape              Param #   \n",
      "=================================================================\n",
      "vgg16 (Functional)           (None, 7, 7, 512)         14714688  \n",
      "_________________________________________________________________\n",
      "flatten (Flatten)            (None, 25088)             0         \n",
      "_________________________________________________________________\n",
      "dense (Dense)                (None, 1024)              25691136  \n",
      "_________________________________________________________________\n",
      "batch_normalization (BatchNo (None, 1024)              4096      \n",
      "_________________________________________________________________\n",
      "dropout (Dropout)            (None, 1024)              0         \n",
      "_________________________________________________________________\n",
      "dense_1 (Dense)              (None, 26)                26650     \n",
      "=================================================================\n",
      "Total params: 40,436,570\n",
      "Trainable params: 40,434,522\n",
      "Non-trainable params: 2,048\n",
      "_________________________________________________________________\n"
     ]
    }
   ],
   "source": [
    "model.summary()"
   ]
  },
  {
   "cell_type": "code",
   "execution_count": 8,
   "id": "6eeebfc8",
   "metadata": {},
   "outputs": [
    {
     "data": {
      "image/jpeg": "[encoded data removed]",
      "text/plain": [
       "<IPython.core.display.Image object>"
      ]
     },
     "execution_count": 8,
     "metadata": {},
     "output_type": "execute_result"
    }
   ],
   "source": [
    "# Show a summary of the model\n",
    "plot_model(model, to_file='/home/azure/passion/AI/CategoryandAttributePredictionBenchmark/dataset/plot/model_summary5.jpg')"
   ]
  },
  {
   "cell_type": "code",
   "execution_count": 9,
   "id": "db1e65e9",
   "metadata": {},
   "outputs": [],
   "source": [
    "def data_load(train_path, validation_path, test_path, batch_size_train, batch_size_validation, img_row, img_col):\n",
    "\n",
    "    # Train\n",
    "    imgdatagen_train = ImageDataGenerator(\n",
    "        rescale=1./255\n",
    "    )\n",
    "\n",
    "    train_dataset = imgdatagen_train.flow_from_directory(\n",
    "        train_path,\n",
    "        target_size=(img_row, img_col),\n",
    "        batch_size=batch_size_train,\n",
    "        class_mode='categorical',\n",
    "        shuffle=True\n",
    "    )\n",
    "\n",
    "    # Validation\n",
    "    imgdatagen_validatioin = ImageDataGenerator(\n",
    "        rescale=1./255\n",
    "    )\n",
    "\n",
    "    validation_dataset = imgdatagen_validatioin.flow_from_directory(\n",
    "        validation_path,\n",
    "        target_size=(img_row, img_col),\n",
    "        batch_size=batch_size_validation,\n",
    "        class_mode='categorical',\n",
    "        shuffle=True\n",
    "    )\n",
    "\n",
    "    # Test\n",
    "    imgdatagen_test = ImageDataGenerator(\n",
    "        rescale=1./255\n",
    "    )\n",
    "    \n",
    "    test_dataset = imgdatagen_test.flow_from_directory(\n",
    "        test_path,\n",
    "        target_size=(img_row, img_col),\n",
    "        class_mode='categorical',\n",
    "        shuffle=True\n",
    "    )\n",
    "    \n",
    "    return train_dataset, validation_dataset, test_dataset"
   ]
  },
  {
   "cell_type": "code",
   "execution_count": 10,
   "id": "134797b9",
   "metadata": {},
   "outputs": [
    {
     "name": "stdout",
     "output_type": "stream",
     "text": [
      "Found 204406 images belonging to 26 classes.\n",
      "Found 39055 images belonging to 26 classes.\n",
      "Found 39065 images belonging to 26 classes.\n",
      "(64, 224, 224, 3)\n",
      "(64, 26)\n",
      "[0. 0. 0. 0. 0. 0. 0. 0. 0. 0. 1. 0. 0. 0. 0. 0. 0. 0. 0. 0. 0. 0. 0. 0.\n",
      " 0. 0.]\n",
      "(64, 224, 224, 3)\n",
      "(64, 26)\n",
      "(32, 224, 224, 3)\n",
      "(32, 26)\n"
     ]
    }
   ],
   "source": [
    "train_dataset, validation_dataset, test_dataset = data_load(train_path, validation_path, test_path, batch_size_train, batch_size_validation, img_row, img_col)\n",
    "\n",
    "X_train, y_train = next(train_dataset)\n",
    "\n",
    "print(X_train.shape)\n",
    "print(y_train.shape)\n",
    "print(y_train[1,:])\n",
    "\n",
    "X_val, y_val = next(validation_dataset)\n",
    "\n",
    "print(X_val.shape)\n",
    "print(y_val.shape)\n",
    "\n",
    "X_test, y_test = next(test_dataset)\n",
    "\n",
    "print(X_test.shape)\n",
    "print(y_test.shape)"
   ]
  },
  {
   "cell_type": "code",
   "execution_count": 11,
   "id": "6350e3e7",
   "metadata": {},
   "outputs": [
    {
     "name": "stdout",
     "output_type": "stream",
     "text": [
      "class indices of train dataset:  {'Blazer': 0, 'Blouse': 1, 'Cardigan': 2, 'Coat': 3, 'Cutoffs': 4, 'Dress': 5, 'Hoodie': 6, 'Jacket': 7, 'Jeans': 8, 'Joggers': 9, 'Jumpsuit': 10, 'Leggings': 11, 'Nightdress': 12, 'Parka': 13, 'Poncho': 14, 'Romper': 15, 'Shirtdress': 16, 'Shirts': 17, 'Shorts': 18, 'Skirt': 19, 'Sundress': 20, 'Sweater': 21, 'Tank': 22, 'Tee': 23, 'Top': 24, 'Trunks': 25}\n"
     ]
    }
   ],
   "source": [
    "# Class Distribution of Train dataset\n",
    "train_dataset_class_indices = train_dataset.class_indices\n",
    "print(\"class indices of train dataset: \",train_dataset_class_indices)"
   ]
  },
  {
   "cell_type": "code",
   "execution_count": 12,
   "id": "e34a138d",
   "metadata": {},
   "outputs": [
    {
     "name": "stdout",
     "output_type": "stream",
     "text": [
      "[('Dress', 52137), ('Tee', 26652), ('Blouse', 19524), ('Shorts', 14194), ('Tank', 11203), ('Skirt', 10793), ('Sweater', 9615), ('Cardigan', 9605), ('Jacket', 7897), ('Top', 7269), ('Jeans', 5568), ('Romper', 5424), ('Blazer', 5407), ('Jumpsuit', 4463), ('Leggings', 3570), ('Joggers', 3259), ('Hoodie', 2909), ('Coat', 1601), ('Cutoffs', 1176), ('Shirts', 763), ('Poncho', 578), ('Parka', 490), ('Trunks', 286)]\n",
      "204383\n"
     ]
    }
   ],
   "source": [
    "# print(train_dataset.filenames[:20])\n",
    "\n",
    "# category_names = ['Anorak', 'Blazer', 'Blouse', 'Bomber', 'Button-Down', 'Cardigan', 'Flannel', 'Halter', 'Henley', 'Hoodie', 'Jacket', 'Jersey', 'Parka', 'Peacoat', 'Poncho', 'Sweater', 'Tank', 'Tee', 'Top', 'Turtleneck', 'Capris', 'Chinos', 'Culottes', 'Cutoffs', 'Gauchos', 'Jeans', 'Jeggings', 'Jodhpurs', 'Joggers', 'Leggings', 'Sarong', 'Shorts', 'Skirt', 'Sweatpants', 'Sweatshorts', 'Trunks', 'Caftan', 'Cape', 'Coat', 'Coverup', 'Dress', 'Jumpsuit', 'Kaftan', 'Kimono', 'Nightdress', 'Onesie', 'Robe', 'Romper', 'Shirtdress', 'Sundress']\n",
    "\n",
    "category_nums = {}\n",
    "\n",
    "for filename in train_dataset.filenames:\n",
    "    class_name = filename.split('/')[0]\n",
    "    if class_name not in category_nums:\n",
    "        category_nums[class_name] = 0\n",
    "    else:\n",
    "        category_nums[class_name] += 1\n",
    "\n",
    "\n",
    "# print(category_nums)        \n",
    "print(sorted(category_nums.items(), key=lambda x: x[1], reverse=True))\n",
    "print(sum(category_nums.values()))\n"
   ]
  },
  {
   "cell_type": "code",
   "execution_count": 13,
   "id": "3667f910",
   "metadata": {},
   "outputs": [
    {
     "data": {
      "image/png": "[encoded data removed]",
      "text/plain": [
       "<Figure size 432x288 with 1 Axes>"
      ]
     },
     "metadata": {
      "needs_background": "light"
     },
     "output_type": "display_data"
    }
   ],
   "source": [
    "fig, ax = plt.subplots()\n",
    "plt.bar(list(category_nums.keys()), category_nums.values())\n",
    "plt.title(\"Class Distribution of Train dataset\")\n",
    "plt.xticks(rotation=90)\n",
    "plt.tick_params(axis='x', width=5, labelsize=8)\n",
    "plt.grid(True)\n",
    "plt.show()"
   ]
  },
  {
   "cell_type": "code",
   "execution_count": 14,
   "id": "47972af3",
   "metadata": {},
   "outputs": [
    {
     "name": "stdout",
     "output_type": "stream",
     "text": [
      "class indices of validation dataset:  {'Blazer': 0, 'Blouse': 1, 'Cardigan': 2, 'Coat': 3, 'Cutoffs': 4, 'Dress': 5, 'Hoodie': 6, 'Jacket': 7, 'Jeans': 8, 'Joggers': 9, 'Jumpsuit': 10, 'Leggings': 11, 'Nightdress': 12, 'Parka': 13, 'Poncho': 14, 'Romper': 15, 'Shirtdress': 16, 'Shirts': 17, 'Shorts': 18, 'Skirt': 19, 'Sundress': 20, 'Sweater': 21, 'Tank': 22, 'Tee': 23, 'Top': 24, 'Trunks': 25}\n"
     ]
    }
   ],
   "source": [
    "# Class Distribution of validation dataset\n",
    "validation_dataset_class_indices = validation_dataset.class_indices\n",
    "print(\"class indices of validation dataset: \", validation_dataset_class_indices)"
   ]
  },
  {
   "cell_type": "code",
   "execution_count": 15,
   "id": "beb7a0fd",
   "metadata": {},
   "outputs": [
    {
     "name": "stdout",
     "output_type": "stream",
     "text": [
      "[('Dress', 10051), ('Tee', 5142), ('Blouse', 3725), ('Shorts', 2699), ('Tank', 2096), ('Skirt', 2045), ('Sweater', 1839), ('Cardigan', 1827), ('Jacket', 1529), ('Top', 1396), ('Jeans', 1051), ('Blazer', 1039), ('Romper', 988), ('Jumpsuit', 839), ('Leggings', 717), ('Joggers', 580), ('Hoodie', 540), ('Coat', 293), ('Cutoffs', 248), ('Shirts', 129), ('Poncho', 105), ('Parka', 97), ('Trunks', 57)]\n",
      "39032\n"
     ]
    }
   ],
   "source": [
    "category_names = ['Anorak', 'Blazer', 'Blouse', 'Bomber', 'Button-Down', 'Cardigan', 'Flannel', 'Halter', 'Henley', 'Hoodie', 'Jacket', 'Jersey', 'Parka', 'Peacoat', 'Poncho', 'Sweater', 'Tank', 'Tee', 'Top', 'Turtleneck', 'Capris', 'Chinos', 'Culottes', 'Cutoffs', 'Gauchos', 'Jeans', 'Jeggings', 'Jodhpurs', 'Joggers', 'Leggings', 'Sarong', 'Shorts', 'Skirt', 'Sweatpants', 'Sweatshorts', 'Trunks', 'Caftan', 'Cape', 'Coat', 'Coverup', 'Dress', 'Jumpsuit', 'Kaftan', 'Kimono', 'Nightdress', 'Onesie', 'Robe', 'Romper', 'Shirtdress', 'Sundress']\n",
    "\n",
    "category_nums = {}\n",
    "\n",
    "for filename in validation_dataset.filenames:\n",
    "    class_name = filename.split('/')[0]\n",
    "    if class_name not in category_nums:\n",
    "        category_nums[class_name] = 0\n",
    "    else:\n",
    "        category_nums[class_name] += 1\n",
    "\n",
    "\n",
    "# print(category_nums)        \n",
    "print(sorted(category_nums.items(), key=lambda x: x[1], reverse=True))\n",
    "print(sum(category_nums.values()))"
   ]
  },
  {
   "cell_type": "code",
   "execution_count": 16,
   "id": "7f8cf404",
   "metadata": {},
   "outputs": [
    {
     "data": {
      "image/png": "[encoded data removed]",
      "text/plain": [
       "<Figure size 432x288 with 1 Axes>"
      ]
     },
     "metadata": {
      "needs_background": "light"
     },
     "output_type": "display_data"
    }
   ],
   "source": [
    "fig, ax = plt.subplots()\n",
    "plt.bar(list(category_nums.keys()), category_nums.values())\n",
    "plt.title(\"Class Distribution of Validation dataset\")\n",
    "plt.xticks(rotation=90)\n",
    "plt.tick_params(axis='x', width=5, labelsize=8)\n",
    "plt.grid(True)\n",
    "plt.show()"
   ]
  },
  {
   "cell_type": "code",
   "execution_count": 17,
   "id": "d4a190b9",
   "metadata": {},
   "outputs": [
    {
     "name": "stdout",
     "output_type": "stream",
     "text": [
      "class indices of test dataset:  {'Blazer': 0, 'Blouse': 1, 'Cardigan': 2, 'Coat': 3, 'Cutoffs': 4, 'Dress': 5, 'Hoodie': 6, 'Jacket': 7, 'Jeans': 8, 'Joggers': 9, 'Jumpsuit': 10, 'Leggings': 11, 'Nightdress': 12, 'Parka': 13, 'Poncho': 14, 'Romper': 15, 'Shirtdress': 16, 'Shirts': 17, 'Shorts': 18, 'Skirt': 19, 'Sundress': 20, 'Sweater': 21, 'Tank': 22, 'Tee': 23, 'Top': 24, 'Trunks': 25}\n"
     ]
    }
   ],
   "source": [
    "test_dataset_class_indices = test_dataset.class_indices\n",
    "print(\"class indices of test dataset: \", test_dataset_class_indices)"
   ]
  },
  {
   "cell_type": "code",
   "execution_count": 18,
   "id": "25d76864",
   "metadata": {},
   "outputs": [
    {
     "name": "stdout",
     "output_type": "stream",
     "text": [
      "[('Dress', 9967), ('Tee', 5090), ('Blouse', 3779), ('Shorts', 2770), ('Tank', 2127), ('Skirt', 1932), ('Cardigan', 1876), ('Sweater', 1812), ('Jacket', 1507), ('Top', 1410), ('Jeans', 1048), ('Blazer', 1046), ('Romper', 993), ('Jumpsuit', 848), ('Leggings', 723), ('Hoodie', 596), ('Joggers', 574), ('Coat', 320), ('Cutoffs', 242), ('Shirts', 151), ('Poncho', 105), ('Parka', 86), ('Trunks', 40)]\n",
      "39042\n"
     ]
    }
   ],
   "source": [
    "category_names = ['Anorak', 'Blazer', 'Blouse', 'Bomber', 'Button-Down', 'Cardigan', 'Flannel', 'Halter', 'Henley', 'Hoodie', 'Jacket', 'Jersey', 'Parka', 'Peacoat', 'Poncho', 'Sweater', 'Tank', 'Tee', 'Top', 'Turtleneck', 'Capris', 'Chinos', 'Culottes', 'Cutoffs', 'Gauchos', 'Jeans', 'Jeggings', 'Jodhpurs', 'Joggers', 'Leggings', 'Sarong', 'Shorts', 'Skirt', 'Sweatpants', 'Sweatshorts', 'Trunks', 'Caftan', 'Cape', 'Coat', 'Coverup', 'Dress', 'Jumpsuit', 'Kaftan', 'Kimono', 'Nightdress', 'Onesie', 'Robe', 'Romper', 'Shirtdress', 'Sundress']\n",
    "\n",
    "category_nums = {}\n",
    "\n",
    "for filename in test_dataset.filenames:\n",
    "    class_name = filename.split('/')[0]\n",
    "    if class_name not in category_nums:\n",
    "        category_nums[class_name] = 0\n",
    "    else:\n",
    "        category_nums[class_name] += 1\n",
    "\n",
    "\n",
    "# print(category_nums)        \n",
    "print(sorted(category_nums.items(), key=lambda x: x[1], reverse=True))\n",
    "print(sum(category_nums.values()))"
   ]
  },
  {
   "cell_type": "code",
   "execution_count": 19,
   "id": "becf5023",
   "metadata": {},
   "outputs": [
    {
     "data": {
      "image/png": "[encoded data removed]",
      "text/plain": [
       "<Figure size 432x288 with 1 Axes>"
      ]
     },
     "metadata": {
      "needs_background": "light"
     },
     "output_type": "display_data"
    }
   ],
   "source": [
    "fig, ax = plt.subplots()\n",
    "plt.bar(list(category_nums.keys()), category_nums.values())\n",
    "plt.title(\"Class Distribution of test dataset\")\n",
    "plt.xticks(rotation=90)\n",
    "plt.tick_params(axis='x', width=5, labelsize=8)\n",
    "plt.grid(True)\n",
    "plt.show()"
   ]
  },
  {
   "cell_type": "code",
   "execution_count": 20,
   "id": "96aa2b06",
   "metadata": {},
   "outputs": [
    {
     "name": "stdout",
     "output_type": "stream",
     "text": [
      "class_labels_keys:  ['Blazer', 'Blouse', 'Cardigan', 'Coat', 'Cutoffs', 'Dress', 'Hoodie', 'Jacket', 'Jeans', 'Joggers', 'Jumpsuit', 'Leggings', 'Nightdress', 'Parka', 'Poncho', 'Romper', 'Shirtdress', 'Shirts', 'Shorts', 'Skirt', 'Sundress', 'Sweater', 'Tank', 'Tee', 'Top', 'Trunks']\n",
      "Length of class_labels:  26\n",
      "Number of train images:  204406\n",
      "Number of validation images:  39055\n",
      "Number of test images:  39065\n"
     ]
    }
   ],
   "source": [
    "class_labels = list(validation_dataset.class_indices.keys())\n",
    "num_imgs_validation = len(validation_dataset.filenames)\n",
    "num_imgs_train = len(train_dataset.filenames)\n",
    "num_imgs_test = len(test_dataset.filenames)\n",
    "print(\"class_labels_keys: \", class_labels)\n",
    "print(\"Length of class_labels: \", len(class_labels))\n",
    "print(\"Number of train images: \", num_imgs_train)\n",
    "print(\"Number of validation images: \", num_imgs_validation)\n",
    "print(\"Number of test images: \", num_imgs_test)"
   ]
  },
  {
   "cell_type": "code",
   "execution_count": 21,
   "id": "0bcbb9b8",
   "metadata": {},
   "outputs": [],
   "source": [
    "# Plotting Accuracy & Loss Curves\n",
    "def curves(model_histories, epochs):\n",
    "\n",
    "    acc = model_histories.history['accuracy']\n",
    "    val_acc = model_histories.history['val_accuracy']\n",
    "    loss = model_histories.history['loss']\n",
    "    val_loss = model_histories.history['val_loss']\n",
    "\n",
    "    # Plot\n",
    "    plt.plot(range(epochs), acc, 'mo', label='Training accuracy')\n",
    "    plt.plot(range(epochs), val_acc, 'b', label='Validation accuracy')\n",
    "    plt.title('Training and validation accuracy')\n",
    "    plt.legend()\n",
    "    plt.savefig('/home/azure/passion/AI/CategoryandAttributePredictionBenchmark/dataset/plot/DeepFashionVGG16CurvesAcc5.jpg')\n",
    "\n",
    "    plt.figure()\n",
    "    plt.plot(range(epochs), loss, 'mo', label='Training loss')\n",
    "    plt.plot(range(epochs), val_loss, 'b', label='Validation loss')\n",
    "    plt.title('Training and validation loss')\n",
    "    plt.legend()\n",
    "    plt.savefig('/home/azure/passion/AI/CategoryandAttributePredictionBenchmark/dataset/plot/DeepFashionVGG16CurvesLoss5.jpg')\n",
    "    plt.show()"
   ]
  },
  {
   "cell_type": "code",
   "execution_count": 22,
   "id": "b29cb488",
   "metadata": {},
   "outputs": [],
   "source": [
    "# Register Callbacks\n",
    "def callback():\n",
    "    \n",
    "    # CSVLogger\n",
    "    filename = '/home/azure/passion/AI/CategoryandAttributePredictionBenchmark/dataset/output/csvlogger/model_train5.csv'\n",
    "    csv_log = tf.keras.callbacks.CSVLogger(filename, separator=' ', append=False)\n",
    "    \n",
    "    # EarlyStopping\n",
    "    early_stopping = tf.keras.callbacks.EarlyStopping(\n",
    "        monitor='loss', patience=500, verbose=1, mode='min'\n",
    "    )\n",
    "    \n",
    "    # ModelCheckpoint\n",
    "    check_point = tf.keras.callbacks.ModelCheckpoint(\n",
    "        filepath='/home/azure/passion/AI/CategoryandAttributePredictionBenchmark/dataset/output/my_checkpoint5.ckpt',\n",
    "        save_best_only=True, save_weights_only=True, monitor='val_loss'\n",
    "    )\n",
    "    \n",
    "    callback_list = [csv_log, early_stopping, check_point]\n",
    "    return callback_list"
   ]
  },
  {
   "cell_type": "code",
   "execution_count": 23,
   "id": "0d532324",
   "metadata": {},
   "outputs": [],
   "source": [
    "callback_list = callback()"
   ]
  },
  {
   "cell_type": "code",
   "execution_count": 24,
   "id": "c122c6be",
   "metadata": {},
   "outputs": [],
   "source": [
    "# Fine-tune the model - Training\n",
    "def fit_model(model, train_dataset, X_val, y_val, batch_size_train, batch_size_validation, epochs):\n",
    "    \n",
    "    history = model.fit(\n",
    "        train_dataset,\n",
    "        epochs=epochs,\n",
    "        validation_data=(X_val, y_val),\n",
    "        workers=0,\n",
    "        verbose=1,\n",
    "        callbacks=callback_list\n",
    "    )\n",
    "\n",
    "    score = model.evaluate(\n",
    "        validation_dataset,\n",
    "        verbose=1\n",
    "    )\n",
    "\n",
    "    return model, history, score"
   ]
  },
  {
   "cell_type": "code",
   "execution_count": 25,
   "id": "0a851f9d",
   "metadata": {},
   "outputs": [
    {
     "name": "stdout",
     "output_type": "stream",
     "text": [
      "Epoch 1/10\n",
      "3194/3194 [==============================] - 2753s 856ms/step - loss: 1.3164 - accuracy: 0.6195 - val_loss: 1.0206 - val_accuracy: 0.7031\n",
      "Epoch 2/10\n",
      "3194/3194 [==============================] - 2699s 845ms/step - loss: 0.8967 - accuracy: 0.7219 - val_loss: 0.9237 - val_accuracy: 0.7656\n",
      "Epoch 3/10\n",
      "3194/3194 [==============================] - 2697s 844ms/step - loss: 0.7880 - accuracy: 0.7539 - val_loss: 0.9427 - val_accuracy: 0.7188\n",
      "Epoch 4/10\n",
      "3194/3194 [==============================] - 2694s 843ms/step - loss: 0.6856 - accuracy: 0.7844 - val_loss: 0.9100 - val_accuracy: 0.6719\n",
      "Epoch 5/10\n",
      "3194/3194 [==============================] - 2682s 840ms/step - loss: 0.5643 - accuracy: 0.8178 - val_loss: 0.8134 - val_accuracy: 0.7812\n",
      "Epoch 6/10\n",
      "3194/3194 [==============================] - 2682s 840ms/step - loss: 0.4152 - accuracy: 0.8656 - val_loss: 1.1802 - val_accuracy: 0.6406\n",
      "Epoch 7/10\n",
      "3194/3194 [==============================] - 2680s 839ms/step - loss: 0.2573 - accuracy: 0.9181 - val_loss: 0.9345 - val_accuracy: 0.7344\n",
      "Epoch 8/10\n",
      "3194/3194 [==============================] - 2681s 839ms/step - loss: 0.1597 - accuracy: 0.9492 - val_loss: 1.2545 - val_accuracy: 0.6562\n",
      "Epoch 9/10\n",
      "3194/3194 [==============================] - 2677s 838ms/step - loss: 0.1202 - accuracy: 0.9616 - val_loss: 1.3755 - val_accuracy: 0.7188\n",
      "Epoch 10/10\n",
      "3194/3194 [==============================] - 2681s 840ms/step - loss: 0.0982 - accuracy: 0.9686 - val_loss: 1.2729 - val_accuracy: 0.6875\n",
      "611/611 [==============================] - 154s 252ms/step - loss: 1.4659 - accuracy: 0.7119\n"
     ]
    },
    {
     "data": {
      "image/png": "[encoded data removed]",
      "text/plain": [
       "<Figure size 432x288 with 1 Axes>"
      ]
     },
     "metadata": {
      "needs_background": "light"
     },
     "output_type": "display_data"
    },
    {
     "data": {
      "image/png": "[encoded data removed]",
      "text/plain": [
       "<Figure size 432x288 with 1 Axes>"
      ]
     },
     "metadata": {
      "needs_background": "light"
     },
     "output_type": "display_data"
    },
    {
     "name": "stdout",
     "output_type": "stream",
     "text": [
      "Validation Accuracy:0.7118678689002991 \n",
      "Validation Loss:1.465909719467163\n"
     ]
    }
   ],
   "source": [
    "model, history, score = fit_model(model, train_dataset, X_val, y_val, batch_size_train, batch_size_validation, epochs)\n",
    "\n",
    "# Learning curves\n",
    "curves(history, epochs)\n",
    "print('Validation Accuracy:{} \\nValidation Loss:{}'.format(score[1] ,score[0]))\n",
    "\n",
    "# Model Save\n",
    "model.save('/home/azure/passion/AI/CategoryandAttributePredictionBenchmark/dataset/save_model/my_model5.h5')"
   ]
  },
  {
   "cell_type": "code",
   "execution_count": 26,
   "id": "4b8dfc16",
   "metadata": {},
   "outputs": [
    {
     "ename": "KeyboardInterrupt",
     "evalue": "",
     "output_type": "error",
     "traceback": [
      "\u001b[0;31m---------------------------------------------------------------------------\u001b[0m",
      "\u001b[0;31mKeyboardInterrupt\u001b[0m                         Traceback (most recent call last)",
      "\u001b[0;32m<ipython-input-26-1be835b1d335>\u001b[0m in \u001b[0;36m<module>\u001b[0;34m\u001b[0m\n\u001b[1;32m      1\u001b[0m \u001b[0;31m# Prediction\u001b[0m\u001b[0;34m\u001b[0m\u001b[0;34m\u001b[0m\u001b[0;34m\u001b[0m\u001b[0m\n\u001b[1;32m      2\u001b[0m \u001b[0mmodel\u001b[0m\u001b[0;34m.\u001b[0m\u001b[0mload_weights\u001b[0m\u001b[0;34m(\u001b[0m\u001b[0;34m'/home/azure/passion/AI/CategoryandAttributePredictionBenchmark/dataset/output/my_checkpoint5.ckpt'\u001b[0m\u001b[0;34m)\u001b[0m\u001b[0;34m\u001b[0m\u001b[0;34m\u001b[0m\u001b[0m\n\u001b[0;32m----> 3\u001b[0;31m \u001b[0mY_pred\u001b[0m \u001b[0;34m=\u001b[0m \u001b[0mmodel\u001b[0m\u001b[0;34m.\u001b[0m\u001b[0mpredict\u001b[0m\u001b[0;34m(\u001b[0m\u001b[0mtest_dataset\u001b[0m\u001b[0;34m)\u001b[0m\u001b[0;34m\u001b[0m\u001b[0;34m\u001b[0m\u001b[0m\n\u001b[0m",
      "\u001b[0;32m~/passion/venv/lib/python3.6/site-packages/tensorflow/python/keras/engine/training.py\u001b[0m in \u001b[0;36mpredict\u001b[0;34m(self, x, batch_size, verbose, steps, callbacks, max_queue_size, workers, use_multiprocessing)\u001b[0m\n\u001b[1;32m   1627\u001b[0m           \u001b[0;32mfor\u001b[0m \u001b[0mstep\u001b[0m \u001b[0;32min\u001b[0m \u001b[0mdata_handler\u001b[0m\u001b[0;34m.\u001b[0m\u001b[0msteps\u001b[0m\u001b[0;34m(\u001b[0m\u001b[0;34m)\u001b[0m\u001b[0;34m:\u001b[0m\u001b[0;34m\u001b[0m\u001b[0;34m\u001b[0m\u001b[0m\n\u001b[1;32m   1628\u001b[0m             \u001b[0mcallbacks\u001b[0m\u001b[0;34m.\u001b[0m\u001b[0mon_predict_batch_begin\u001b[0m\u001b[0;34m(\u001b[0m\u001b[0mstep\u001b[0m\u001b[0;34m)\u001b[0m\u001b[0;34m\u001b[0m\u001b[0;34m\u001b[0m\u001b[0m\n\u001b[0;32m-> 1629\u001b[0;31m             \u001b[0mtmp_batch_outputs\u001b[0m \u001b[0;34m=\u001b[0m \u001b[0mself\u001b[0m\u001b[0;34m.\u001b[0m\u001b[0mpredict_function\u001b[0m\u001b[0;34m(\u001b[0m\u001b[0miterator\u001b[0m\u001b[0;34m)\u001b[0m\u001b[0;34m\u001b[0m\u001b[0;34m\u001b[0m\u001b[0m\n\u001b[0m\u001b[1;32m   1630\u001b[0m             \u001b[0;32mif\u001b[0m \u001b[0mdata_handler\u001b[0m\u001b[0;34m.\u001b[0m\u001b[0mshould_sync\u001b[0m\u001b[0;34m:\u001b[0m\u001b[0;34m\u001b[0m\u001b[0;34m\u001b[0m\u001b[0m\n\u001b[1;32m   1631\u001b[0m               \u001b[0mcontext\u001b[0m\u001b[0;34m.\u001b[0m\u001b[0masync_wait\u001b[0m\u001b[0;34m(\u001b[0m\u001b[0;34m)\u001b[0m\u001b[0;34m\u001b[0m\u001b[0;34m\u001b[0m\u001b[0m\n",
      "\u001b[0;32m~/passion/venv/lib/python3.6/site-packages/tensorflow/python/eager/def_function.py\u001b[0m in \u001b[0;36m__call__\u001b[0;34m(self, *args, **kwds)\u001b[0m\n\u001b[1;32m    826\u001b[0m     \u001b[0mtracing_count\u001b[0m \u001b[0;34m=\u001b[0m \u001b[0mself\u001b[0m\u001b[0;34m.\u001b[0m\u001b[0mexperimental_get_tracing_count\u001b[0m\u001b[0;34m(\u001b[0m\u001b[0;34m)\u001b[0m\u001b[0;34m\u001b[0m\u001b[0;34m\u001b[0m\u001b[0m\n\u001b[1;32m    827\u001b[0m     \u001b[0;32mwith\u001b[0m \u001b[0mtrace\u001b[0m\u001b[0;34m.\u001b[0m\u001b[0mTrace\u001b[0m\u001b[0;34m(\u001b[0m\u001b[0mself\u001b[0m\u001b[0;34m.\u001b[0m\u001b[0m_name\u001b[0m\u001b[0;34m)\u001b[0m \u001b[0;32mas\u001b[0m \u001b[0mtm\u001b[0m\u001b[0;34m:\u001b[0m\u001b[0;34m\u001b[0m\u001b[0;34m\u001b[0m\u001b[0m\n\u001b[0;32m--> 828\u001b[0;31m       \u001b[0mresult\u001b[0m \u001b[0;34m=\u001b[0m \u001b[0mself\u001b[0m\u001b[0;34m.\u001b[0m\u001b[0m_call\u001b[0m\u001b[0;34m(\u001b[0m\u001b[0;34m*\u001b[0m\u001b[0margs\u001b[0m\u001b[0;34m,\u001b[0m \u001b[0;34m**\u001b[0m\u001b[0mkwds\u001b[0m\u001b[0;34m)\u001b[0m\u001b[0;34m\u001b[0m\u001b[0;34m\u001b[0m\u001b[0m\n\u001b[0m\u001b[1;32m    829\u001b[0m       \u001b[0mcompiler\u001b[0m \u001b[0;34m=\u001b[0m \u001b[0;34m\"xla\"\u001b[0m \u001b[0;32mif\u001b[0m \u001b[0mself\u001b[0m\u001b[0;34m.\u001b[0m\u001b[0m_experimental_compile\u001b[0m \u001b[0;32melse\u001b[0m \u001b[0;34m\"nonXla\"\u001b[0m\u001b[0;34m\u001b[0m\u001b[0;34m\u001b[0m\u001b[0m\n\u001b[1;32m    830\u001b[0m       \u001b[0mnew_tracing_count\u001b[0m \u001b[0;34m=\u001b[0m \u001b[0mself\u001b[0m\u001b[0;34m.\u001b[0m\u001b[0mexperimental_get_tracing_count\u001b[0m\u001b[0;34m(\u001b[0m\u001b[0;34m)\u001b[0m\u001b[0;34m\u001b[0m\u001b[0;34m\u001b[0m\u001b[0m\n",
      "\u001b[0;32m~/passion/venv/lib/python3.6/site-packages/tensorflow/python/eager/def_function.py\u001b[0m in \u001b[0;36m_call\u001b[0;34m(self, *args, **kwds)\u001b[0m\n\u001b[1;32m    860\u001b[0m       \u001b[0;31m# In this case we have not created variables on the first call. So we can\u001b[0m\u001b[0;34m\u001b[0m\u001b[0;34m\u001b[0m\u001b[0;34m\u001b[0m\u001b[0m\n\u001b[1;32m    861\u001b[0m       \u001b[0;31m# run the first trace but we should fail if variables are created.\u001b[0m\u001b[0;34m\u001b[0m\u001b[0;34m\u001b[0m\u001b[0;34m\u001b[0m\u001b[0m\n\u001b[0;32m--> 862\u001b[0;31m       \u001b[0mresults\u001b[0m \u001b[0;34m=\u001b[0m \u001b[0mself\u001b[0m\u001b[0;34m.\u001b[0m\u001b[0m_stateful_fn\u001b[0m\u001b[0;34m(\u001b[0m\u001b[0;34m*\u001b[0m\u001b[0margs\u001b[0m\u001b[0;34m,\u001b[0m \u001b[0;34m**\u001b[0m\u001b[0mkwds\u001b[0m\u001b[0;34m)\u001b[0m\u001b[0;34m\u001b[0m\u001b[0;34m\u001b[0m\u001b[0m\n\u001b[0m\u001b[1;32m    863\u001b[0m       \u001b[0;32mif\u001b[0m \u001b[0mself\u001b[0m\u001b[0;34m.\u001b[0m\u001b[0m_created_variables\u001b[0m\u001b[0;34m:\u001b[0m\u001b[0;34m\u001b[0m\u001b[0;34m\u001b[0m\u001b[0m\n\u001b[1;32m    864\u001b[0m         raise ValueError(\"Creating variables on a non-first call to a function\"\n",
      "\u001b[0;32m~/passion/venv/lib/python3.6/site-packages/tensorflow/python/eager/function.py\u001b[0m in \u001b[0;36m__call__\u001b[0;34m(self, *args, **kwargs)\u001b[0m\n\u001b[1;32m   2941\u001b[0m        filtered_flat_args) = self._maybe_define_function(args, kwargs)\n\u001b[1;32m   2942\u001b[0m     return graph_function._call_flat(\n\u001b[0;32m-> 2943\u001b[0;31m         filtered_flat_args, captured_inputs=graph_function.captured_inputs)  # pylint: disable=protected-access\n\u001b[0m\u001b[1;32m   2944\u001b[0m \u001b[0;34m\u001b[0m\u001b[0m\n\u001b[1;32m   2945\u001b[0m   \u001b[0;34m@\u001b[0m\u001b[0mproperty\u001b[0m\u001b[0;34m\u001b[0m\u001b[0;34m\u001b[0m\u001b[0m\n",
      "\u001b[0;32m~/passion/venv/lib/python3.6/site-packages/tensorflow/python/eager/function.py\u001b[0m in \u001b[0;36m_call_flat\u001b[0;34m(self, args, captured_inputs, cancellation_manager)\u001b[0m\n\u001b[1;32m   1917\u001b[0m       \u001b[0;31m# No tape is watching; skip to running the function.\u001b[0m\u001b[0;34m\u001b[0m\u001b[0;34m\u001b[0m\u001b[0;34m\u001b[0m\u001b[0m\n\u001b[1;32m   1918\u001b[0m       return self._build_call_outputs(self._inference_function.call(\n\u001b[0;32m-> 1919\u001b[0;31m           ctx, args, cancellation_manager=cancellation_manager))\n\u001b[0m\u001b[1;32m   1920\u001b[0m     forward_backward = self._select_forward_and_backward_functions(\n\u001b[1;32m   1921\u001b[0m         \u001b[0margs\u001b[0m\u001b[0;34m,\u001b[0m\u001b[0;34m\u001b[0m\u001b[0;34m\u001b[0m\u001b[0m\n",
      "\u001b[0;32m~/passion/venv/lib/python3.6/site-packages/tensorflow/python/eager/function.py\u001b[0m in \u001b[0;36mcall\u001b[0;34m(self, ctx, args, cancellation_manager)\u001b[0m\n\u001b[1;32m    558\u001b[0m               \u001b[0minputs\u001b[0m\u001b[0;34m=\u001b[0m\u001b[0margs\u001b[0m\u001b[0;34m,\u001b[0m\u001b[0;34m\u001b[0m\u001b[0;34m\u001b[0m\u001b[0m\n\u001b[1;32m    559\u001b[0m               \u001b[0mattrs\u001b[0m\u001b[0;34m=\u001b[0m\u001b[0mattrs\u001b[0m\u001b[0;34m,\u001b[0m\u001b[0;34m\u001b[0m\u001b[0;34m\u001b[0m\u001b[0m\n\u001b[0;32m--> 560\u001b[0;31m               ctx=ctx)\n\u001b[0m\u001b[1;32m    561\u001b[0m         \u001b[0;32melse\u001b[0m\u001b[0;34m:\u001b[0m\u001b[0;34m\u001b[0m\u001b[0;34m\u001b[0m\u001b[0m\n\u001b[1;32m    562\u001b[0m           outputs = execute.execute_with_cancellation(\n",
      "\u001b[0;32m~/passion/venv/lib/python3.6/site-packages/tensorflow/python/eager/execute.py\u001b[0m in \u001b[0;36mquick_execute\u001b[0;34m(op_name, num_outputs, inputs, attrs, ctx, name)\u001b[0m\n\u001b[1;32m     58\u001b[0m     \u001b[0mctx\u001b[0m\u001b[0;34m.\u001b[0m\u001b[0mensure_initialized\u001b[0m\u001b[0;34m(\u001b[0m\u001b[0;34m)\u001b[0m\u001b[0;34m\u001b[0m\u001b[0;34m\u001b[0m\u001b[0m\n\u001b[1;32m     59\u001b[0m     tensors = pywrap_tfe.TFE_Py_Execute(ctx._handle, device_name, op_name,\n\u001b[0;32m---> 60\u001b[0;31m                                         inputs, attrs, num_outputs)\n\u001b[0m\u001b[1;32m     61\u001b[0m   \u001b[0;32mexcept\u001b[0m \u001b[0mcore\u001b[0m\u001b[0;34m.\u001b[0m\u001b[0m_NotOkStatusException\u001b[0m \u001b[0;32mas\u001b[0m \u001b[0me\u001b[0m\u001b[0;34m:\u001b[0m\u001b[0;34m\u001b[0m\u001b[0;34m\u001b[0m\u001b[0m\n\u001b[1;32m     62\u001b[0m     \u001b[0;32mif\u001b[0m \u001b[0mname\u001b[0m \u001b[0;32mis\u001b[0m \u001b[0;32mnot\u001b[0m \u001b[0;32mNone\u001b[0m\u001b[0;34m:\u001b[0m\u001b[0;34m\u001b[0m\u001b[0;34m\u001b[0m\u001b[0m\n",
      "\u001b[0;31mKeyboardInterrupt\u001b[0m: "
     ]
    }
   ],
   "source": [
    "# Prediction\n",
    "model.load_weights('/home/azure/passion/AI/CategoryandAttributePredictionBenchmark/dataset/output/my_checkpoint5.ckpt')\n",
    "Y_pred = model.predict(test_dataset)"
   ]
  },
  {
   "cell_type": "code",
   "execution_count": null,
   "id": "059182f0",
   "metadata": {},
   "outputs": [],
   "source": [
    "testY_labels = test_dataset.labels\n",
    "print(testY_labels)\n",
    "print(len(testY_labels))"
   ]
  },
  {
   "cell_type": "code",
   "execution_count": null,
   "id": "2b9bb12d",
   "metadata": {},
   "outputs": [],
   "source": [
    "# Confusion Matrix and Classification Report\n",
    "def confusion_mat(Y_pred, testY_labels, class_labels):\n",
    "    y_pred = np.argmax(Y_pred, axis=1)\n",
    "    confusion_mat = confusion_matrix(testY_labels, y_pred)\n",
    "#     classification_rep = classification_report(testY_labels, y_pred, target_names=class_labels)\n",
    "    plt.figure(figsize=(6, 4))\n",
    "    df_confusion_mat = pd.DataFrame(confusion_mat)\n",
    "    sns.heatmap(df_confusion_mat, annot_kws={\"size\": 1}, linewidths=.5, cmap='PuBu',\n",
    "               annot=True, yticklabels=class_labels, xticklabels=class_labels, fmt='g'\n",
    "               )\n",
    "    plt.xticks(rotation=90)\n",
    "    plt.ylabel('True label')\n",
    "    plt.xlabel('Predicted label')\n",
    "    plt.savefig('/home/azure/passion/AI/CategoryandAttributePredictionBenchmark/dataset/plot/DeepFashionVGG16_confusion_matrix5')\n",
    "    return plt"
   ]
  },
  {
   "cell_type": "code",
   "execution_count": null,
   "id": "28be0e5b",
   "metadata": {},
   "outputs": [],
   "source": [
    "confusion_mat = confusion_mat(Y_pred, testY_labels, class_labels)"
   ]
  },
  {
   "cell_type": "code",
   "execution_count": null,
   "id": "fd3d2c10",
   "metadata": {},
   "outputs": [],
   "source": [
    "model.load_weights('/home/azure/passion/AI/CategoryandAttributePredictionBenchmark/dataset/output/my_checkpoint5.ckpt')\n",
    "\n",
    "loss, acc = model.evaluate(X_test, y_test)\n",
    "print(\"loss: \", loss)\n",
    "print(\"acc: \", acc)"
   ]
  },
  {
   "cell_type": "code",
   "execution_count": null,
   "id": "ae289414",
   "metadata": {},
   "outputs": [],
   "source": [
    "# Tensorflow Lite\n",
    "converter = tf.lite.TFLiteConverter.from_keras_model(model)\n",
    "tflite_model = converter.convert()\n",
    "open('/home/azure/passion/flask-server/models/my_checkpoint5serving.tflite', 'wb').write(tflite_model)"
   ]
  },
  {
   "cell_type": "code",
   "execution_count": null,
   "id": "3efba140",
   "metadata": {},
   "outputs": [],
   "source": []
  },
  {
   "cell_type": "code",
   "execution_count": null,
   "id": "29e4fe20",
   "metadata": {},
   "outputs": [],
   "source": []
  },
  {
   "cell_type": "code",
   "execution_count": null,
   "id": "e8103b00",
   "metadata": {},
   "outputs": [],
   "source": []
  },
  {
   "cell_type": "code",
   "execution_count": null,
   "id": "dc7a16f9",
   "metadata": {},
   "outputs": [],
   "source": []
  }
 ],
 "metadata": {
  "kernelspec": {
   "display_name": "Python 3",
   "language": "python",
   "name": "python3"
  },
  "language_info": {
   "codemirror_mode": {
    "name": "ipython",
    "version": 3
   },
   "file_extension": ".py",
   "mimetype": "text/x-python",
   "name": "python",
   "nbconvert_exporter": "python",
   "pygments_lexer": "ipython3",
   "version": "3.6.9"
  }
 },
 "nbformat": 4,
 "nbformat_minor": 5
}
