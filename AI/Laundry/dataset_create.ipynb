{
 "cells": [
  {
   "cell_type": "code",
   "execution_count": 1,
   "id": "7b0b5306",
   "metadata": {},
   "outputs": [],
   "source": [
    "import os\n",
    "import glob\n",
    "import json\n",
    "import PIL\n",
    "from tqdm import tqdm\n",
    "import time\n",
    "from PIL import Image"
   ]
  },
  {
   "cell_type": "code",
   "execution_count": 2,
   "id": "387328a9",
   "metadata": {},
   "outputs": [],
   "source": [
    "# Deepfashion dataset path\n",
    "men_dataset_path = '/data/Deepfashion-high/In-shop/img/MEN'\n",
    "women_dataset_path = '/data/Deepfashion-high/In-shop/img/WOMEN'\n",
    "list_description_inshop = '/data/Deepfashion-high/In-shop/Anno/list_description_inshop.json'\n",
    "laundry_image_path = '/data/Deepfashion-high/In-shop/laundry_image'\n",
    "list_bbox_inshop = '/data/Deepfashion-high/In-shop/Anno/list_bbox_inshop.txt'"
   ]
  },
  {
   "cell_type": "code",
   "execution_count": 3,
   "id": "0233640c",
   "metadata": {},
   "outputs": [],
   "source": [
    "men_category = ['Tees_Tanks', 'Pants', 'Shorts', 'Sweatshirts_Hoodies', 'Shirts_Polos', 'Sweaters', 'Jackets_Vests', 'Denim', 'Suiting']\n",
    "women_category = ['Tees_Tanks', 'Blouses_Shirts', 'Dresses', 'Shorts', 'Sweaters', 'Skirts', 'Jackets_Coats', 'Pants', 'Rompers_Jumpsuits', 'Cardigans', 'Graphic_Tees', 'Sweatshirts_Hoodies', 'Denim', 'Leggings']"
   ]
  },
  {
   "cell_type": "code",
   "execution_count": 4,
   "id": "6329c1ef",
   "metadata": {},
   "outputs": [
    {
     "name": "stdout",
     "output_type": "stream",
     "text": [
      "Machine wash cold\n"
     ]
    }
   ],
   "source": [
    "def get_item_laundry_label(image_item):\n",
    "    with open(list_description_inshop) as f:\n",
    "        data = json.load(f)\n",
    "        for d in data:\n",
    "            tmp = d['item']\n",
    "            if tmp == image_item:\n",
    "                des = d['description']\n",
    "                if len(des) != 0:\n",
    "                    return des[-2]\n",
    "\n",
    "print(get_item_laundry_label('id_00000241'))"
   ]
  },
  {
   "cell_type": "code",
   "execution_count": 5,
   "id": "39a1e728",
   "metadata": {
    "tags": []
   },
   "outputs": [],
   "source": [
    "def get_laundry_category():\n",
    "    with open(list_description_inshop) as f:\n",
    "        data = json.load(f)\n",
    "\n",
    "        laundry_category = []\n",
    "\n",
    "        for d in data:\n",
    "            tmp = d['description']\n",
    "            if len(tmp) != 0:\n",
    "                laundry_category.append(tmp[-2])\n",
    "    \n",
    "    return laundry_category\n",
    "\n",
    "laundry_category = get_laundry_category()\n"
   ]
  },
  {
   "cell_type": "code",
   "execution_count": 6,
   "id": "1a82825e",
   "metadata": {},
   "outputs": [
    {
     "name": "stdout",
     "output_type": "stream",
     "text": [
      "{'Hand wash cold': 4442, 'Machine wash cold': 2592, 'Hand wash cold, dry flat': 138, 'Dry clean': 535, 'Machine wash warm': 100, 'Hand wash cold, line dry': 53, 'Machine wash cold, line dry': 4, 'Hand wash, dry flat': 1, 'Machine wash cold, tumble dry low': 68, 'Machine wash cold, dry flat': 30, 'Hand wash cold, dry flat ': 11, 'Hand wash cold, hand dry': 1, 'Machine wash cold, dry flat ': 3, 'Dry clean only': 8, ' Dry clean ': 2, 'Measured from Medium': 3, '100% cotton': 2, ' Hand wash, flat dry ': 2, 'Machine wash cold, tumble dry low ': 21, 'Hand wash, line dry': 4, ' Dry clean only ': 1, 'Spot clean only': 1, 'Hand wash cold, tumble dry low ': 3, 'Dry Clean': 2, 'Machine wash, tumble dry  ': 1, 'Hand wash cold, tumble dry low': 2, ' Machine wash, tumble dry  ': 1, 'Dry clean ': 4, 'Machine wash warm, tumble dry low': 2, 'Machine wash, flat dry ': 2, 'Machine wash cold, tumble dry medium': 3, 'Wipe clean with damp cloth and soap': 1, 'Machine wash warm, line dry': 1, 'Machine wash warm, dry flat': 1, 'Wipe clean with soap and damp cloth': 2, 'Hand wash cold, line dry ': 7, ' Machine wash warm, line dry ': 1, ' Machine wash cold, dry flat ': 1, ' Machine wash, line dry ': 1, ' Machine wash, dry flat  ': 1, ' Hand wash, flat dry  ': 2, 'Machine wash, line dry': 1, 'Hand wash, line dry  ': 2, 'Machine wash Cold': 1, 'Hand Wash Cold': 1, 'Hand wash cold ': 1, ' Hand wash cold, dry flat ': 1, ' Hand wash, line dry ': 1, 'Machine wash cold, tumble dry': 2, 'Hand wash, line dry ': 2, 'Machine wash cold, lay flat to dry ': 1, 'Wipe clean with soap and  a damp cloth': 1, ' Machine wash cold, line dry': 1, 'Dry clean only ': 1, 'Non dry clean': 1, 'Professional leather cleaning only': 1, 'Measured from Small': 1}\n",
      "dict_keys(['Hand wash cold', 'Machine wash cold', 'Hand wash cold, dry flat', 'Dry clean', 'Machine wash warm', 'Hand wash cold, line dry', 'Machine wash cold, line dry', 'Hand wash, dry flat', 'Machine wash cold, tumble dry low', 'Machine wash cold, dry flat', 'Hand wash cold, dry flat ', 'Hand wash cold, hand dry', 'Machine wash cold, dry flat ', 'Dry clean only', ' Dry clean ', 'Measured from Medium', '100% cotton', ' Hand wash, flat dry ', 'Machine wash cold, tumble dry low ', 'Hand wash, line dry', ' Dry clean only ', 'Spot clean only', 'Hand wash cold, tumble dry low ', 'Dry Clean', 'Machine wash, tumble dry  ', 'Hand wash cold, tumble dry low', ' Machine wash, tumble dry  ', 'Dry clean ', 'Machine wash warm, tumble dry low', 'Machine wash, flat dry ', 'Machine wash cold, tumble dry medium', 'Wipe clean with damp cloth and soap', 'Machine wash warm, line dry', 'Machine wash warm, dry flat', 'Wipe clean with soap and damp cloth', 'Hand wash cold, line dry ', ' Machine wash warm, line dry ', ' Machine wash cold, dry flat ', ' Machine wash, line dry ', ' Machine wash, dry flat  ', ' Hand wash, flat dry  ', 'Machine wash, line dry', 'Hand wash, line dry  ', 'Machine wash Cold', 'Hand Wash Cold', 'Hand wash cold ', ' Hand wash cold, dry flat ', ' Hand wash, line dry ', 'Machine wash cold, tumble dry', 'Hand wash, line dry ', 'Machine wash cold, lay flat to dry ', 'Wipe clean with soap and  a damp cloth', ' Machine wash cold, line dry', 'Dry clean only ', 'Non dry clean', 'Professional leather cleaning only', 'Measured from Small'])\n",
      "57\n"
     ]
    }
   ],
   "source": [
    "laundry_category_count = {}\n",
    "\n",
    "for label in laundry_category:\n",
    "    if label not in laundry_category_count:\n",
    "        laundry_category_count[label] = 1\n",
    "    else:\n",
    "        laundry_category_count[label] += 1\n",
    "\n",
    "print(laundry_category_count)\n",
    "\n",
    "print(laundry_category_count.keys())\n",
    "print(len(laundry_category_count.keys()))"
   ]
  },
  {
   "cell_type": "code",
   "execution_count": 7,
   "id": "4d1c6151",
   "metadata": {},
   "outputs": [],
   "source": [
    "# cat = ['Hand wash cold', 'Machine wash cold', 'Hand wash cold, dry flat', 'Dry clean', 'Machine wash warm', 'Hand wash cold, line dry', 'Machine wash cold, line dry', 'Hand wash, dry flat', 'Machine wash cold, tumble dry low', 'Machine wash cold, dry flat', 'Hand wash cold, dry flat ', 'Hand wash cold, hand dry', 'Machine wash cold, dry flat ', 'Dry clean only', ' Dry clean ', 'Measured from Medium', '100% cotton', ' Hand wash, flat dry ', 'Machine wash cold, tumble dry low ', 'Hand wash, line dry', ' Dry clean only ', 'Spot clean only', 'Hand wash cold, tumble dry low ', 'Dry Clean', 'Machine wash, tumble dry  ', 'Hand wash cold, tumble dry low', ' Machine wash, tumble dry  ', 'Dry clean ', 'Machine wash warm, tumble dry low', 'Machine wash, flat dry ', 'Machine wash cold, tumble dry medium', 'Wipe clean with damp cloth and soap', 'Machine wash warm, line dry', 'Machine wash warm, dry flat', 'Wipe clean with soap and damp cloth', 'Hand wash cold, line dry ', ' Machine wash warm, line dry ', ' Machine wash cold, dry flat ', ' Machine wash, line dry ', ' Machine wash, dry flat  ', ' Hand wash, flat dry  ', 'Machine wash, line dry', 'Hand wash, line dry  ', 'Machine wash Cold', 'Hand Wash Cold', 'Hand wash cold ', ' Hand wash cold, dry flat ', ' Hand wash, line dry ', 'Machine wash cold, tumble dry', 'Hand wash, line dry ', 'Machine wash cold, lay flat to dry ', 'Wipe clean with soap and  a damp cloth', ' Machine wash cold, line dry', 'Dry clean only ', 'Non dry clean', 'Professional leather cleaning only', 'Measured from Small']\n",
    "\n",
    "# def create_dataset_split_structure(category):\n",
    "#     for c in category:\n",
    "#         if not os.path.exists(laundry_image_path + '/' +c):\n",
    "#             os.makedirs(laundry_image_path + '/' +c)\n",
    "\n",
    "# create_dataset_split_structure(cat)"
   ]
  },
  {
   "cell_type": "code",
   "execution_count": 8,
   "id": "07752fda",
   "metadata": {
    "tags": []
   },
   "outputs": [],
   "source": [
    "# def get_gt_bbox(bbox_name, file_ptr):\n",
    "#     with open(file_ptr) as bbox_file_ptr:\n",
    "#         for line in bbox_file_ptr:\n",
    "#             # print(line)\n",
    "#             if bbox_name in line:\n",
    "#                 x1 = int(line.split()[3])\n",
    "#                 y1 = int(line.split()[4])\n",
    "#                 x2 = int(line.split()[5])\n",
    "#                 y2 = int(line.split()[6])\n",
    "#                 bbox = [x1, y1, x2, y2]\n",
    "#                 return bbox\n",
    "\n",
    "# print(get_gt_bbox('img/WOMEN/Blouses_Shirts/id_00000001/02_1_front.jpg', list_bbox_inshop))"
   ]
  },
  {
   "cell_type": "code",
   "execution_count": 9,
   "id": "dc958078",
   "metadata": {},
   "outputs": [],
   "source": [
    "def calculate_bbox_and_save_img(image_path, image_save_name, bbox):\n",
    "    x1 = bbox[0]\n",
    "    y1 = bbox[1]\n",
    "    x2 = bbox[2]\n",
    "    y2 = bbox[3]\n",
    "    img_read = Image.open(image_path)\n",
    "    img_crop = img_read.crop((x1, y1, x2, y2))\n",
    "    img_crop.save(image_save_name)\n",
    "\n",
    "image_path = '/data/Deepfashion-high/In-shop/img/MEN/Tees_Tanks/id_00000045/01_1_front.jpg'\n",
    "image_save_name = '/data/Deepfashion-high/In-shop/crop_test/1.jpg'\n"
   ]
  },
  {
   "cell_type": "code",
   "execution_count": 10,
   "id": "60ed1020",
   "metadata": {
    "scrolled": true,
    "tags": []
   },
   "outputs": [
    {
     "name": "stderr",
     "output_type": "stream",
     "text": [
      "100%|██████████| 2845/2845 [06:51<00:00,  6.92it/s]\n",
      "100%|██████████| 1017/1017 [02:26<00:00,  6.94it/s]\n",
      "100%|██████████| 1000/1000 [02:23<00:00,  6.99it/s]\n",
      "100%|██████████| 775/775 [01:52<00:00,  6.91it/s]\n",
      "100%|██████████| 722/722 [01:43<00:00,  6.98it/s]\n",
      "100%|██████████| 605/605 [01:27<00:00,  6.94it/s]\n",
      "100%|██████████| 424/424 [01:01<00:00,  6.93it/s]\n",
      "100%|██████████| 408/408 [00:58<00:00,  6.97it/s]\n",
      "100%|██████████| 39/39 [00:05<00:00,  6.84it/s]\n"
     ]
    }
   ],
   "source": [
    "front_image_name = []\n",
    "front_image_laundry_label = []\n",
    "\n",
    "for cls in men_category:\n",
    "    for f in tqdm(glob.glob(men_dataset_path + '/' + cls + '/**' + '/*.jpg')):\n",
    "        time.sleep(0.1)\n",
    "        # image_path: /data/Deepfashion-high/In-shop/img/MEN/Tees_Tanks/id_00000045/01_1_front.jpg\n",
    "        image_path = f\n",
    "        # print(image_path)\n",
    "        image_name = image_path.split('/')[8].split('.')[0].split('_')[2] # image_name: front\n",
    "        if image_name == 'front':\n",
    "            # print(image_name)\n",
    "            image_item = image_path.split('/')[7] # image_item: id_00000045\n",
    "            laundry_label = get_item_laundry_label(image_item) # laundry_label: Dry clean\n",
    "            if str(laundry_label) != 'None':\n",
    "                # bbox_path_name = image_path.split('/')\n",
    "                # bbox_name = bbox_path_name[4] + '/' + bbox_path_name[5] + '/' + bbox_path_name[6] + '/' + bbox_path_name[7] + '/' + bbox_path_name[8] \n",
    "                # # img/MEN/Tees_Tanks/id_00000045/01_1_front.jpg\n",
    "                # bbox = get_gt_bbox(bbox_name, list_bbox_inshop) # [110, 36, 188, 142]\n",
    "                image_save_name = laundry_image_path + '/' + laundry_label + '/' + image_item + '_' +  image_name + '_' + laundry_label + '.jpg'\n",
    "                # calculate_bbox_and_save_img(image_path, image_save_name, bbox)\n",
    "                img_read = Image.open(image_path)\n",
    "                img_read.save(image_save_name)\n",
    "\n",
    "        "
   ]
  },
  {
   "cell_type": "code",
   "execution_count": 12,
   "id": "c820c175",
   "metadata": {
    "tags": []
   },
   "outputs": [
    {
     "name": "stderr",
     "output_type": "stream",
     "text": [
      "100%|██████████| 11642/11642 [28:34<00:00,  6.79it/s]\n",
      "100%|██████████| 7964/7964 [20:03<00:00,  6.62it/s]\n",
      "100%|██████████| 6999/6999 [17:14<00:00,  6.77it/s]\n",
      "100%|██████████| 3476/3476 [08:02<00:00,  7.21it/s]\n",
      "100%|██████████| 3036/3036 [07:23<00:00,  6.85it/s]\n",
      "100%|██████████| 2045/2045 [04:44<00:00,  7.18it/s]\n",
      "100%|██████████| 1895/1895 [04:34<00:00,  6.91it/s]\n",
      "100%|██████████| 1804/1804 [04:18<00:00,  6.97it/s]\n",
      "100%|██████████| 1696/1696 [04:08<00:00,  6.83it/s]\n",
      "100%|██████████| 1436/1436 [03:33<00:00,  6.72it/s]\n",
      "100%|██████████| 1297/1297 [02:59<00:00,  7.23it/s]\n",
      "100%|██████████| 856/856 [02:03<00:00,  6.96it/s]\n",
      "100%|██████████| 393/393 [00:56<00:00,  6.95it/s]\n",
      "100%|██████████| 335/335 [00:48<00:00,  6.93it/s]\n"
     ]
    }
   ],
   "source": [
    "# front_image_name = []\n",
    "# front_image_laundry_label = []\n",
    "\n",
    "for cls in women_category:\n",
    "    for f in tqdm(glob.glob(women_dataset_path + '/' + cls + '/**' + '/*.jpg')):\n",
    "        time.sleep(0.1)\n",
    "        # image_path: /data/Deepfashion-high/In-shop/img/MEN/Tees_Tanks/id_00000045/01_1_front.jpg\n",
    "        image_path = f\n",
    "        # print(image_path)\n",
    "        image_name = image_path.split('/')[8].split('.')[0].split('_')[2] # image_name: front\n",
    "        if image_name == 'front':\n",
    "            # print(image_name)\n",
    "            image_item = image_path.split('/')[7] # image_item: id_00000045\n",
    "            laundry_label = get_item_laundry_label(image_item) # laundry_label: Dry clean\n",
    "            if str(laundry_label) != 'None':\n",
    "                # bbox_path_name = image_path.split('/')\n",
    "                # bbox_name = bbox_path_name[4] + '/' + bbox_path_name[5] + '/' + bbox_path_name[6] + '/' + bbox_path_name[7] + '/' + bbox_path_name[8] \n",
    "                # # img/MEN/Tees_Tanks/id_00000045/01_1_front.jpg\n",
    "                # bbox = get_gt_bbox(bbox_name, list_bbox_inshop) # [110, 36, 188, 142]\n",
    "                image_save_name = laundry_image_path + '/' + laundry_label + '/' + image_item + '_' +  image_name + '_' + laundry_label + '.jpg'\n",
    "                # calculate_bbox_and_save_img(image_path, image_save_name, bbox)\n",
    "                img_read = Image.open(image_path)\n",
    "                img_read.save(image_save_name)\n",
    "\n"
   ]
  },
  {
   "cell_type": "code",
   "execution_count": null,
   "id": "abc94f51",
   "metadata": {},
   "outputs": [],
   "source": [
    "drop out"
   ]
  }
 ],
 "metadata": {
  "kernelspec": {
   "display_name": "Python 3",
   "language": "python",
   "name": "python3"
  },
  "language_info": {
   "codemirror_mode": {
    "name": "ipython",
    "version": 3
   },
   "file_extension": ".py",
   "mimetype": "text/x-python",
   "name": "python",
   "nbconvert_exporter": "python",
   "pygments_lexer": "ipython3",
   "version": "3.6.9"
  },
  "metadata": {
   "interpreter": {
    "hash": "31f2aee4e71d21fbe5cf8b01ff0e069b9275f58929596ceb00d14d90e3e16cd6"
   }
  }
 },
 "nbformat": 4,
 "nbformat_minor": 5
}
