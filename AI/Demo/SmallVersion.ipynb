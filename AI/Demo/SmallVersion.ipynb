{
 "cells": [
  {
   "cell_type": "code",
   "execution_count": 1,
   "id": "87d3f808",
   "metadata": {},
   "outputs": [],
   "source": [
    "import os\n",
    "import cv2\n",
    "import glob\n",
    "import time\n",
    "import numpy as np\n",
    "import matplotlib.pyplot as plt\n",
    "import seaborn as sns\n",
    "import pandas as pd\n",
    "import tensorflow as tf\n",
    "from tensorflow.python.client import device_lib\n",
    "from tensorflow.keras.applications import vgg16\n",
    "from tensorflow.keras.applications.vgg16 import VGG16\n",
    "from tensorflow.keras.layers import Conv2D, Dense, MaxPooling2D, Dropout, Flatten, Activation, BatchNormalization, LeakyReLU\n",
    "from tensorflow.keras.preprocessing.image import ImageDataGenerator, load_img, img_to_array, array_to_img\n",
    "from tensorflow.keras.models import load_model\n",
    "from sklearn.metrics import confusion_matrix, classification_report\n",
    "from keras.utils import plot_model\n",
    "from PIL import ImageFont, ImageDraw, Image\n",
    "%matplotlib inline"
   ]
  },
  {
   "cell_type": "code",
   "execution_count": 2,
   "id": "9cf36f7a",
   "metadata": {},
   "outputs": [
    {
     "name": "stdout",
     "output_type": "stream",
     "text": [
      "[PhysicalDevice(name='/physical_device:GPU:0', device_type='GPU')]\n",
      "[name: \"/device:CPU:0\"\n",
      "device_type: \"CPU\"\n",
      "memory_limit: 268435456\n",
      "locality {\n",
      "}\n",
      "incarnation: 11306588320417128290\n",
      ", name: \"/device:GPU:0\"\n",
      "device_type: \"GPU\"\n",
      "memory_limit: 14407166848\n",
      "locality {\n",
      "  bus_id: 1\n",
      "  links {\n",
      "  }\n",
      "}\n",
      "incarnation: 16784654608370900117\n",
      "physical_device_desc: \"device: 0, name: NVIDIA Tesla T4, pci bus id: 0001:00:00.0, compute capability: 7.5\"\n",
      "]\n"
     ]
    }
   ],
   "source": [
    "print(tf.config.list_physical_devices('GPU'))\n",
    "print(device_lib.list_local_devices())"
   ]
  },
  {
   "cell_type": "code",
   "execution_count": 3,
   "id": "b023a1c5",
   "metadata": {},
   "outputs": [],
   "source": [
    "# DeepFashion Dataset Path\n",
    "dataset_path = '/data/Deepfashion'\n",
    "train_path = dataset_path + '/train'\n",
    "validation_path = dataset_path + '/validation'\n",
    "test_path = dataset_path + '/test'"
   ]
  },
  {
   "cell_type": "code",
   "execution_count": 5,
   "id": "b22bd956",
   "metadata": {},
   "outputs": [],
   "source": [
    "img_row, img_col, img_channel = 224, 224, 3\n",
    "batch_size_train = 64\n",
    "batch_size_validation = 64\n",
    "epochs = 10\n",
    "category_nums = 22\n",
    "drop_rate = 0.2\n",
    "learning_rate = 0.001\n",
    "momentum_num = 0.99"
   ]
  },
  {
   "cell_type": "code",
   "execution_count": 6,
   "id": "0a07644e",
   "metadata": {},
   "outputs": [
    {
     "data": {
      "text/html": [
       "<div>\n",
       "<style scoped>\n",
       "    .dataframe tbody tr th:only-of-type {\n",
       "        vertical-align: middle;\n",
       "    }\n",
       "\n",
       "    .dataframe tbody tr th {\n",
       "        vertical-align: top;\n",
       "    }\n",
       "\n",
       "    .dataframe thead th {\n",
       "        text-align: right;\n",
       "    }\n",
       "</style>\n",
       "<table border=\"1\" class=\"dataframe\">\n",
       "  <thead>\n",
       "    <tr style=\"text-align: right;\">\n",
       "      <th></th>\n",
       "      <th>Unnamed: 0</th>\n",
       "      <th>filepath</th>\n",
       "      <th>class_name</th>\n",
       "    </tr>\n",
       "  </thead>\n",
       "  <tbody>\n",
       "    <tr>\n",
       "      <th>0</th>\n",
       "      <td>9500</td>\n",
       "      <td>/data/Deepfashion/train/Blazer/Open-Front_Shaw...</td>\n",
       "      <td>Blazer</td>\n",
       "    </tr>\n",
       "    <tr>\n",
       "      <th>1</th>\n",
       "      <td>9501</td>\n",
       "      <td>/data/Deepfashion/train/Blazer/Open-Front_Shaw...</td>\n",
       "      <td>Blazer</td>\n",
       "    </tr>\n",
       "    <tr>\n",
       "      <th>2</th>\n",
       "      <td>9502</td>\n",
       "      <td>/data/Deepfashion/train/Blazer/Open-Front_Shaw...</td>\n",
       "      <td>Blazer</td>\n",
       "    </tr>\n",
       "    <tr>\n",
       "      <th>3</th>\n",
       "      <td>9503</td>\n",
       "      <td>/data/Deepfashion/train/Blazer/Open-Front_Shaw...</td>\n",
       "      <td>Blazer</td>\n",
       "    </tr>\n",
       "    <tr>\n",
       "      <th>4</th>\n",
       "      <td>9504</td>\n",
       "      <td>/data/Deepfashion/train/Blazer/Open-Front_Shaw...</td>\n",
       "      <td>Blazer</td>\n",
       "    </tr>\n",
       "  </tbody>\n",
       "</table>\n",
       "</div>"
      ],
      "text/plain": [
       "   Unnamed: 0                                           filepath class_name\n",
       "0        9500  /data/Deepfashion/train/Blazer/Open-Front_Shaw...     Blazer\n",
       "1        9501  /data/Deepfashion/train/Blazer/Open-Front_Shaw...     Blazer\n",
       "2        9502  /data/Deepfashion/train/Blazer/Open-Front_Shaw...     Blazer\n",
       "3        9503  /data/Deepfashion/train/Blazer/Open-Front_Shaw...     Blazer\n",
       "4        9504  /data/Deepfashion/train/Blazer/Open-Front_Shaw...     Blazer"
      ]
     },
     "execution_count": 6,
     "metadata": {},
     "output_type": "execute_result"
    }
   ],
   "source": [
    "train_csv_path = '/home/azure/passion/AI/Demo/sampling_dataframe/demotrain_small.csv'\n",
    "train_df = pd.read_csv(train_csv_path)\n",
    "train_df.head()"
   ]
  },
  {
   "cell_type": "code",
   "execution_count": 7,
   "id": "37db7d6e",
   "metadata": {},
   "outputs": [
    {
     "name": "stdout",
     "output_type": "stream",
     "text": [
      "Found 22846 validated image filenames belonging to 22 classes.\n"
     ]
    }
   ],
   "source": [
    "train_datagen = ImageDataGenerator(\n",
    "    rescale=1./255\n",
    ")\n",
    "\n",
    "train_generator = train_datagen.flow_from_dataframe(\n",
    "    train_df,\n",
    "    x_col='filepath',\n",
    "    y_col='class_name',\n",
    "    target_size=(img_row, img_col),\n",
    "    batch_size=batch_size_train\n",
    ")"
   ]
  },
  {
   "cell_type": "code",
   "execution_count": 8,
   "id": "289d4b46",
   "metadata": {},
   "outputs": [
    {
     "name": "stdout",
     "output_type": "stream",
     "text": [
      "Blazer\n",
      "[('Sweater', 1614), ('Dress', 1335), ('Blazer', 1315), ('Skirt', 1292), ('Coat', 1221), ('Cardigan', 1209), ('Tank', 1202), ('Shorts', 1193), ('Blouse', 1150), ('Leggings', 1140), ('Jeans', 1136), ('Shirts', 930), ('Jumpsuit', 926), ('Jacket', 896), ('Romper', 848), ('Cutoffs', 829), ('Hoodie', 818), ('Parka', 818), ('Joggers', 778), ('Top', 768), ('Trunks', 756), ('Tee', 650)]\n",
      "22824\n"
     ]
    }
   ],
   "source": [
    "category_nums = {}\n",
    "\n",
    "print(train_generator.filenames[0].split('/')[4])\n",
    "\n",
    "for filename in train_generator.filenames:\n",
    "    class_name = filename.split('/')[4]\n",
    "    if class_name not in category_nums:\n",
    "        category_nums[class_name] = 0\n",
    "    else:\n",
    "        category_nums[class_name] += 1\n",
    "\n",
    "\n",
    "# print(category_nums)        \n",
    "print(sorted(category_nums.items(), key=lambda x: x[1], reverse=True))\n",
    "print(sum(category_nums.values()))"
   ]
  },
  {
   "cell_type": "code",
   "execution_count": 9,
   "id": "01169af7",
   "metadata": {},
   "outputs": [
    {
     "data": {
      "image/png": "[encoded data removed]",
      "text/plain": [
       "<Figure size 432x288 with 1 Axes>"
      ]
     },
     "metadata": {
      "needs_background": "light"
     },
     "output_type": "display_data"
    }
   ],
   "source": [
    "fig, ax = plt.subplots()\n",
    "plt.bar(list(category_nums.keys()), category_nums.values())\n",
    "plt.title(\"Class Distribution of train dataset\")\n",
    "plt.xticks(rotation=90)\n",
    "plt.tick_params(axis='x', width=5, labelsize=8)\n",
    "plt.grid(True)\n",
    "plt.show()"
   ]
  },
  {
   "cell_type": "code",
   "execution_count": 10,
   "id": "2ce576a8",
   "metadata": {},
   "outputs": [
    {
     "data": {
      "text/html": [
       "<div>\n",
       "<style scoped>\n",
       "    .dataframe tbody tr th:only-of-type {\n",
       "        vertical-align: middle;\n",
       "    }\n",
       "\n",
       "    .dataframe tbody tr th {\n",
       "        vertical-align: top;\n",
       "    }\n",
       "\n",
       "    .dataframe thead th {\n",
       "        text-align: right;\n",
       "    }\n",
       "</style>\n",
       "<table border=\"1\" class=\"dataframe\">\n",
       "  <thead>\n",
       "    <tr style=\"text-align: right;\">\n",
       "      <th></th>\n",
       "      <th>Unnamed: 0</th>\n",
       "      <th>filepath</th>\n",
       "      <th>class_name</th>\n",
       "    </tr>\n",
       "  </thead>\n",
       "  <tbody>\n",
       "    <tr>\n",
       "      <th>0</th>\n",
       "      <td>938</td>\n",
       "      <td>/data/Deepfashion/validation/Blazer/Oversized_...</td>\n",
       "      <td>Blazer</td>\n",
       "    </tr>\n",
       "    <tr>\n",
       "      <th>1</th>\n",
       "      <td>939</td>\n",
       "      <td>/data/Deepfashion/validation/Blazer/Oversized_...</td>\n",
       "      <td>Blazer</td>\n",
       "    </tr>\n",
       "    <tr>\n",
       "      <th>2</th>\n",
       "      <td>940</td>\n",
       "      <td>/data/Deepfashion/validation/Blazer/Oversized_...</td>\n",
       "      <td>Blazer</td>\n",
       "    </tr>\n",
       "    <tr>\n",
       "      <th>3</th>\n",
       "      <td>941</td>\n",
       "      <td>/data/Deepfashion/validation/Blazer/Oversized_...</td>\n",
       "      <td>Blazer</td>\n",
       "    </tr>\n",
       "    <tr>\n",
       "      <th>4</th>\n",
       "      <td>942</td>\n",
       "      <td>/data/Deepfashion/validation/Blazer/Oversized_...</td>\n",
       "      <td>Blazer</td>\n",
       "    </tr>\n",
       "  </tbody>\n",
       "</table>\n",
       "</div>"
      ],
      "text/plain": [
       "   Unnamed: 0                                           filepath class_name\n",
       "0         938  /data/Deepfashion/validation/Blazer/Oversized_...     Blazer\n",
       "1         939  /data/Deepfashion/validation/Blazer/Oversized_...     Blazer\n",
       "2         940  /data/Deepfashion/validation/Blazer/Oversized_...     Blazer\n",
       "3         941  /data/Deepfashion/validation/Blazer/Oversized_...     Blazer\n",
       "4         942  /data/Deepfashion/validation/Blazer/Oversized_...     Blazer"
      ]
     },
     "execution_count": 10,
     "metadata": {},
     "output_type": "execute_result"
    }
   ],
   "source": [
    "validation_csv_path = '/home/azure/passion/AI/Demo/sampling_dataframe/demovalidation_small.csv'\n",
    "validation_df = pd.read_csv(validation_csv_path)\n",
    "validation_df.head()"
   ]
  },
  {
   "cell_type": "code",
   "execution_count": 11,
   "id": "a0cf86eb",
   "metadata": {},
   "outputs": [
    {
     "name": "stdout",
     "output_type": "stream",
     "text": [
      "Found 2188 validated image filenames belonging to 22 classes.\n"
     ]
    }
   ],
   "source": [
    "validation_datagen = ImageDataGenerator(\n",
    "    rescale=1./255\n",
    ")\n",
    "\n",
    "validation_generator = validation_datagen.flow_from_dataframe(\n",
    "    validation_df,\n",
    "    x_col='filepath',\n",
    "    y_col='class_name',\n",
    "    target_size=(img_row, img_col),\n",
    "    batch_size=batch_size_validation\n",
    ")"
   ]
  },
  {
   "cell_type": "code",
   "execution_count": 12,
   "id": "b5e2a2e7",
   "metadata": {},
   "outputs": [
    {
     "name": "stdout",
     "output_type": "stream",
     "text": [
      "Blazer\n",
      "[('Shirts', 129), ('Blazer', 101), ('Blouse', 99), ('Cardigan', 99), ('Coat', 99), ('Cutoffs', 99), ('Dress', 99), ('Hoodie', 99), ('Jacket', 99), ('Jeans', 99), ('Joggers', 99), ('Jumpsuit', 99), ('Leggings', 99), ('Romper', 99), ('Shorts', 99), ('Skirt', 99), ('Sweater', 99), ('Tank', 99), ('Tee', 99), ('Top', 99), ('Parka', 97), ('Trunks', 57)]\n",
      "2166\n"
     ]
    }
   ],
   "source": [
    "category_nums = {}\n",
    "\n",
    "print(validation_generator.filenames[0].split('/')[4])\n",
    "\n",
    "for filename in validation_generator.filenames:\n",
    "    class_name = filename.split('/')[4]\n",
    "    if class_name not in category_nums:\n",
    "        category_nums[class_name] = 0\n",
    "    else:\n",
    "        category_nums[class_name] += 1\n",
    "\n",
    "\n",
    "# print(category_nums)        \n",
    "print(sorted(category_nums.items(), key=lambda x: x[1], reverse=True))\n",
    "print(sum(category_nums.values()))"
   ]
  },
  {
   "cell_type": "code",
   "execution_count": 13,
   "id": "cff65cef",
   "metadata": {},
   "outputs": [
    {
     "data": {
      "image/png": "[encoded data removed]",
      "text/plain": [
       "<Figure size 432x288 with 1 Axes>"
      ]
     },
     "metadata": {
      "needs_background": "light"
     },
     "output_type": "display_data"
    }
   ],
   "source": [
    "fig, ax = plt.subplots()\n",
    "plt.bar(list(category_nums.keys()), category_nums.values())\n",
    "plt.title(\"Class Distribution of validation dataset\")\n",
    "plt.xticks(rotation=90)\n",
    "plt.tick_params(axis='x', width=5, labelsize=8)\n",
    "plt.grid(True)\n",
    "plt.show()"
   ]
  },
  {
   "cell_type": "code",
   "execution_count": 14,
   "id": "e96ef430",
   "metadata": {},
   "outputs": [
    {
     "name": "stdout",
     "output_type": "stream",
     "text": [
      "class labels sampling keys:  ['Blazer', 'Blouse', 'Cardigan', 'Coat', 'Cutoffs', 'Dress', 'Hoodie', 'Jacket', 'Jeans', 'Joggers', 'Jumpsuit', 'Leggings', 'Parka', 'Romper', 'Shirts', 'Shorts', 'Skirt', 'Sweater', 'Tank', 'Tee', 'Top', 'Trunks']\n",
      "The number of class labels:  22\n",
      "The number of train images sampling:  22846\n",
      "The number of validation images sampling:  2188\n"
     ]
    }
   ],
   "source": [
    "class_labels_sampling = list(train_generator.class_indices.keys())\n",
    "print(\"class labels sampling keys: \", class_labels_sampling)\n",
    "print(\"The number of class labels: \", len(class_labels_sampling))\n",
    "num_imgs_train_sampling = len(train_generator.filenames)\n",
    "print(\"The number of train images sampling: \", num_imgs_train_sampling)\n",
    "num_imgs_validation_sampling = len(validation_generator.filenames)\n",
    "print(\"The number of validation images sampling: \", num_imgs_validation_sampling)"
   ]
  },
  {
   "cell_type": "code",
   "execution_count": 15,
   "id": "2d38d754",
   "metadata": {},
   "outputs": [
    {
     "name": "stdout",
     "output_type": "stream",
     "text": [
      "<tensorflow.python.keras.engine.input_layer.InputLayer object at 0x7facf8314c88> True\n",
      "<tensorflow.python.keras.layers.convolutional.Conv2D object at 0x7facf8180b00> True\n",
      "<tensorflow.python.keras.layers.convolutional.Conv2D object at 0x7facf815d898> True\n",
      "<tensorflow.python.keras.layers.pooling.MaxPooling2D object at 0x7facf8110c50> True\n",
      "<tensorflow.python.keras.layers.convolutional.Conv2D object at 0x7facf8115d68> True\n",
      "<tensorflow.python.keras.layers.convolutional.Conv2D object at 0x7facf8416e48> True\n",
      "<tensorflow.python.keras.layers.pooling.MaxPooling2D object at 0x7facf8122550> True\n",
      "<tensorflow.python.keras.layers.convolutional.Conv2D object at 0x7facf81159e8> True\n",
      "<tensorflow.python.keras.layers.convolutional.Conv2D object at 0x7facf812aef0> True\n",
      "<tensorflow.python.keras.layers.convolutional.Conv2D object at 0x7facf80b95f8> True\n",
      "<tensorflow.python.keras.layers.pooling.MaxPooling2D object at 0x7facf80b9f28> True\n",
      "<tensorflow.python.keras.layers.convolutional.Conv2D object at 0x7facf812af60> True\n",
      "<tensorflow.python.keras.layers.convolutional.Conv2D object at 0x7facf80bbc88> True\n",
      "<tensorflow.python.keras.layers.convolutional.Conv2D object at 0x7facf80c7390> True\n",
      "<tensorflow.python.keras.layers.pooling.MaxPooling2D object at 0x7facf80cd898> True\n",
      "<tensorflow.python.keras.layers.convolutional.Conv2D object at 0x7facf80d47f0> True\n",
      "<tensorflow.python.keras.layers.convolutional.Conv2D object at 0x7facf80d9780> True\n",
      "<tensorflow.python.keras.layers.convolutional.Conv2D object at 0x7facf80d9518> True\n",
      "<tensorflow.python.keras.layers.pooling.MaxPooling2D object at 0x7facf80e1630> True\n",
      "<tensorflow.python.keras.layers.pooling.GlobalAveragePooling2D object at 0x7facf80e5588> True\n"
     ]
    }
   ],
   "source": [
    "# Initialize tne VGG model\n",
    "vgg_conv = VGG16(\n",
    "    weights='imagenet', \n",
    "    include_top=False, \n",
    "    input_shape=(img_row, img_col, img_channel),\n",
    "    pooling='avg'\n",
    ")\n",
    "\n",
    "# Freeze all the layers\n",
    "for layer in vgg_conv.layers[:]:\n",
    "    layer.trainable = True\n",
    "\n",
    "# Check the trainable status of the individual layers\n",
    "for layer in vgg_conv.layers:\n",
    "    print(layer, layer.trainable)"
   ]
  },
  {
   "cell_type": "code",
   "execution_count": 16,
   "id": "3782f891",
   "metadata": {},
   "outputs": [],
   "source": [
    "def build_model(vgg_conv, category_nums, drop_rate, learning_rate, momentum_num):\n",
    "    \n",
    "    # Create the model\n",
    "    model = tf.keras.models.Sequential()\n",
    "\n",
    "    # Add the vgg convolutional base model\n",
    "    model.add(vgg_conv)\n",
    "\n",
    "    # Add new layers - Dense, BatchNorm, Activation\n",
    "    model.add(Flatten())\n",
    "    model.add(Dense(512))\n",
    "    model.add(Dropout(drop_rate))\n",
    "    model.add(Activation('relu'))\n",
    "    model.add(Dense(22))\n",
    "    model.add(Activation('softmax'))\n",
    "\n",
    "    # Compile the model with a SGD and a very slow learning rate\n",
    "    model.compile(\n",
    "        loss='categorical_crossentropy',\n",
    "        optimizer=tf.keras.optimizers.Adam(learning_rate=learning_rate),\n",
    "        metrics=['accuracy']\n",
    "    )\n",
    "\n",
    "    return model"
   ]
  },
  {
   "cell_type": "code",
   "execution_count": 17,
   "id": "1d2639cb",
   "metadata": {},
   "outputs": [],
   "source": [
    "model = build_model(vgg_conv, category_nums, drop_rate, learning_rate, momentum_num)"
   ]
  },
  {
   "cell_type": "code",
   "execution_count": 18,
   "id": "cccb2e87",
   "metadata": {},
   "outputs": [
    {
     "name": "stdout",
     "output_type": "stream",
     "text": [
      "Model: \"sequential\"\n",
      "_________________________________________________________________\n",
      "Layer (type)                 Output Shape              Param #   \n",
      "=================================================================\n",
      "vgg16 (Functional)           (None, 512)               14714688  \n",
      "_________________________________________________________________\n",
      "flatten (Flatten)            (None, 512)               0         \n",
      "_________________________________________________________________\n",
      "dense (Dense)                (None, 512)               262656    \n",
      "_________________________________________________________________\n",
      "dropout (Dropout)            (None, 512)               0         \n",
      "_________________________________________________________________\n",
      "activation (Activation)      (None, 512)               0         \n",
      "_________________________________________________________________\n",
      "dense_1 (Dense)              (None, 22)                11286     \n",
      "_________________________________________________________________\n",
      "activation_1 (Activation)    (None, 22)                0         \n",
      "=================================================================\n",
      "Total params: 14,988,630\n",
      "Trainable params: 14,988,630\n",
      "Non-trainable params: 0\n",
      "_________________________________________________________________\n"
     ]
    }
   ],
   "source": [
    "model.summary()"
   ]
  },
  {
   "cell_type": "code",
   "execution_count": 19,
   "id": "158d9ecb",
   "metadata": {},
   "outputs": [
    {
     "data": {
      "image/jpeg": "[encoded data removed]",
      "text/plain": [
       "<IPython.core.display.Image object>"
      ]
     },
     "execution_count": 19,
     "metadata": {},
     "output_type": "execute_result"
    }
   ],
   "source": [
    "# Show a summary of the model\n",
    "plot_model(model, to_file='/home/azure/passion/AI/Demo/output/model_summary/small_model.jpg')"
   ]
  },
  {
   "cell_type": "code",
   "execution_count": 20,
   "id": "a69c9c21",
   "metadata": {},
   "outputs": [],
   "source": [
    "def curves(model_histories, epochs):\n",
    "\n",
    "    acc = model_histories.history['accuracy']\n",
    "    val_acc = model_histories.history['val_accuracy']\n",
    "    loss = model_histories.history['loss']\n",
    "    val_loss = model_histories.history['val_loss']\n",
    "\n",
    "    # Plot\n",
    "    plt.plot(range(epochs), acc, 'mo', label='Training accuracy')\n",
    "    plt.plot(range(epochs), val_acc, 'b', label='Validation accuracy')\n",
    "    plt.title('Training and validation accuracy')\n",
    "    plt.legend()\n",
    "    plt.savefig('/home/azure/passion/AI/Demo/output/plot/small_model_accuracy.jpg')\n",
    "\n",
    "    plt.figure()\n",
    "    plt.plot(range(epochs), loss, 'mo', label='Training loss')\n",
    "    plt.plot(range(epochs), val_loss, 'b', label='Validation loss')\n",
    "    plt.title('Training and validation loss')\n",
    "    plt.legend()\n",
    "    plt.savefig('/home/azure/passion/AI/Demo/output/plot/small_model_loss.jpg')\n",
    "    plt.show()"
   ]
  },
  {
   "cell_type": "code",
   "execution_count": 21,
   "id": "a718d121",
   "metadata": {},
   "outputs": [],
   "source": [
    "def callback():\n",
    "    \n",
    "    # CSVLogger\n",
    "    filename = '/home/azure/passion/AI/Demo/output/csv_logger/small_model.csv'\n",
    "    csv_log = tf.keras.callbacks.CSVLogger(filename, separator=' ', append=False)\n",
    "    \n",
    "    # EarlyStopping\n",
    "#     early_stopping = tf.keras.callbacks.EarlyStopping(\n",
    "#         monitor='loss', patience=500, verbose=1, mode='min'\n",
    "#     )\n",
    "    \n",
    "    # ModelCheckpoint\n",
    "    check_point = tf.keras.callbacks.ModelCheckpoint(\n",
    "        filepath='/home/azure/passion/AI/Demo/output/checkpoint/small_model.ckpt',\n",
    "        save_best_only=True, save_weights_only=True, monitor='val_loss'\n",
    "    )\n",
    "    \n",
    "    callback_list = [csv_log, check_point]\n",
    "    return callback_list"
   ]
  },
  {
   "cell_type": "code",
   "execution_count": 22,
   "id": "67019dc2",
   "metadata": {},
   "outputs": [],
   "source": [
    "callback_list = callback()"
   ]
  },
  {
   "cell_type": "code",
   "execution_count": 24,
   "id": "3b3d7d31",
   "metadata": {},
   "outputs": [],
   "source": [
    "def fit_model(model, train_generator, validation_generator, batch_size_train, batch_size_validation, epochs):\n",
    "    \n",
    "    history = model.fit(\n",
    "        train_generator,\n",
    "        epochs=epochs,\n",
    "        steps_per_epoch=num_imgs_train_sampling//batch_size_train,\n",
    "        validation_data=validation_generator,\n",
    "        validation_steps=num_imgs_validation_sampling//batch_size_validation,\n",
    "        workers=0,\n",
    "        verbose=1,\n",
    "        callbacks=callback_list\n",
    "    )\n",
    "\n",
    "    score = model.evaluate(\n",
    "        validation_generator,\n",
    "        verbose=1\n",
    "    )\n",
    "\n",
    "    return model, history, score"
   ]
  },
  {
   "cell_type": "code",
   "execution_count": 25,
   "id": "f3f5642b",
   "metadata": {},
   "outputs": [
    {
     "name": "stdout",
     "output_type": "stream",
     "text": [
      "Epoch 1/10\n",
      "356/356 [==============================] - 350s 918ms/step - loss: 3.1198 - accuracy: 0.0659 - val_loss: 3.1225 - val_accuracy: 0.0666\n",
      "Epoch 2/10\n",
      "356/356 [==============================] - 310s 871ms/step - loss: 2.7828 - accuracy: 0.1460 - val_loss: 2.4517 - val_accuracy: 0.2293\n",
      "Epoch 3/10\n",
      "356/356 [==============================] - 313s 879ms/step - loss: 2.1015 - accuracy: 0.3252 - val_loss: 2.2256 - val_accuracy: 0.2969\n",
      "Epoch 4/10\n",
      "356/356 [==============================] - 316s 887ms/step - loss: 1.6580 - accuracy: 0.4554 - val_loss: 2.2803 - val_accuracy: 0.3585\n",
      "Epoch 5/10\n",
      "356/356 [==============================] - 315s 886ms/step - loss: 1.3716 - accuracy: 0.5524 - val_loss: 2.4732 - val_accuracy: 0.3585\n",
      "Epoch 6/10\n",
      "356/356 [==============================] - 316s 888ms/step - loss: 1.1634 - accuracy: 0.6159 - val_loss: 2.7507 - val_accuracy: 0.3957\n",
      "Epoch 7/10\n",
      "356/356 [==============================] - 316s 887ms/step - loss: 1.0111 - accuracy: 0.6596 - val_loss: 3.0086 - val_accuracy: 0.3906\n",
      "Epoch 8/10\n",
      "356/356 [==============================] - 315s 884ms/step - loss: 0.9024 - accuracy: 0.7007 - val_loss: 3.3250 - val_accuracy: 0.3938\n",
      "Epoch 9/10\n",
      "356/356 [==============================] - 314s 882ms/step - loss: 0.8075 - accuracy: 0.7324 - val_loss: 3.0943 - val_accuracy: 0.4118\n",
      "Epoch 10/10\n",
      "162/356 [============>.................] - ETA: 2:44 - loss: 0.6954 - accuracy: 0.7656"
     ]
    },
    {
     "ename": "KeyboardInterrupt",
     "evalue": "",
     "output_type": "error",
     "traceback": [
      "\u001b[0;31m---------------------------------------------------------------------------\u001b[0m",
      "\u001b[0;31mKeyboardInterrupt\u001b[0m                         Traceback (most recent call last)",
      "\u001b[0;32m<ipython-input-25-7d1c7180c68d>\u001b[0m in \u001b[0;36m<module>\u001b[0;34m\u001b[0m\n\u001b[0;32m----> 1\u001b[0;31m \u001b[0mmodel\u001b[0m\u001b[0;34m,\u001b[0m \u001b[0mhistory\u001b[0m\u001b[0;34m,\u001b[0m \u001b[0mscore\u001b[0m \u001b[0;34m=\u001b[0m \u001b[0mfit_model\u001b[0m\u001b[0;34m(\u001b[0m\u001b[0mmodel\u001b[0m\u001b[0;34m,\u001b[0m \u001b[0mtrain_generator\u001b[0m\u001b[0;34m,\u001b[0m \u001b[0mvalidation_generator\u001b[0m\u001b[0;34m,\u001b[0m \u001b[0mbatch_size_train\u001b[0m\u001b[0;34m,\u001b[0m \u001b[0mbatch_size_validation\u001b[0m\u001b[0;34m,\u001b[0m \u001b[0mepochs\u001b[0m\u001b[0;34m)\u001b[0m\u001b[0;34m\u001b[0m\u001b[0;34m\u001b[0m\u001b[0m\n\u001b[0m\u001b[1;32m      2\u001b[0m \u001b[0;34m\u001b[0m\u001b[0m\n\u001b[1;32m      3\u001b[0m \u001b[0;31m# Learning curves\u001b[0m\u001b[0;34m\u001b[0m\u001b[0;34m\u001b[0m\u001b[0;34m\u001b[0m\u001b[0m\n\u001b[1;32m      4\u001b[0m \u001b[0mcurves\u001b[0m\u001b[0;34m(\u001b[0m\u001b[0mhistory\u001b[0m\u001b[0;34m,\u001b[0m \u001b[0mepochs\u001b[0m\u001b[0;34m)\u001b[0m\u001b[0;34m\u001b[0m\u001b[0;34m\u001b[0m\u001b[0m\n\u001b[1;32m      5\u001b[0m \u001b[0mprint\u001b[0m\u001b[0;34m(\u001b[0m\u001b[0;34m'Validation Accuracy:{} \\nValidation Loss:{}'\u001b[0m\u001b[0;34m.\u001b[0m\u001b[0mformat\u001b[0m\u001b[0;34m(\u001b[0m\u001b[0mscore\u001b[0m\u001b[0;34m[\u001b[0m\u001b[0;36m1\u001b[0m\u001b[0;34m]\u001b[0m \u001b[0;34m,\u001b[0m\u001b[0mscore\u001b[0m\u001b[0;34m[\u001b[0m\u001b[0;36m0\u001b[0m\u001b[0;34m]\u001b[0m\u001b[0;34m)\u001b[0m\u001b[0;34m)\u001b[0m\u001b[0;34m\u001b[0m\u001b[0;34m\u001b[0m\u001b[0m\n",
      "\u001b[0;32m<ipython-input-24-760e433a1102>\u001b[0m in \u001b[0;36mfit_model\u001b[0;34m(model, train_generator, validation_generator, batch_size_train, batch_size_validation, epochs)\u001b[0m\n\u001b[1;32m      9\u001b[0m         \u001b[0mworkers\u001b[0m\u001b[0;34m=\u001b[0m\u001b[0;36m0\u001b[0m\u001b[0;34m,\u001b[0m\u001b[0;34m\u001b[0m\u001b[0;34m\u001b[0m\u001b[0m\n\u001b[1;32m     10\u001b[0m         \u001b[0mverbose\u001b[0m\u001b[0;34m=\u001b[0m\u001b[0;36m1\u001b[0m\u001b[0;34m,\u001b[0m\u001b[0;34m\u001b[0m\u001b[0;34m\u001b[0m\u001b[0m\n\u001b[0;32m---> 11\u001b[0;31m         \u001b[0mcallbacks\u001b[0m\u001b[0;34m=\u001b[0m\u001b[0mcallback_list\u001b[0m\u001b[0;34m\u001b[0m\u001b[0;34m\u001b[0m\u001b[0m\n\u001b[0m\u001b[1;32m     12\u001b[0m     )\n\u001b[1;32m     13\u001b[0m \u001b[0;34m\u001b[0m\u001b[0m\n",
      "\u001b[0;32m~/passion/venv/lib/python3.6/site-packages/tensorflow/python/keras/engine/training.py\u001b[0m in \u001b[0;36mfit\u001b[0;34m(self, x, y, batch_size, epochs, verbose, callbacks, validation_split, validation_data, shuffle, class_weight, sample_weight, initial_epoch, steps_per_epoch, validation_steps, validation_batch_size, validation_freq, max_queue_size, workers, use_multiprocessing)\u001b[0m\n\u001b[1;32m   1098\u001b[0m                 _r=1):\n\u001b[1;32m   1099\u001b[0m               \u001b[0mcallbacks\u001b[0m\u001b[0;34m.\u001b[0m\u001b[0mon_train_batch_begin\u001b[0m\u001b[0;34m(\u001b[0m\u001b[0mstep\u001b[0m\u001b[0;34m)\u001b[0m\u001b[0;34m\u001b[0m\u001b[0;34m\u001b[0m\u001b[0m\n\u001b[0;32m-> 1100\u001b[0;31m               \u001b[0mtmp_logs\u001b[0m \u001b[0;34m=\u001b[0m \u001b[0mself\u001b[0m\u001b[0;34m.\u001b[0m\u001b[0mtrain_function\u001b[0m\u001b[0;34m(\u001b[0m\u001b[0miterator\u001b[0m\u001b[0;34m)\u001b[0m\u001b[0;34m\u001b[0m\u001b[0;34m\u001b[0m\u001b[0m\n\u001b[0m\u001b[1;32m   1101\u001b[0m               \u001b[0;32mif\u001b[0m \u001b[0mdata_handler\u001b[0m\u001b[0;34m.\u001b[0m\u001b[0mshould_sync\u001b[0m\u001b[0;34m:\u001b[0m\u001b[0;34m\u001b[0m\u001b[0;34m\u001b[0m\u001b[0m\n\u001b[1;32m   1102\u001b[0m                 \u001b[0mcontext\u001b[0m\u001b[0;34m.\u001b[0m\u001b[0masync_wait\u001b[0m\u001b[0;34m(\u001b[0m\u001b[0;34m)\u001b[0m\u001b[0;34m\u001b[0m\u001b[0;34m\u001b[0m\u001b[0m\n",
      "\u001b[0;32m~/passion/venv/lib/python3.6/site-packages/tensorflow/python/eager/def_function.py\u001b[0m in \u001b[0;36m__call__\u001b[0;34m(self, *args, **kwds)\u001b[0m\n\u001b[1;32m    826\u001b[0m     \u001b[0mtracing_count\u001b[0m \u001b[0;34m=\u001b[0m \u001b[0mself\u001b[0m\u001b[0;34m.\u001b[0m\u001b[0mexperimental_get_tracing_count\u001b[0m\u001b[0;34m(\u001b[0m\u001b[0;34m)\u001b[0m\u001b[0;34m\u001b[0m\u001b[0;34m\u001b[0m\u001b[0m\n\u001b[1;32m    827\u001b[0m     \u001b[0;32mwith\u001b[0m \u001b[0mtrace\u001b[0m\u001b[0;34m.\u001b[0m\u001b[0mTrace\u001b[0m\u001b[0;34m(\u001b[0m\u001b[0mself\u001b[0m\u001b[0;34m.\u001b[0m\u001b[0m_name\u001b[0m\u001b[0;34m)\u001b[0m \u001b[0;32mas\u001b[0m \u001b[0mtm\u001b[0m\u001b[0;34m:\u001b[0m\u001b[0;34m\u001b[0m\u001b[0;34m\u001b[0m\u001b[0m\n\u001b[0;32m--> 828\u001b[0;31m       \u001b[0mresult\u001b[0m \u001b[0;34m=\u001b[0m \u001b[0mself\u001b[0m\u001b[0;34m.\u001b[0m\u001b[0m_call\u001b[0m\u001b[0;34m(\u001b[0m\u001b[0;34m*\u001b[0m\u001b[0margs\u001b[0m\u001b[0;34m,\u001b[0m \u001b[0;34m**\u001b[0m\u001b[0mkwds\u001b[0m\u001b[0;34m)\u001b[0m\u001b[0;34m\u001b[0m\u001b[0;34m\u001b[0m\u001b[0m\n\u001b[0m\u001b[1;32m    829\u001b[0m       \u001b[0mcompiler\u001b[0m \u001b[0;34m=\u001b[0m \u001b[0;34m\"xla\"\u001b[0m \u001b[0;32mif\u001b[0m \u001b[0mself\u001b[0m\u001b[0;34m.\u001b[0m\u001b[0m_experimental_compile\u001b[0m \u001b[0;32melse\u001b[0m \u001b[0;34m\"nonXla\"\u001b[0m\u001b[0;34m\u001b[0m\u001b[0;34m\u001b[0m\u001b[0m\n\u001b[1;32m    830\u001b[0m       \u001b[0mnew_tracing_count\u001b[0m \u001b[0;34m=\u001b[0m \u001b[0mself\u001b[0m\u001b[0;34m.\u001b[0m\u001b[0mexperimental_get_tracing_count\u001b[0m\u001b[0;34m(\u001b[0m\u001b[0;34m)\u001b[0m\u001b[0;34m\u001b[0m\u001b[0;34m\u001b[0m\u001b[0m\n",
      "\u001b[0;32m~/passion/venv/lib/python3.6/site-packages/tensorflow/python/eager/def_function.py\u001b[0m in \u001b[0;36m_call\u001b[0;34m(self, *args, **kwds)\u001b[0m\n\u001b[1;32m    853\u001b[0m       \u001b[0;31m# In this case we have created variables on the first call, so we run the\u001b[0m\u001b[0;34m\u001b[0m\u001b[0;34m\u001b[0m\u001b[0;34m\u001b[0m\u001b[0m\n\u001b[1;32m    854\u001b[0m       \u001b[0;31m# defunned version which is guaranteed to never create variables.\u001b[0m\u001b[0;34m\u001b[0m\u001b[0;34m\u001b[0m\u001b[0;34m\u001b[0m\u001b[0m\n\u001b[0;32m--> 855\u001b[0;31m       \u001b[0;32mreturn\u001b[0m \u001b[0mself\u001b[0m\u001b[0;34m.\u001b[0m\u001b[0m_stateless_fn\u001b[0m\u001b[0;34m(\u001b[0m\u001b[0;34m*\u001b[0m\u001b[0margs\u001b[0m\u001b[0;34m,\u001b[0m \u001b[0;34m**\u001b[0m\u001b[0mkwds\u001b[0m\u001b[0;34m)\u001b[0m  \u001b[0;31m# pylint: disable=not-callable\u001b[0m\u001b[0;34m\u001b[0m\u001b[0;34m\u001b[0m\u001b[0m\n\u001b[0m\u001b[1;32m    856\u001b[0m     \u001b[0;32melif\u001b[0m \u001b[0mself\u001b[0m\u001b[0;34m.\u001b[0m\u001b[0m_stateful_fn\u001b[0m \u001b[0;32mis\u001b[0m \u001b[0;32mnot\u001b[0m \u001b[0;32mNone\u001b[0m\u001b[0;34m:\u001b[0m\u001b[0;34m\u001b[0m\u001b[0;34m\u001b[0m\u001b[0m\n\u001b[1;32m    857\u001b[0m       \u001b[0;31m# Release the lock early so that multiple threads can perform the call\u001b[0m\u001b[0;34m\u001b[0m\u001b[0;34m\u001b[0m\u001b[0;34m\u001b[0m\u001b[0m\n",
      "\u001b[0;32m~/passion/venv/lib/python3.6/site-packages/tensorflow/python/eager/function.py\u001b[0m in \u001b[0;36m__call__\u001b[0;34m(self, *args, **kwargs)\u001b[0m\n\u001b[1;32m   2941\u001b[0m        filtered_flat_args) = self._maybe_define_function(args, kwargs)\n\u001b[1;32m   2942\u001b[0m     return graph_function._call_flat(\n\u001b[0;32m-> 2943\u001b[0;31m         filtered_flat_args, captured_inputs=graph_function.captured_inputs)  # pylint: disable=protected-access\n\u001b[0m\u001b[1;32m   2944\u001b[0m \u001b[0;34m\u001b[0m\u001b[0m\n\u001b[1;32m   2945\u001b[0m   \u001b[0;34m@\u001b[0m\u001b[0mproperty\u001b[0m\u001b[0;34m\u001b[0m\u001b[0;34m\u001b[0m\u001b[0m\n",
      "\u001b[0;32m~/passion/venv/lib/python3.6/site-packages/tensorflow/python/eager/function.py\u001b[0m in \u001b[0;36m_call_flat\u001b[0;34m(self, args, captured_inputs, cancellation_manager)\u001b[0m\n\u001b[1;32m   1917\u001b[0m       \u001b[0;31m# No tape is watching; skip to running the function.\u001b[0m\u001b[0;34m\u001b[0m\u001b[0;34m\u001b[0m\u001b[0;34m\u001b[0m\u001b[0m\n\u001b[1;32m   1918\u001b[0m       return self._build_call_outputs(self._inference_function.call(\n\u001b[0;32m-> 1919\u001b[0;31m           ctx, args, cancellation_manager=cancellation_manager))\n\u001b[0m\u001b[1;32m   1920\u001b[0m     forward_backward = self._select_forward_and_backward_functions(\n\u001b[1;32m   1921\u001b[0m         \u001b[0margs\u001b[0m\u001b[0;34m,\u001b[0m\u001b[0;34m\u001b[0m\u001b[0;34m\u001b[0m\u001b[0m\n",
      "\u001b[0;32m~/passion/venv/lib/python3.6/site-packages/tensorflow/python/eager/function.py\u001b[0m in \u001b[0;36mcall\u001b[0;34m(self, ctx, args, cancellation_manager)\u001b[0m\n\u001b[1;32m    558\u001b[0m               \u001b[0minputs\u001b[0m\u001b[0;34m=\u001b[0m\u001b[0margs\u001b[0m\u001b[0;34m,\u001b[0m\u001b[0;34m\u001b[0m\u001b[0;34m\u001b[0m\u001b[0m\n\u001b[1;32m    559\u001b[0m               \u001b[0mattrs\u001b[0m\u001b[0;34m=\u001b[0m\u001b[0mattrs\u001b[0m\u001b[0;34m,\u001b[0m\u001b[0;34m\u001b[0m\u001b[0;34m\u001b[0m\u001b[0m\n\u001b[0;32m--> 560\u001b[0;31m               ctx=ctx)\n\u001b[0m\u001b[1;32m    561\u001b[0m         \u001b[0;32melse\u001b[0m\u001b[0;34m:\u001b[0m\u001b[0;34m\u001b[0m\u001b[0;34m\u001b[0m\u001b[0m\n\u001b[1;32m    562\u001b[0m           outputs = execute.execute_with_cancellation(\n",
      "\u001b[0;32m~/passion/venv/lib/python3.6/site-packages/tensorflow/python/eager/execute.py\u001b[0m in \u001b[0;36mquick_execute\u001b[0;34m(op_name, num_outputs, inputs, attrs, ctx, name)\u001b[0m\n\u001b[1;32m     58\u001b[0m     \u001b[0mctx\u001b[0m\u001b[0;34m.\u001b[0m\u001b[0mensure_initialized\u001b[0m\u001b[0;34m(\u001b[0m\u001b[0;34m)\u001b[0m\u001b[0;34m\u001b[0m\u001b[0;34m\u001b[0m\u001b[0m\n\u001b[1;32m     59\u001b[0m     tensors = pywrap_tfe.TFE_Py_Execute(ctx._handle, device_name, op_name,\n\u001b[0;32m---> 60\u001b[0;31m                                         inputs, attrs, num_outputs)\n\u001b[0m\u001b[1;32m     61\u001b[0m   \u001b[0;32mexcept\u001b[0m \u001b[0mcore\u001b[0m\u001b[0;34m.\u001b[0m\u001b[0m_NotOkStatusException\u001b[0m \u001b[0;32mas\u001b[0m \u001b[0me\u001b[0m\u001b[0;34m:\u001b[0m\u001b[0;34m\u001b[0m\u001b[0;34m\u001b[0m\u001b[0m\n\u001b[1;32m     62\u001b[0m     \u001b[0;32mif\u001b[0m \u001b[0mname\u001b[0m \u001b[0;32mis\u001b[0m \u001b[0;32mnot\u001b[0m \u001b[0;32mNone\u001b[0m\u001b[0;34m:\u001b[0m\u001b[0;34m\u001b[0m\u001b[0;34m\u001b[0m\u001b[0m\n",
      "\u001b[0;31mKeyboardInterrupt\u001b[0m: "
     ]
    }
   ],
   "source": [
    "model, history, score = fit_model(model, train_generator, validation_generator, batch_size_train, batch_size_validation, epochs)\n",
    "\n",
    "# Learning curves\n",
    "curves(history, epochs)\n",
    "print('Validation Accuracy:{} \\nValidation Loss:{}'.format(score[1] ,score[0]))\n",
    "\n",
    "# Model Save\n",
    "model.save('/home/azure/passion/AI/Demo/output/small_model.h5')"
   ]
  },
  {
   "cell_type": "code",
   "execution_count": null,
   "id": "a1ee56af",
   "metadata": {},
   "outputs": [],
   "source": []
  }
 ],
 "metadata": {
  "kernelspec": {
   "display_name": "Python 3",
   "language": "python",
   "name": "python3"
  },
  "language_info": {
   "codemirror_mode": {
    "name": "ipython",
    "version": 3
   },
   "file_extension": ".py",
   "mimetype": "text/x-python",
   "name": "python",
   "nbconvert_exporter": "python",
   "pygments_lexer": "ipython3",
   "version": "3.6.9"
  }
 },
 "nbformat": 4,
 "nbformat_minor": 5
}
