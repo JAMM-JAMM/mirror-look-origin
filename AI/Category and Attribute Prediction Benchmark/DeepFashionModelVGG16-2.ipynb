{
 "cells": [
  {
   "cell_type": "code",
   "execution_count": 1,
   "id": "6559e06a",
   "metadata": {},
   "outputs": [],
   "source": [
    "import tensorflow as tf\n",
    "from tensorflow.python.client import device_lib\n",
    "from tensorflow.keras.applications import vgg16\n",
    "from tensorflow.keras.applications.vgg16 import VGG16\n",
    "from tensorflow.keras.layers import Conv2D, Dense, MaxPooling2D, Dropout, Flatten, Activation, BatchNormalization, LeakyReLU\n",
    "from tensorflow.keras.preprocessing.image import ImageDataGenerator\n",
    "import matplotlib.pyplot as plt\n",
    "import numpy as np\n",
    "from sklearn.metrics import confusion_matrix, classification_report\n",
    "import seaborn as sns\n",
    "import pandas as pd\n",
    "import cv2\n",
    "import glob\n",
    "from keras.utils import plot_model"
   ]
  },
  {
   "cell_type": "code",
   "execution_count": 2,
   "id": "53546bf3",
   "metadata": {},
   "outputs": [
    {
     "name": "stdout",
     "output_type": "stream",
     "text": [
      "[PhysicalDevice(name='/physical_device:GPU:0', device_type='GPU')]\n",
      "[name: \"/device:CPU:0\"\n",
      "device_type: \"CPU\"\n",
      "memory_limit: 268435456\n",
      "locality {\n",
      "}\n",
      "incarnation: 7727054168433541077\n",
      ", name: \"/device:GPU:0\"\n",
      "device_type: \"GPU\"\n",
      "memory_limit: 14648653952\n",
      "locality {\n",
      "  bus_id: 1\n",
      "  links {\n",
      "  }\n",
      "}\n",
      "incarnation: 1446540749225749106\n",
      "physical_device_desc: \"device: 0, name: NVIDIA Tesla T4, pci bus id: 0001:00:00.0, compute capability: 7.5\"\n",
      "]\n"
     ]
    }
   ],
   "source": [
    "print(tf.config.list_physical_devices('GPU'))\n",
    "print(device_lib.list_local_devices())"
   ]
  },
  {
   "cell_type": "code",
   "execution_count": 3,
   "id": "3421cc50",
   "metadata": {},
   "outputs": [],
   "source": [
    "# DeepFashion Dataset Path\n",
    "train_path = '/home/azure/passion/AI/Category and Attribute Prediction Benchmark/dataset/train'\n",
    "validation_path = '/home/azure/passion/AI/Category and Attribute Prediction Benchmark/dataset/validation'\n",
    "test_path = '/home/azure/passion/AI/Category and Attribute Prediction Benchmark/dataset/test'\n",
    "\n",
    "# Setting the Parameters & Hyperparameters\n",
    "\n",
    "# 1\n",
    "# img_row, img_col, img_channel = 224, 224, 3\n",
    "# batch_size_train = 32\n",
    "# batch_size_validation = 32\n",
    "# epochs = 10\n",
    "# category_nums = 50\n",
    "# drop_rate = 0.25\n",
    "# learning_rate = 0.001\n",
    "# momentum_num = 0.99\n",
    "# plot_num_rows = 3\n",
    "# plot_num_rows = 3\n",
    "\n",
    "# # 2\n",
    "# img_row, img_col, img_channel = 224, 224, 3\n",
    "# batch_size_train = 64\n",
    "# batch_size_validation = 64\n",
    "# epochs = 20\n",
    "# category_nums = 50\n",
    "# drop_rate = 0.25\n",
    "# learning_rate = 0.0001\n",
    "# momentum_num = 0.99\n",
    "# plot_num_rows = 3\n",
    "# plot_num_rows = 3\n",
    "\n",
    "# 3\n",
    "img_row, img_col, img_channel = 224, 224, 3\n",
    "batch_size_train = 64\n",
    "batch_size_validation = 64\n",
    "epochs = 3\n",
    "category_nums = 50\n",
    "drop_rate = 0.25\n",
    "learning_rate = 0.0001\n",
    "momentum_num = 0.99\n",
    "plot_num_rows = 3\n",
    "plot_num_rows = 3"
   ]
  },
  {
   "cell_type": "code",
   "execution_count": 4,
   "id": "03afda3a",
   "metadata": {},
   "outputs": [
    {
     "name": "stdout",
     "output_type": "stream",
     "text": [
      "<tensorflow.python.keras.engine.input_layer.InputLayer object at 0x7f2cfeb76a58> False\n",
      "<tensorflow.python.keras.layers.convolutional.Conv2D object at 0x7f2d9453ed68> False\n",
      "<tensorflow.python.keras.layers.convolutional.Conv2D object at 0x7f2cf0163630> False\n",
      "<tensorflow.python.keras.layers.pooling.MaxPooling2D object at 0x7f2cf0113e48> False\n",
      "<tensorflow.python.keras.layers.convolutional.Conv2D object at 0x7f2cf011bc50> False\n",
      "<tensorflow.python.keras.layers.convolutional.Conv2D object at 0x7f2cf011b3c8> False\n",
      "<tensorflow.python.keras.layers.pooling.MaxPooling2D object at 0x7f2cf0123dd8> False\n",
      "<tensorflow.python.keras.layers.convolutional.Conv2D object at 0x7f2cf012af28> False\n",
      "<tensorflow.python.keras.layers.convolutional.Conv2D object at 0x7f2cf00b0048> False\n",
      "<tensorflow.python.keras.layers.convolutional.Conv2D object at 0x7f2cf00b73c8> False\n",
      "<tensorflow.python.keras.layers.pooling.MaxPooling2D object at 0x7f2cf00ba8d0> False\n",
      "<tensorflow.python.keras.layers.convolutional.Conv2D object at 0x7f2cf00c6828> False\n",
      "<tensorflow.python.keras.layers.convolutional.Conv2D object at 0x7f2cf00c6240> False\n",
      "<tensorflow.python.keras.layers.convolutional.Conv2D object at 0x7f2cf0123828> False\n",
      "<tensorflow.python.keras.layers.pooling.MaxPooling2D object at 0x7f2cf00d1668> False\n",
      "<tensorflow.python.keras.layers.convolutional.Conv2D object at 0x7f2cf00d1f98> False\n",
      "<tensorflow.python.keras.layers.convolutional.Conv2D object at 0x7f2cf00c8b00> False\n",
      "<tensorflow.python.keras.layers.convolutional.Conv2D object at 0x7f2cf00df358> False\n",
      "<tensorflow.python.keras.layers.pooling.MaxPooling2D object at 0x7f2cf00daba8> False\n"
     ]
    }
   ],
   "source": [
    "# Initialize the VGG model\n",
    "vgg_conv = VGG16(weights='imagenet', include_top=False, input_shape=(img_row, img_col, img_channel))\n",
    "\n",
    "# Freeze all the layers\n",
    "for layer in vgg_conv.layers[:]:\n",
    "    layer.trainable = False\n",
    "\n",
    "# Check the trainable status of the individual layers\n",
    "for layer in vgg_conv.layers:\n",
    "    print(layer, layer.trainable)"
   ]
  },
  {
   "cell_type": "code",
   "execution_count": 5,
   "id": "baf678a4",
   "metadata": {},
   "outputs": [],
   "source": [
    "def build_model(vgg_conv, category_nums, drop_rate, learning_rate, momentum_num):\n",
    "    \n",
    "    # Create the model\n",
    "    model = tf.keras.models.Sequential()\n",
    "\n",
    "    # Add the vgg convolutional base model\n",
    "    model.add(vgg_conv)\n",
    "\n",
    "    # Add new layers\n",
    "    model.add(Flatten())\n",
    "    model.add(Dense(1024, activation='relu'))\n",
    "    model.add(BatchNormalization())\n",
    "    model.add(Dropout(drop_rate))\n",
    "    model.add(Dense(category_nums, activation='softmax'))\n",
    "\n",
    "    # Compile the model with a SGD and a very slow learning rate\n",
    "    model.compile(\n",
    "        loss='binary_crossentropy',\n",
    "        optimizer=tf.keras.optimizers.Adam(learning_rate=learning_rate),\n",
    "        metrics=['accuracy']\n",
    "    )\n",
    "\n",
    "    return model"
   ]
  },
  {
   "cell_type": "code",
   "execution_count": 6,
   "id": "57c13bb2",
   "metadata": {},
   "outputs": [],
   "source": [
    "model = build_model(vgg_conv, category_nums, drop_rate, learning_rate, momentum_num)"
   ]
  },
  {
   "cell_type": "code",
   "execution_count": 7,
   "id": "85fc9432",
   "metadata": {},
   "outputs": [
    {
     "name": "stdout",
     "output_type": "stream",
     "text": [
      "Model: \"sequential\"\n",
      "_________________________________________________________________\n",
      "Layer (type)                 Output Shape              Param #   \n",
      "=================================================================\n",
      "vgg16 (Functional)           (None, 7, 7, 512)         14714688  \n",
      "_________________________________________________________________\n",
      "flatten (Flatten)            (None, 25088)             0         \n",
      "_________________________________________________________________\n",
      "dense (Dense)                (None, 1024)              25691136  \n",
      "_________________________________________________________________\n",
      "batch_normalization (BatchNo (None, 1024)              4096      \n",
      "_________________________________________________________________\n",
      "dropout (Dropout)            (None, 1024)              0         \n",
      "_________________________________________________________________\n",
      "dense_1 (Dense)              (None, 50)                51250     \n",
      "=================================================================\n",
      "Total params: 40,461,170\n",
      "Trainable params: 25,744,434\n",
      "Non-trainable params: 14,716,736\n",
      "_________________________________________________________________\n"
     ]
    }
   ],
   "source": [
    "model.summary()"
   ]
  },
  {
   "cell_type": "code",
   "execution_count": 8,
   "id": "27b6e79b",
   "metadata": {},
   "outputs": [
    {
     "data": {
      "image/jpeg": "[encoded data removed]",
      "text/plain": [
       "<IPython.core.display.Image object>"
      ]
     },
     "execution_count": 8,
     "metadata": {},
     "output_type": "execute_result"
    }
   ],
   "source": [
    "# Show a summary of the model\n",
    "plot_model(model, to_file='/home/azure/passion/AI/Category and Attribute Prediction Benchmark/dataset/plot/model_summary.jpg')"
   ]
  },
  {
   "cell_type": "code",
   "execution_count": 9,
   "id": "b5637c90",
   "metadata": {},
   "outputs": [],
   "source": [
    "def data_load(train_path, validation_path, test_path, batch_size_train, batch_size_validation, img_row, img_col):\n",
    "\n",
    "    # Train\n",
    "    imgdatagen_train = ImageDataGenerator(\n",
    "        rescale=1./255\n",
    "    )\n",
    "\n",
    "    train_dataset = imgdatagen_train.flow_from_directory(\n",
    "        train_path,\n",
    "        target_size=(img_row, img_col),\n",
    "        batch_size=batch_size_train,\n",
    "        classes = ['Anorak', 'Blazer', 'Blouse', 'Bomber', 'Button-Down', 'Cardigan', 'Flannel', 'Halter', 'Henley', 'Hoodie', 'Jacket', 'Jersey', 'Parka', 'Peacoat', 'Poncho', 'Sweater', 'Tank', 'Tee', 'Top', 'Turtleneck', 'Capris', 'Chinos', 'Culottes', 'Cutoffs', 'Gauchos', 'Jeans', 'Jeggings', 'Jodhpurs', 'Joggers', 'Leggings', 'Sarong', 'Shorts', 'Skirt', 'Sweatpants', 'Sweatshorts', 'Trunks', 'Caftan', 'Cape', 'Coat', 'Coverup', 'Dress', 'Jumpsuit', 'Kaftan', 'Kimono', 'Nightdress', 'Onesie', 'Robe', 'Romper', 'Shirtdress', 'Sundress'],\n",
    "        shuffle=True\n",
    "    )\n",
    "\n",
    "    # Validation\n",
    "    imgdatagen_validatioin = ImageDataGenerator(\n",
    "        rescale=1./255\n",
    "    )\n",
    "\n",
    "    validation_dataset = imgdatagen_validatioin.flow_from_directory(\n",
    "        validation_path,\n",
    "        target_size=(img_row, img_col),\n",
    "        batch_size=batch_size_validation,\n",
    "        classes = ['Anorak', 'Blazer', 'Blouse', 'Bomber', 'Button-Down', 'Cardigan', 'Flannel', 'Halter', 'Henley', 'Hoodie', 'Jacket', 'Jersey', 'Parka', 'Peacoat', 'Poncho', 'Sweater', 'Tank', 'Tee', 'Top', 'Turtleneck', 'Capris', 'Chinos', 'Culottes', 'Cutoffs', 'Gauchos', 'Jeans', 'Jeggings', 'Jodhpurs', 'Joggers', 'Leggings', 'Sarong', 'Shorts', 'Skirt', 'Sweatpants', 'Sweatshorts', 'Trunks', 'Caftan', 'Cape', 'Coat', 'Coverup', 'Dress', 'Jumpsuit', 'Kaftan', 'Kimono', 'Nightdress', 'Onesie', 'Robe', 'Romper', 'Shirtdress', 'Sundress'],\n",
    "        shuffle=True\n",
    "    )\n",
    "\n",
    "    # Test\n",
    "    imgdatagen_test = ImageDataGenerator(\n",
    "        rescale=1./255\n",
    "    )\n",
    "    \n",
    "    test_dataset = imgdatagen_test.flow_from_directory(\n",
    "        test_path,\n",
    "        target_size=(img_row, img_col),\n",
    "        classes = ['Anorak', 'Blazer', 'Blouse', 'Bomber', 'Button-Down', 'Cardigan', 'Flannel', 'Halter', 'Henley', 'Hoodie', 'Jacket', 'Jersey', 'Parka', 'Peacoat', 'Poncho', 'Sweater', 'Tank', 'Tee', 'Top', 'Turtleneck', 'Capris', 'Chinos', 'Culottes', 'Cutoffs', 'Gauchos', 'Jeans', 'Jeggings', 'Jodhpurs', 'Joggers', 'Leggings', 'Sarong', 'Shorts', 'Skirt', 'Sweatpants', 'Sweatshorts', 'Trunks', 'Caftan', 'Cape', 'Coat', 'Coverup', 'Dress', 'Jumpsuit', 'Kaftan', 'Kimono', 'Nightdress', 'Onesie', 'Robe', 'Romper', 'Shirtdress', 'Sundress'],\n",
    "        shuffle=True\n",
    "    )\n",
    "    \n",
    "    return train_dataset, validation_dataset, test_dataset"
   ]
  },
  {
   "cell_type": "code",
   "execution_count": 10,
   "id": "55759f2c",
   "metadata": {},
   "outputs": [
    {
     "name": "stdout",
     "output_type": "stream",
     "text": [
      "Found 209222 images belonging to 50 classes.\n",
      "Found 40000 images belonging to 50 classes.\n",
      "Found 40000 images belonging to 50 classes.\n",
      "(64, 224, 224, 3)\n",
      "(64, 50)\n",
      "(64, 224, 224, 3)\n",
      "(64, 50)\n",
      "(32, 224, 224, 3)\n",
      "(32, 50)\n"
     ]
    }
   ],
   "source": [
    "train_dataset, validation_dataset, test_dataset = data_load(train_path, validation_path, test_path, batch_size_train, batch_size_validation, img_row, img_col)\n",
    "\n",
    "X_train, y_train = next(train_dataset)\n",
    "\n",
    "print(X_train.shape)\n",
    "print(y_train.shape)\n",
    "\n",
    "X_val, y_val = next(validation_dataset)\n",
    "\n",
    "print(X_val.shape)\n",
    "print(y_val.shape)\n",
    "\n",
    "X_test, y_test = next(test_dataset)\n",
    "\n",
    "print(X_test.shape)\n",
    "print(y_test.shape)"
   ]
  },
  {
   "cell_type": "code",
   "execution_count": 11,
   "id": "ce370b63",
   "metadata": {},
   "outputs": [
    {
     "name": "stdout",
     "output_type": "stream",
     "text": [
      "class_labels:  ['Anorak', 'Blazer', 'Blouse', 'Bomber', 'Button-Down', 'Cardigan', 'Flannel', 'Halter', 'Henley', 'Hoodie', 'Jacket', 'Jersey', 'Parka', 'Peacoat', 'Poncho', 'Sweater', 'Tank', 'Tee', 'Top', 'Turtleneck', 'Capris', 'Chinos', 'Culottes', 'Cutoffs', 'Gauchos', 'Jeans', 'Jeggings', 'Jodhpurs', 'Joggers', 'Leggings', 'Sarong', 'Shorts', 'Skirt', 'Sweatpants', 'Sweatshorts', 'Trunks', 'Caftan', 'Cape', 'Coat', 'Coverup', 'Dress', 'Jumpsuit', 'Kaftan', 'Kimono', 'Nightdress', 'Onesie', 'Robe', 'Romper', 'Shirtdress', 'Sundress']\n",
      "Length of class_labels:  50\n",
      "Number of train images:  209222\n",
      "Number of validation images:  40000\n",
      "Number of test images:  40000\n"
     ]
    }
   ],
   "source": [
    "class_labels = list(validation_dataset.class_indices.keys())\n",
    "num_imgs_validation = len(validation_dataset.filenames)\n",
    "num_imgs_train = len(train_dataset.filenames)\n",
    "num_imgs_test = len(test_dataset.filenames)\n",
    "print(\"class_labels: \", class_labels)\n",
    "print(\"Length of class_labels: \", len(class_labels))\n",
    "print(\"Number of train images: \", num_imgs_train)\n",
    "print(\"Number of validation images: \", num_imgs_validation)\n",
    "print(\"Number of test images: \", num_imgs_test)"
   ]
  },
  {
   "cell_type": "code",
   "execution_count": 12,
   "id": "18511395",
   "metadata": {},
   "outputs": [],
   "source": [
    "# Plotting Accuracy & Loss Curves\n",
    "def curves(model_histories, epochs):\n",
    "\n",
    "    acc = model_histories.history['accuracy']\n",
    "    val_acc = model_histories.history['val_accuracy']\n",
    "    loss = model_histories.history['loss']\n",
    "    val_loss = model_histories.history['val_loss']\n",
    "\n",
    "    # Plot\n",
    "    plt.plot(range(epochs), acc, 'mo', label='Training accuracy')\n",
    "    plt.plot(range(epochs), val_acc, 'b', label='Validation accuracy')\n",
    "    plt.title('Training and validation accuracy')\n",
    "    plt.legend()\n",
    "    plt.savefig('/home/azure/passion/AI/Category and Attribute Prediction Benchmark/dataset/plot/DeepFashionVGG16CurvesAcc3.jpg')\n",
    "\n",
    "    plt.figure()\n",
    "    plt.plot(range(epochs), loss, 'mo', label='Training loss')\n",
    "    plt.plot(range(epochs), val_loss, 'b', label='Validation loss')\n",
    "    plt.title('Training and validation loss')\n",
    "    plt.legend()\n",
    "    plt.savefig('/home/azure/passion/AI/Category and Attribute Prediction Benchmark/dataset/plot/DeepFashionVGG16CurvesLoss3.jpg')\n",
    "    plt.show()"
   ]
  },
  {
   "cell_type": "code",
   "execution_count": 13,
   "id": "1d0c81e0",
   "metadata": {},
   "outputs": [],
   "source": [
    "# Register Callbacks\n",
    "def callback():\n",
    "    \n",
    "    # CSVLogger\n",
    "    filename = '/home/azure/passion/AI/Category and Attribute Prediction Benchmark/dataset/output/model_train3.csv'\n",
    "    csv_log = tf.keras.callbacks.CSVLogger(filename, separator=' ', append=False)\n",
    "    \n",
    "    # EarlyStopping\n",
    "    early_stopping = tf.keras.callbacks.EarlyStopping(\n",
    "        monitor='loss', patience=500, verbose=1, mode='min'\n",
    "    )\n",
    "    \n",
    "    # ModelCheckpoint\n",
    "    check_point = tf.keras.callbacks.ModelCheckpoint(\n",
    "        filepath='/home/azure/passion/AI/Category and Attribute Prediction Benchmark/dataset/output/my_checkpoint3.ckpt',\n",
    "        save_best_only=True, save_weights_only=True, monitor='val_loss'\n",
    "    )\n",
    "    \n",
    "    callback_list = [csv_log, early_stopping, check_point]\n",
    "    return callback_list"
   ]
  },
  {
   "cell_type": "code",
   "execution_count": 14,
   "id": "5977235e",
   "metadata": {},
   "outputs": [],
   "source": [
    "callback_list = callback()"
   ]
  },
  {
   "cell_type": "code",
   "execution_count": 15,
   "id": "b7d2aa24",
   "metadata": {},
   "outputs": [],
   "source": [
    "# Fine-tune the model - Training\n",
    "def fit_model(model, train_dataset, X_val, y_val, batch_size_train, batch_size_validation, epochs):\n",
    "    \n",
    "    history = model.fit(\n",
    "        train_dataset,\n",
    "        epochs=epochs,\n",
    "        validation_data=(X_val, y_val),\n",
    "        workers=0,\n",
    "        verbose=1,\n",
    "        callbacks=callback_list\n",
    "    )\n",
    "\n",
    "    score = model.evaluate(\n",
    "        validation_dataset,\n",
    "        verbose=1\n",
    "    )\n",
    "\n",
    "    return model, history, score"
   ]
  },
  {
   "cell_type": "code",
   "execution_count": 16,
   "id": "701be2cf",
   "metadata": {
    "scrolled": false
   },
   "outputs": [
    {
     "name": "stdout",
     "output_type": "stream",
     "text": [
      "Epoch 1/3\n",
      "3270/3270 [==============================] - 999s 302ms/step - loss: 0.2748 - accuracy: 0.5200 - val_loss: 0.0406 - val_accuracy: 0.6250\n",
      "Epoch 2/3\n",
      "3270/3270 [==============================] - 993s 304ms/step - loss: 0.0368 - accuracy: 0.6683 - val_loss: 0.0396 - val_accuracy: 0.6406\n",
      "Epoch 3/3\n",
      "3270/3270 [==============================] - 991s 303ms/step - loss: 0.0335 - accuracy: 0.6964 - val_loss: 0.0389 - val_accuracy: 0.6250\n",
      "625/625 [==============================] - 163s 260ms/step - loss: 0.0362 - accuracy: 0.6684\n"
     ]
    },
    {
     "data": {
      "image/png": "[encoded data removed]",
      "text/plain": [
       "<Figure size 432x288 with 1 Axes>"
      ]
     },
     "metadata": {
      "needs_background": "light"
     },
     "output_type": "display_data"
    },
    {
     "data": {
      "image/png": "[encoded data removed]",
      "text/plain": [
       "<Figure size 432x288 with 1 Axes>"
      ]
     },
     "metadata": {
      "needs_background": "light"
     },
     "output_type": "display_data"
    },
    {
     "name": "stdout",
     "output_type": "stream",
     "text": [
      "Validation Accuracy:0.66839998960495 \n",
      "Validation Loss:0.03615553677082062\n"
     ]
    }
   ],
   "source": [
    "model, history, score = fit_model(model, train_dataset, X_val, y_val, batch_size_train, batch_size_validation, epochs)\n",
    "\n",
    "# Learning curves\n",
    "curves(history, epochs)\n",
    "print('Validation Accuracy:{} \\nValidation Loss:{}'.format(score[1] ,score[0]))"
   ]
  },
  {
   "cell_type": "code",
   "execution_count": 22,
   "id": "d2a042ae",
   "metadata": {},
   "outputs": [],
   "source": [
    "# Prediction\n",
    "model.load_weights('/home/azure/passion/AI/Category and Attribute Prediction Benchmark/dataset/output/my_checkpoint3.ckpt')\n",
    "Y_pred = model.predict(test_dataset)"
   ]
  },
  {
   "cell_type": "code",
   "execution_count": 25,
   "id": "64e934da",
   "metadata": {},
   "outputs": [
    {
     "name": "stdout",
     "output_type": "stream",
     "text": [
      "[ 0  0  0 ... 47 47 47]\n",
      "40000\n"
     ]
    }
   ],
   "source": [
    "testY_labels = test_dataset.labels\n",
    "print(testY_labels)\n",
    "print(len(testY_labels))"
   ]
  },
  {
   "cell_type": "code",
   "execution_count": 19,
   "id": "a35f6add",
   "metadata": {},
   "outputs": [
    {
     "name": "stdout",
     "output_type": "stream",
     "text": [
      "1/1 [==============================] - 0s 172ms/step - loss: 0.0456 - accuracy: 0.5312\n",
      "loss:  0.0456390380859375\n",
      "acc:  0.53125\n"
     ]
    }
   ],
   "source": [
    "model.load_weights('/home/azure/passion/AI/Category and Attribute Prediction Benchmark/dataset/output/my_checkpoint3.ckpt')\n",
    "\n",
    "loss, acc = model.evaluate(X_test, y_test)\n",
    "print(\"loss: \", loss)\n",
    "print(\"acc: \", acc)"
   ]
  },
  {
   "cell_type": "code",
   "execution_count": null,
   "id": "3d2b19a8",
   "metadata": {},
   "outputs": [],
   "source": [
    "# Tensorflow Lite\n",
    "converter = tf.lite.TFLiteConverter.from_keras_model(model)\n",
    "tflite_model = converter.convert()\n",
    "open('/home/azure/passion/AI/Category and Attribute Prediction Benchmark/dataset/output/my_checkpoint3.tflite', 'wb').write(tflite_model)"
   ]
  }
 ],
 "metadata": {
  "kernelspec": {
   "display_name": "Python 3",
   "language": "python",
   "name": "python3"
  },
  "language_info": {
   "codemirror_mode": {
    "name": "ipython",
    "version": 3
   },
   "file_extension": ".py",
   "mimetype": "text/x-python",
   "name": "python",
   "nbconvert_exporter": "python",
   "pygments_lexer": "ipython3",
   "version": "3.6.9"
  }
 },
 "nbformat": 4,
 "nbformat_minor": 5
}
