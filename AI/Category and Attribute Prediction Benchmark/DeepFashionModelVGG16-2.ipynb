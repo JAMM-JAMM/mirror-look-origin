{
 "cells": [
  {
   "cell_type": "code",
   "execution_count": 1,
   "id": "6559e06a",
   "metadata": {},
   "outputs": [],
   "source": [
    "# Import Packages\n",
    "import tensorflow as tf\n",
    "from tensorflow.python.client import device_lib\n",
    "from tensorflow.keras.applications import vgg16\n",
    "from tensorflow.keras.applications.vgg16 import VGG16\n",
    "from tensorflow.keras.layers import Conv2D, Dense, MaxPooling2D, Dropout, Flatten, Activation, BatchNormalization, LeakyReLU\n",
    "from tensorflow.keras.preprocessing.image import ImageDataGenerator\n",
    "import matplotlib.pyplot as plt\n",
    "import numpy as np\n",
    "from sklearn.metrics import confusion_matrix, classification_report\n",
    "import seaborn as sns\n",
    "import pandas as pd\n",
    "import cv2\n",
    "import glob\n",
    "from keras.utils import plot_model\n",
    "%matplotlib inline"
   ]
  },
  {
   "cell_type": "code",
   "execution_count": 2,
   "id": "53546bf3",
   "metadata": {},
   "outputs": [
    {
     "name": "stdout",
     "output_type": "stream",
     "text": [
      "[PhysicalDevice(name='/physical_device:GPU:0', device_type='GPU')]\n",
      "[name: \"/device:CPU:0\"\n",
      "device_type: \"CPU\"\n",
      "memory_limit: 268435456\n",
      "locality {\n",
      "}\n",
      "incarnation: 8775202056795117844\n",
      ", name: \"/device:GPU:0\"\n",
      "device_type: \"GPU\"\n",
      "memory_limit: 14648653952\n",
      "locality {\n",
      "  bus_id: 1\n",
      "  links {\n",
      "  }\n",
      "}\n",
      "incarnation: 15822330781336101497\n",
      "physical_device_desc: \"device: 0, name: NVIDIA Tesla T4, pci bus id: 0001:00:00.0, compute capability: 7.5\"\n",
      "]\n"
     ]
    }
   ],
   "source": [
    "print(tf.config.list_physical_devices('GPU'))\n",
    "print(device_lib.list_local_devices())"
   ]
  },
  {
   "cell_type": "code",
   "execution_count": 3,
   "id": "3421cc50",
   "metadata": {},
   "outputs": [],
   "source": [
    "# DeepFashion Dataset Path\n",
    "train_path = '/home/azure/passion/AI/Category and Attribute Prediction Benchmark/dataset/train'\n",
    "validation_path = '/home/azure/passion/AI/Category and Attribute Prediction Benchmark/dataset/validation'\n",
    "test_path = '/home/azure/passion/AI/Category and Attribute Prediction Benchmark/dataset/test'\n",
    "\n",
    "# Setting the Parameters & Hyperparameters\n",
    "\n",
    "# 1\n",
    "# img_row, img_col, img_channel = 224, 224, 3\n",
    "# batch_size_train = 32\n",
    "# batch_size_validation = 32\n",
    "# epochs = 10\n",
    "# category_nums = 50\n",
    "# drop_rate = 0.25\n",
    "# learning_rate = 0.001\n",
    "# momentum_num = 0.99\n",
    "# plot_num_rows = 3\n",
    "# plot_num_rows = 3\n",
    "\n",
    "# # 2\n",
    "# img_row, img_col, img_channel = 224, 224, 3\n",
    "# batch_size_train = 64\n",
    "# batch_size_validation = 64\n",
    "# epochs = 20\n",
    "# category_nums = 50\n",
    "# drop_rate = 0.25\n",
    "# learning_rate = 0.0001\n",
    "# momentum_num = 0.99\n",
    "# plot_num_rows = 3\n",
    "# plot_num_rows = 3\n",
    "\n",
    "# # 3\n",
    "# img_row, img_col, img_channel = 224, 224, 3\n",
    "# batch_size_train = 64\n",
    "# batch_size_validation = 64\n",
    "# epochs = 3\n",
    "# category_nums = 50\n",
    "# drop_rate = 0.25\n",
    "# learning_rate = 0.0001\n",
    "# momentum_num = 0.99\n",
    "# plot_num_rows = 3\n",
    "# plot_num_rows = 3\n",
    "\n",
    "# 4\n",
    "img_row, img_col, img_channel = 224, 224, 3\n",
    "batch_size_train = 64\n",
    "batch_size_validation = 64\n",
    "epochs = 10\n",
    "category_nums = 50\n",
    "drop_rate = 0.25\n",
    "learning_rate = 0.0001\n",
    "momentum_num = 0.99\n",
    "plot_num_rows = 3\n",
    "plot_num_rows = 3"
   ]
  },
  {
   "cell_type": "code",
   "execution_count": 4,
   "id": "03afda3a",
   "metadata": {},
   "outputs": [
    {
     "name": "stdout",
     "output_type": "stream",
     "text": [
      "<tensorflow.python.keras.engine.input_layer.InputLayer object at 0x7ffb3f9766d8> True\n",
      "<tensorflow.python.keras.layers.convolutional.Conv2D object at 0x7ffb3018fb00> True\n",
      "<tensorflow.python.keras.layers.convolutional.Conv2D object at 0x7ffb3015b898> True\n",
      "<tensorflow.python.keras.layers.pooling.MaxPooling2D object at 0x7ffb30114c50> True\n",
      "<tensorflow.python.keras.layers.convolutional.Conv2D object at 0x7ffb3011ed68> True\n",
      "<tensorflow.python.keras.layers.convolutional.Conv2D object at 0x7ffb3011e518> True\n",
      "<tensorflow.python.keras.layers.pooling.MaxPooling2D object at 0x7ffb30125fd0> True\n",
      "<tensorflow.python.keras.layers.convolutional.Conv2D object at 0x7ffb300b2198> True\n",
      "<tensorflow.python.keras.layers.convolutional.Conv2D object at 0x7ffb300b2f28> True\n",
      "<tensorflow.python.keras.layers.convolutional.Conv2D object at 0x7ffb301289b0> True\n",
      "<tensorflow.python.keras.layers.pooling.MaxPooling2D object at 0x7ffb300b8dd8> True\n",
      "<tensorflow.python.keras.layers.convolutional.Conv2D object at 0x7ffb300bff28> True\n",
      "<tensorflow.python.keras.layers.convolutional.Conv2D object at 0x7ffb300bf400> True\n",
      "<tensorflow.python.keras.layers.convolutional.Conv2D object at 0x7ffb300b2240> True\n",
      "<tensorflow.python.keras.layers.pooling.MaxPooling2D object at 0x7ffb300cb4e0> True\n",
      "<tensorflow.python.keras.layers.convolutional.Conv2D object at 0x7ffb300cb0b8> True\n",
      "<tensorflow.python.keras.layers.convolutional.Conv2D object at 0x7ffb30128198> True\n",
      "<tensorflow.python.keras.layers.convolutional.Conv2D object at 0x7ffb300d4a20> True\n",
      "<tensorflow.python.keras.layers.pooling.MaxPooling2D object at 0x7ffb300e0438> True\n"
     ]
    }
   ],
   "source": [
    "# Initialize the VGG model\n",
    "vgg_conv = VGG16(weights='imagenet', include_top=False, input_shape=(img_row, img_col, img_channel))\n",
    "\n",
    "# Freeze all the layers\n",
    "for layer in vgg_conv.layers[:]:\n",
    "    layer.trainable = True\n",
    "\n",
    "# Check the trainable status of the individual layers\n",
    "for layer in vgg_conv.layers:\n",
    "    print(layer, layer.trainable)"
   ]
  },
  {
   "cell_type": "code",
   "execution_count": 5,
   "id": "baf678a4",
   "metadata": {},
   "outputs": [],
   "source": [
    "def build_model(vgg_conv, category_nums, drop_rate, learning_rate, momentum_num):\n",
    "    \n",
    "    # Create the model\n",
    "    model = tf.keras.models.Sequential()\n",
    "\n",
    "    # Add the vgg convolutional base model\n",
    "    model.add(vgg_conv)\n",
    "\n",
    "    # Add new layers\n",
    "    model.add(Flatten())\n",
    "    model.add(Dense(1024, activation='relu'))\n",
    "    model.add(BatchNormalization())\n",
    "    model.add(Dropout(drop_rate))\n",
    "    model.add(Dense(category_nums, activation='softmax'))\n",
    "\n",
    "    # Compile the model with a SGD and a very slow learning rate\n",
    "    model.compile(\n",
    "        loss='categorical_crossentropy',\n",
    "        optimizer=tf.keras.optimizers.Adam(learning_rate=learning_rate),\n",
    "        metrics=['accuracy']\n",
    "    )\n",
    "\n",
    "    return model"
   ]
  },
  {
   "cell_type": "code",
   "execution_count": 6,
   "id": "57c13bb2",
   "metadata": {},
   "outputs": [],
   "source": [
    "model = build_model(vgg_conv, category_nums, drop_rate, learning_rate, momentum_num)"
   ]
  },
  {
   "cell_type": "code",
   "execution_count": 7,
   "id": "85fc9432",
   "metadata": {},
   "outputs": [
    {
     "name": "stdout",
     "output_type": "stream",
     "text": [
      "Model: \"sequential\"\n",
      "_________________________________________________________________\n",
      "Layer (type)                 Output Shape              Param #   \n",
      "=================================================================\n",
      "vgg16 (Functional)           (None, 7, 7, 512)         14714688  \n",
      "_________________________________________________________________\n",
      "flatten (Flatten)            (None, 25088)             0         \n",
      "_________________________________________________________________\n",
      "dense (Dense)                (None, 1024)              25691136  \n",
      "_________________________________________________________________\n",
      "batch_normalization (BatchNo (None, 1024)              4096      \n",
      "_________________________________________________________________\n",
      "dropout (Dropout)            (None, 1024)              0         \n",
      "_________________________________________________________________\n",
      "dense_1 (Dense)              (None, 50)                51250     \n",
      "=================================================================\n",
      "Total params: 40,461,170\n",
      "Trainable params: 40,459,122\n",
      "Non-trainable params: 2,048\n",
      "_________________________________________________________________\n"
     ]
    }
   ],
   "source": [
    "model.summary()"
   ]
  },
  {
   "cell_type": "code",
   "execution_count": 8,
   "id": "27b6e79b",
   "metadata": {},
   "outputs": [
    {
     "data": {
      "image/jpeg": "[encoded data removed]",
      "text/plain": [
       "<IPython.core.display.Image object>"
      ]
     },
     "execution_count": 8,
     "metadata": {},
     "output_type": "execute_result"
    }
   ],
   "source": [
    "# Show a summary of the model\n",
    "plot_model(model, to_file='/home/azure/passion/AI/Category and Attribute Prediction Benchmark/dataset/plot/model_summary4.jpg')"
   ]
  },
  {
   "cell_type": "code",
   "execution_count": 9,
   "id": "b5637c90",
   "metadata": {},
   "outputs": [],
   "source": [
    "def data_load(train_path, validation_path, test_path, batch_size_train, batch_size_validation, img_row, img_col):\n",
    "\n",
    "    # Train\n",
    "    imgdatagen_train = ImageDataGenerator(\n",
    "        rescale=1./255\n",
    "    )\n",
    "\n",
    "    train_dataset = imgdatagen_train.flow_from_directory(\n",
    "        train_path,\n",
    "        target_size=(img_row, img_col),\n",
    "        batch_size=batch_size_train,\n",
    "        class_mode='categorical',\n",
    "        shuffle=True\n",
    "    )\n",
    "\n",
    "    # Validation\n",
    "    imgdatagen_validatioin = ImageDataGenerator(\n",
    "        rescale=1./255\n",
    "    )\n",
    "\n",
    "    validation_dataset = imgdatagen_validatioin.flow_from_directory(\n",
    "        validation_path,\n",
    "        target_size=(img_row, img_col),\n",
    "        batch_size=batch_size_validation,\n",
    "        class_mode='categorical',\n",
    "        shuffle=True\n",
    "    )\n",
    "\n",
    "    # Test\n",
    "    imgdatagen_test = ImageDataGenerator(\n",
    "        rescale=1./255\n",
    "    )\n",
    "    \n",
    "    test_dataset = imgdatagen_test.flow_from_directory(\n",
    "        test_path,\n",
    "        target_size=(img_row, img_col),\n",
    "        class_mode='categorical',\n",
    "        shuffle=True\n",
    "    )\n",
    "    \n",
    "    return train_dataset, validation_dataset, test_dataset"
   ]
  },
  {
   "cell_type": "code",
   "execution_count": 10,
   "id": "55759f2c",
   "metadata": {},
   "outputs": [
    {
     "name": "stdout",
     "output_type": "stream",
     "text": [
      "Found 209222 images belonging to 50 classes.\n",
      "Found 40000 images belonging to 50 classes.\n",
      "Found 40000 images belonging to 50 classes.\n",
      "(64, 224, 224, 3)\n",
      "(64, 50)\n",
      "[0. 0. 0. 0. 0. 0. 0. 0. 0. 0. 0. 0. 0. 0. 0. 0. 0. 0. 0. 0. 0. 0. 0. 0.\n",
      " 0. 0. 0. 0. 0. 0. 0. 0. 0. 0. 0. 0. 0. 0. 0. 0. 0. 0. 1. 0. 0. 0. 0. 0.\n",
      " 0. 0.]\n",
      "(64, 224, 224, 3)\n",
      "(64, 50)\n",
      "(32, 224, 224, 3)\n",
      "(32, 50)\n"
     ]
    }
   ],
   "source": [
    "train_dataset, validation_dataset, test_dataset = data_load(train_path, validation_path, test_path, batch_size_train, batch_size_validation, img_row, img_col)\n",
    "\n",
    "X_train, y_train = next(train_dataset)\n",
    "\n",
    "print(X_train.shape)\n",
    "print(y_train.shape)\n",
    "print(y_train[1,:])\n",
    "\n",
    "X_val, y_val = next(validation_dataset)\n",
    "\n",
    "print(X_val.shape)\n",
    "print(y_val.shape)\n",
    "\n",
    "X_test, y_test = next(test_dataset)\n",
    "\n",
    "print(X_test.shape)\n",
    "print(y_test.shape)"
   ]
  },
  {
   "cell_type": "code",
   "execution_count": 11,
   "id": "d3573c96",
   "metadata": {},
   "outputs": [
    {
     "name": "stdout",
     "output_type": "stream",
     "text": [
      "class indices of train dataset:  {'Anorak': 0, 'Blazer': 1, 'Blouse': 2, 'Bomber': 3, 'Button-Down': 4, 'Caftan': 5, 'Cape': 6, 'Capris': 7, 'Cardigan': 8, 'Chinos': 9, 'Coat': 10, 'Coverup': 11, 'Culottes': 12, 'Cutoffs': 13, 'Dress': 14, 'Flannel': 15, 'Gauchos': 16, 'Halter': 17, 'Henley': 18, 'Hoodie': 19, 'Jacket': 20, 'Jeans': 21, 'Jeggings': 22, 'Jersey': 23, 'Jodhpurs': 24, 'Joggers': 25, 'Jumpsuit': 26, 'Kaftan': 27, 'Kimono': 28, 'Leggings': 29, 'Nightdress': 30, 'Onesie': 31, 'Parka': 32, 'Peacoat': 33, 'Poncho': 34, 'Robe': 35, 'Romper': 36, 'Sarong': 37, 'Shirtdress': 38, 'Shorts': 39, 'Skirt': 40, 'Sundress': 41, 'Sweater': 42, 'Sweatpants': 43, 'Sweatshorts': 44, 'Tank': 45, 'Tee': 46, 'Top': 47, 'Trunks': 48, 'Turtleneck': 49}\n"
     ]
    }
   ],
   "source": [
    "# Class Distribution of Train dataset\n",
    "train_dataset_class_indices = train_dataset.class_indices\n",
    "print(\"class indices of train dataset: \",train_dataset_class_indices)"
   ]
  },
  {
   "cell_type": "code",
   "execution_count": 12,
   "id": "5431192e",
   "metadata": {},
   "outputs": [
    {
     "name": "stdout",
     "output_type": "stream",
     "text": [
      "[('Dress', 52137), ('Tee', 26652), ('Blouse', 17751), ('Shorts', 14194), ('Tank', 11203), ('Skirt', 10793), ('Cardigan', 9605), ('Sweater', 9516), ('Jacket', 7547), ('Top', 7269), ('Romper', 5424), ('Blazer', 5407), ('Jeans', 5125), ('Jumpsuit', 4463), ('Leggings', 3570), ('Joggers', 3259), ('Hoodie', 2909), ('Sweatpants', 2223), ('Kimono', 1636), ('Coat', 1538), ('Cutoffs', 1176), ('Sweatshorts', 780), ('Poncho', 578), ('Jersey', 533), ('Henley', 520), ('Parka', 490), ('Jeggings', 442), ('Chinos', 373), ('Culottes', 358), ('Trunks', 286), ('Button-Down', 242), ('Bomber', 228), ('Flannel', 223), ('Anorak', 120), ('Robe', 106), ('Turtleneck', 98), ('Kaftan', 97), ('Peacoat', 62), ('Capris', 56), ('Onesie', 46), ('Caftan', 37), ('Gauchos', 34), ('Jodhpurs', 31), ('Sarong', 17), ('Coverup', 12), ('Halter', 10)]\n",
      "209176\n"
     ]
    }
   ],
   "source": [
    "# print(train_dataset.filenames[:20])\n",
    "\n",
    "category_names = ['Anorak', 'Blazer', 'Blouse', 'Bomber', 'Button-Down', 'Cardigan', 'Flannel', 'Halter', 'Henley', 'Hoodie', 'Jacket', 'Jersey', 'Parka', 'Peacoat', 'Poncho', 'Sweater', 'Tank', 'Tee', 'Top', 'Turtleneck', 'Capris', 'Chinos', 'Culottes', 'Cutoffs', 'Gauchos', 'Jeans', 'Jeggings', 'Jodhpurs', 'Joggers', 'Leggings', 'Sarong', 'Shorts', 'Skirt', 'Sweatpants', 'Sweatshorts', 'Trunks', 'Caftan', 'Cape', 'Coat', 'Coverup', 'Dress', 'Jumpsuit', 'Kaftan', 'Kimono', 'Nightdress', 'Onesie', 'Robe', 'Romper', 'Shirtdress', 'Sundress']\n",
    "\n",
    "category_nums = {}\n",
    "\n",
    "for filename in train_dataset.filenames:\n",
    "    class_name = filename.split('/')[0]\n",
    "    if class_name not in category_nums:\n",
    "        category_nums[class_name] = 0\n",
    "    else:\n",
    "        category_nums[class_name] += 1\n",
    "\n",
    "\n",
    "# print(category_nums)        \n",
    "print(sorted(category_nums.items(), key=lambda x: x[1], reverse=True))\n",
    "print(sum(category_nums.values()))\n"
   ]
  },
  {
   "cell_type": "code",
   "execution_count": 13,
   "id": "9ccc6991",
   "metadata": {},
   "outputs": [
    {
     "data": {
      "image/png": "[encoded data removed]",
      "text/plain": [
       "<Figure size 432x288 with 1 Axes>"
      ]
     },
     "metadata": {
      "needs_background": "light"
     },
     "output_type": "display_data"
    }
   ],
   "source": [
    "fig, ax = plt.subplots()\n",
    "plt.bar(list(category_nums.keys()), category_nums.values())\n",
    "plt.title(\"Class Distribution of Train dataset\")\n",
    "plt.xticks(rotation=90)\n",
    "plt.tick_params(axis='x', width=5, labelsize=8)\n",
    "plt.grid(True)\n",
    "plt.show()"
   ]
  },
  {
   "cell_type": "code",
   "execution_count": 14,
   "id": "8e46924c",
   "metadata": {},
   "outputs": [
    {
     "name": "stdout",
     "output_type": "stream",
     "text": [
      "class indices of validation dataset:  {'Anorak': 0, 'Blazer': 1, 'Blouse': 2, 'Bomber': 3, 'Button-Down': 4, 'Caftan': 5, 'Cape': 6, 'Capris': 7, 'Cardigan': 8, 'Chinos': 9, 'Coat': 10, 'Coverup': 11, 'Culottes': 12, 'Cutoffs': 13, 'Dress': 14, 'Flannel': 15, 'Gauchos': 16, 'Halter': 17, 'Henley': 18, 'Hoodie': 19, 'Jacket': 20, 'Jeans': 21, 'Jeggings': 22, 'Jersey': 23, 'Jodhpurs': 24, 'Joggers': 25, 'Jumpsuit': 26, 'Kaftan': 27, 'Kimono': 28, 'Leggings': 29, 'Nightdress': 30, 'Onesie': 31, 'Parka': 32, 'Peacoat': 33, 'Poncho': 34, 'Robe': 35, 'Romper': 36, 'Sarong': 37, 'Shirtdress': 38, 'Shorts': 39, 'Skirt': 40, 'Sundress': 41, 'Sweater': 42, 'Sweatpants': 43, 'Sweatshorts': 44, 'Tank': 45, 'Tee': 46, 'Top': 47, 'Trunks': 48, 'Turtleneck': 49}\n"
     ]
    }
   ],
   "source": [
    "# Class Distribution of validation dataset\n",
    "validation_dataset_class_indices = validation_dataset.class_indices\n",
    "print(\"class indices of validation dataset: \", validation_dataset_class_indices)"
   ]
  },
  {
   "cell_type": "code",
   "execution_count": 15,
   "id": "7ee1e536",
   "metadata": {},
   "outputs": [
    {
     "name": "stdout",
     "output_type": "stream",
     "text": [
      "[('Dress', 10051), ('Tee', 5142), ('Blouse', 3388), ('Shorts', 2699), ('Tank', 2096), ('Skirt', 2045), ('Cardigan', 1827), ('Sweater', 1821), ('Jacket', 1472), ('Top', 1396), ('Blazer', 1039), ('Romper', 988), ('Jeans', 964), ('Jumpsuit', 839), ('Leggings', 717), ('Joggers', 580), ('Hoodie', 540), ('Sweatpants', 415), ('Kimono', 318), ('Coat', 276), ('Cutoffs', 248), ('Sweatshorts', 164), ('Jersey', 107), ('Poncho', 105), ('Parka', 97), ('Henley', 88), ('Jeggings', 86), ('Chinos', 79), ('Trunks', 57), ('Culottes', 55), ('Flannel', 48), ('Bomber', 40), ('Button-Down', 40), ('Robe', 21), ('Turtleneck', 17), ('Peacoat', 16), ('Anorak', 15), ('Onesie', 11), ('Capris', 10), ('Kaftan', 10), ('Sarong', 7), ('Caftan', 6), ('Gauchos', 5), ('Jodhpurs', 4), ('Halter', 3), ('Coverup', 2)]\n",
      "39954\n"
     ]
    }
   ],
   "source": [
    "category_names = ['Anorak', 'Blazer', 'Blouse', 'Bomber', 'Button-Down', 'Cardigan', 'Flannel', 'Halter', 'Henley', 'Hoodie', 'Jacket', 'Jersey', 'Parka', 'Peacoat', 'Poncho', 'Sweater', 'Tank', 'Tee', 'Top', 'Turtleneck', 'Capris', 'Chinos', 'Culottes', 'Cutoffs', 'Gauchos', 'Jeans', 'Jeggings', 'Jodhpurs', 'Joggers', 'Leggings', 'Sarong', 'Shorts', 'Skirt', 'Sweatpants', 'Sweatshorts', 'Trunks', 'Caftan', 'Cape', 'Coat', 'Coverup', 'Dress', 'Jumpsuit', 'Kaftan', 'Kimono', 'Nightdress', 'Onesie', 'Robe', 'Romper', 'Shirtdress', 'Sundress']\n",
    "\n",
    "category_nums = {}\n",
    "\n",
    "for filename in validation_dataset.filenames:\n",
    "    class_name = filename.split('/')[0]\n",
    "    if class_name not in category_nums:\n",
    "        category_nums[class_name] = 0\n",
    "    else:\n",
    "        category_nums[class_name] += 1\n",
    "\n",
    "\n",
    "# print(category_nums)        \n",
    "print(sorted(category_nums.items(), key=lambda x: x[1], reverse=True))\n",
    "print(sum(category_nums.values()))"
   ]
  },
  {
   "cell_type": "code",
   "execution_count": 16,
   "id": "59d159aa",
   "metadata": {},
   "outputs": [
    {
     "data": {
      "image/png": "[encoded data removed]",
      "text/plain": [
       "<Figure size 432x288 with 1 Axes>"
      ]
     },
     "metadata": {
      "needs_background": "light"
     },
     "output_type": "display_data"
    }
   ],
   "source": [
    "fig, ax = plt.subplots()\n",
    "plt.bar(list(category_nums.keys()), category_nums.values())\n",
    "plt.title(\"Class Distribution of Validation dataset\")\n",
    "plt.xticks(rotation=90)\n",
    "plt.tick_params(axis='x', width=5, labelsize=8)\n",
    "plt.grid(True)\n",
    "plt.show()"
   ]
  },
  {
   "cell_type": "code",
   "execution_count": 17,
   "id": "731f37f5",
   "metadata": {},
   "outputs": [
    {
     "name": "stdout",
     "output_type": "stream",
     "text": [
      "class indices of test dataset:  {'Anorak': 0, 'Blazer': 1, 'Blouse': 2, 'Bomber': 3, 'Button-Down': 4, 'Caftan': 5, 'Cape': 6, 'Capris': 7, 'Cardigan': 8, 'Chinos': 9, 'Coat': 10, 'Coverup': 11, 'Culottes': 12, 'Cutoffs': 13, 'Dress': 14, 'Flannel': 15, 'Gauchos': 16, 'Halter': 17, 'Henley': 18, 'Hoodie': 19, 'Jacket': 20, 'Jeans': 21, 'Jeggings': 22, 'Jersey': 23, 'Jodhpurs': 24, 'Joggers': 25, 'Jumpsuit': 26, 'Kaftan': 27, 'Kimono': 28, 'Leggings': 29, 'Nightdress': 30, 'Onesie': 31, 'Parka': 32, 'Peacoat': 33, 'Poncho': 34, 'Robe': 35, 'Romper': 36, 'Sarong': 37, 'Shirtdress': 38, 'Shorts': 39, 'Skirt': 40, 'Sundress': 41, 'Sweater': 42, 'Sweatpants': 43, 'Sweatshorts': 44, 'Tank': 45, 'Tee': 46, 'Top': 47, 'Trunks': 48, 'Turtleneck': 49}\n"
     ]
    }
   ],
   "source": [
    "test_dataset_class_indices = test_dataset.class_indices\n",
    "print(\"class indices of test dataset: \", test_dataset_class_indices)"
   ]
  },
  {
   "cell_type": "code",
   "execution_count": 18,
   "id": "8237038a",
   "metadata": {},
   "outputs": [
    {
     "name": "stdout",
     "output_type": "stream",
     "text": [
      "[('Dress', 9967), ('Tee', 5090), ('Blouse', 3415), ('Shorts', 2770), ('Tank', 2127), ('Skirt', 1932), ('Cardigan', 1876), ('Sweater', 1783), ('Jacket', 1445), ('Top', 1410), ('Blazer', 1046), ('Romper', 993), ('Jeans', 984), ('Jumpsuit', 848), ('Leggings', 723), ('Hoodie', 596), ('Joggers', 574), ('Sweatpants', 407), ('Kimono', 337), ('Coat', 303), ('Cutoffs', 242), ('Sweatshorts', 159), ('Henley', 105), ('Jersey', 105), ('Poncho', 105), ('Parka', 86), ('Chinos', 72), ('Culottes', 70), ('Jeggings', 63), ('Flannel', 50), ('Button-Down', 45), ('Trunks', 40), ('Bomber', 38), ('Turtleneck', 28), ('Anorak', 22), ('Robe', 20), ('Kaftan', 16), ('Peacoat', 16), ('Onesie', 10), ('Caftan', 8), ('Capris', 8), ('Gauchos', 7), ('Jodhpurs', 7), ('Sarong', 5), ('Halter', 1), ('Coverup', 0)]\n",
      "39954\n"
     ]
    }
   ],
   "source": [
    "category_names = ['Anorak', 'Blazer', 'Blouse', 'Bomber', 'Button-Down', 'Cardigan', 'Flannel', 'Halter', 'Henley', 'Hoodie', 'Jacket', 'Jersey', 'Parka', 'Peacoat', 'Poncho', 'Sweater', 'Tank', 'Tee', 'Top', 'Turtleneck', 'Capris', 'Chinos', 'Culottes', 'Cutoffs', 'Gauchos', 'Jeans', 'Jeggings', 'Jodhpurs', 'Joggers', 'Leggings', 'Sarong', 'Shorts', 'Skirt', 'Sweatpants', 'Sweatshorts', 'Trunks', 'Caftan', 'Cape', 'Coat', 'Coverup', 'Dress', 'Jumpsuit', 'Kaftan', 'Kimono', 'Nightdress', 'Onesie', 'Robe', 'Romper', 'Shirtdress', 'Sundress']\n",
    "\n",
    "category_nums = {}\n",
    "\n",
    "for filename in test_dataset.filenames:\n",
    "    class_name = filename.split('/')[0]\n",
    "    if class_name not in category_nums:\n",
    "        category_nums[class_name] = 0\n",
    "    else:\n",
    "        category_nums[class_name] += 1\n",
    "\n",
    "\n",
    "# print(category_nums)        \n",
    "print(sorted(category_nums.items(), key=lambda x: x[1], reverse=True))\n",
    "print(sum(category_nums.values()))"
   ]
  },
  {
   "cell_type": "code",
   "execution_count": 19,
   "id": "87d30892",
   "metadata": {},
   "outputs": [
    {
     "data": {
      "image/png": "[encoded data removed]",
      "text/plain": [
       "<Figure size 432x288 with 1 Axes>"
      ]
     },
     "metadata": {
      "needs_background": "light"
     },
     "output_type": "display_data"
    }
   ],
   "source": [
    "fig, ax = plt.subplots()\n",
    "plt.bar(list(category_nums.keys()), category_nums.values())\n",
    "plt.title(\"Class Distribution of test dataset\")\n",
    "plt.xticks(rotation=90)\n",
    "plt.tick_params(axis='x', width=5, labelsize=8)\n",
    "plt.grid(True)\n",
    "plt.show()"
   ]
  },
  {
   "cell_type": "code",
   "execution_count": 20,
   "id": "ce370b63",
   "metadata": {},
   "outputs": [
    {
     "name": "stdout",
     "output_type": "stream",
     "text": [
      "class_labels_keys:  ['Anorak', 'Blazer', 'Blouse', 'Bomber', 'Button-Down', 'Caftan', 'Cape', 'Capris', 'Cardigan', 'Chinos', 'Coat', 'Coverup', 'Culottes', 'Cutoffs', 'Dress', 'Flannel', 'Gauchos', 'Halter', 'Henley', 'Hoodie', 'Jacket', 'Jeans', 'Jeggings', 'Jersey', 'Jodhpurs', 'Joggers', 'Jumpsuit', 'Kaftan', 'Kimono', 'Leggings', 'Nightdress', 'Onesie', 'Parka', 'Peacoat', 'Poncho', 'Robe', 'Romper', 'Sarong', 'Shirtdress', 'Shorts', 'Skirt', 'Sundress', 'Sweater', 'Sweatpants', 'Sweatshorts', 'Tank', 'Tee', 'Top', 'Trunks', 'Turtleneck']\n",
      "Length of class_labels:  50\n",
      "Number of train images:  209222\n",
      "Number of validation images:  40000\n",
      "Number of test images:  40000\n"
     ]
    }
   ],
   "source": [
    "class_labels = list(validation_dataset.class_indices.keys())\n",
    "num_imgs_validation = len(validation_dataset.filenames)\n",
    "num_imgs_train = len(train_dataset.filenames)\n",
    "num_imgs_test = len(test_dataset.filenames)\n",
    "print(\"class_labels_keys: \", class_labels)\n",
    "print(\"Length of class_labels: \", len(class_labels))\n",
    "print(\"Number of train images: \", num_imgs_train)\n",
    "print(\"Number of validation images: \", num_imgs_validation)\n",
    "print(\"Number of test images: \", num_imgs_test)"
   ]
  },
  {
   "cell_type": "code",
   "execution_count": 21,
   "id": "18511395",
   "metadata": {},
   "outputs": [],
   "source": [
    "# Plotting Accuracy & Loss Curves\n",
    "def curves(model_histories, epochs):\n",
    "\n",
    "    acc = model_histories.history['accuracy']\n",
    "    val_acc = model_histories.history['val_accuracy']\n",
    "    loss = model_histories.history['loss']\n",
    "    val_loss = model_histories.history['val_loss']\n",
    "\n",
    "    # Plot\n",
    "    plt.plot(range(epochs), acc, 'mo', label='Training accuracy')\n",
    "    plt.plot(range(epochs), val_acc, 'b', label='Validation accuracy')\n",
    "    plt.title('Training and validation accuracy')\n",
    "    plt.legend()\n",
    "    plt.savefig('/home/azure/passion/AI/Category and Attribute Prediction Benchmark/dataset/plot/DeepFashionVGG16CurvesAcc4.jpg')\n",
    "\n",
    "    plt.figure()\n",
    "    plt.plot(range(epochs), loss, 'mo', label='Training loss')\n",
    "    plt.plot(range(epochs), val_loss, 'b', label='Validation loss')\n",
    "    plt.title('Training and validation loss')\n",
    "    plt.legend()\n",
    "    plt.savefig('/home/azure/passion/AI/Category and Attribute Prediction Benchmark/dataset/plot/DeepFashionVGG16CurvesLoss4.jpg')\n",
    "    plt.show()"
   ]
  },
  {
   "cell_type": "code",
   "execution_count": 22,
   "id": "1d0c81e0",
   "metadata": {},
   "outputs": [],
   "source": [
    "# Register Callbacks\n",
    "def callback():\n",
    "    \n",
    "    # CSVLogger\n",
    "    filename = '/home/azure/passion/AI/Category and Attribute Prediction Benchmark/dataset/output/csvlogger/model_train4.csv'\n",
    "    csv_log = tf.keras.callbacks.CSVLogger(filename, separator=' ', append=False)\n",
    "    \n",
    "    # EarlyStopping\n",
    "    early_stopping = tf.keras.callbacks.EarlyStopping(\n",
    "        monitor='loss', patience=500, verbose=1, mode='min'\n",
    "    )\n",
    "    \n",
    "    # ModelCheckpoint\n",
    "    check_point = tf.keras.callbacks.ModelCheckpoint(\n",
    "        filepath='/home/azure/passion/AI/Category and Attribute Prediction Benchmark/dataset/output/my_checkpoint4.ckpt',\n",
    "        save_best_only=True, save_weights_only=True, monitor='val_loss'\n",
    "    )\n",
    "    \n",
    "    callback_list = [csv_log, early_stopping, check_point]\n",
    "    return callback_list"
   ]
  },
  {
   "cell_type": "code",
   "execution_count": 23,
   "id": "5977235e",
   "metadata": {},
   "outputs": [],
   "source": [
    "callback_list = callback()"
   ]
  },
  {
   "cell_type": "code",
   "execution_count": 24,
   "id": "b7d2aa24",
   "metadata": {},
   "outputs": [],
   "source": [
    "# Fine-tune the model - Training\n",
    "def fit_model(model, train_dataset, X_val, y_val, batch_size_train, batch_size_validation, epochs):\n",
    "    \n",
    "    history = model.fit(\n",
    "        train_dataset,\n",
    "        epochs=epochs,\n",
    "        validation_data=(X_val, y_val),\n",
    "        workers=0,\n",
    "        verbose=1,\n",
    "        callbacks=callback_list\n",
    "    )\n",
    "\n",
    "    score = model.evaluate(\n",
    "        validation_dataset,\n",
    "        verbose=1\n",
    "    )\n",
    "\n",
    "    return model, history, score"
   ]
  },
  {
   "cell_type": "code",
   "execution_count": 25,
   "id": "701be2cf",
   "metadata": {
    "scrolled": false
   },
   "outputs": [
    {
     "name": "stdout",
     "output_type": "stream",
     "text": [
      "Epoch 1/10\n",
      "3270/3270 [==============================] - 2789s 847ms/step - loss: 1.4858 - accuracy: 0.5924 - val_loss: 1.6511 - val_accuracy: 0.4688\n",
      "Epoch 2/10\n",
      "3270/3270 [==============================] - 2743s 839ms/step - loss: 0.9947 - accuracy: 0.7010 - val_loss: 1.1184 - val_accuracy: 0.6406\n",
      "Epoch 3/10\n",
      "3270/3270 [==============================] - 2739s 837ms/step - loss: 0.8780 - accuracy: 0.7323 - val_loss: 1.0730 - val_accuracy: 0.7344\n",
      "Epoch 4/10\n",
      "3270/3270 [==============================] - 2731s 835ms/step - loss: 0.7647 - accuracy: 0.7648 - val_loss: 1.1040 - val_accuracy: 0.6562\n",
      "Epoch 5/10\n",
      "3270/3270 [==============================] - 2730s 835ms/step - loss: 0.6367 - accuracy: 0.7999 - val_loss: 1.2274 - val_accuracy: 0.6719\n",
      "Epoch 6/10\n",
      "3270/3270 [==============================] - 2725s 833ms/step - loss: 0.4812 - accuracy: 0.8464 - val_loss: 1.3072 - val_accuracy: 0.6719\n",
      "Epoch 7/10\n",
      "3270/3270 [==============================] - 2731s 835ms/step - loss: 0.3209 - accuracy: 0.8971 - val_loss: 1.4804 - val_accuracy: 0.6250\n",
      "Epoch 8/10\n",
      "3270/3270 [==============================] - 2735s 837ms/step - loss: 0.1990 - accuracy: 0.9367 - val_loss: 1.5528 - val_accuracy: 0.6406\n",
      "Epoch 9/10\n",
      "3270/3270 [==============================] - 2723s 833ms/step - loss: 0.1366 - accuracy: 0.9570 - val_loss: 1.7435 - val_accuracy: 0.5781\n",
      "Epoch 10/10\n",
      "3270/3270 [==============================] - 2723s 833ms/step - loss: 0.1167 - accuracy: 0.9634 - val_loss: 1.8581 - val_accuracy: 0.5938\n",
      "625/625 [==============================] - 153s 245ms/step - loss: 1.5818 - accuracy: 0.6890\n"
     ]
    },
    {
     "data": {
      "image/png": "[encoded data removed]",
      "text/plain": [
       "<Figure size 432x288 with 1 Axes>"
      ]
     },
     "metadata": {
      "needs_background": "light"
     },
     "output_type": "display_data"
    },
    {
     "data": {
      "image/png": "[encoded data removed]",
      "text/plain": [
       "<Figure size 432x288 with 1 Axes>"
      ]
     },
     "metadata": {
      "needs_background": "light"
     },
     "output_type": "display_data"
    },
    {
     "name": "stdout",
     "output_type": "stream",
     "text": [
      "Validation Accuracy:0.6890249848365784 \n",
      "Validation Loss:1.5817612409591675\n"
     ]
    }
   ],
   "source": [
    "model, history, score = fit_model(model, train_dataset, X_val, y_val, batch_size_train, batch_size_validation, epochs)\n",
    "\n",
    "# Learning curves\n",
    "curves(history, epochs)\n",
    "print('Validation Accuracy:{} \\nValidation Loss:{}'.format(score[1] ,score[0]))"
   ]
  },
  {
   "cell_type": "code",
   "execution_count": 26,
   "id": "d2a042ae",
   "metadata": {},
   "outputs": [],
   "source": [
    "# Prediction\n",
    "model.load_weights('/home/azure/passion/AI/Category and Attribute Prediction Benchmark/dataset/output/my_checkpoint4.ckpt')\n",
    "Y_pred = model.predict(test_dataset)"
   ]
  },
  {
   "cell_type": "code",
   "execution_count": 27,
   "id": "575e9617",
   "metadata": {},
   "outputs": [
    {
     "name": "stdout",
     "output_type": "stream",
     "text": [
      "[ 0  0  0 ... 49 49 49]\n",
      "40000\n"
     ]
    }
   ],
   "source": [
    "testY_labels = test_dataset.labels\n",
    "print(testY_labels)\n",
    "print(len(testY_labels))"
   ]
  },
  {
   "cell_type": "code",
   "execution_count": 28,
   "id": "a35f6add",
   "metadata": {},
   "outputs": [
    {
     "name": "stdout",
     "output_type": "stream",
     "text": [
      "1/1 [==============================] - 0s 154ms/step - loss: 0.5444 - accuracy: 0.8750\n",
      "loss:  0.5443730354309082\n",
      "acc:  0.875\n"
     ]
    }
   ],
   "source": [
    "model.load_weights('/home/azure/passion/AI/Category and Attribute Prediction Benchmark/dataset/output/my_checkpoint4.ckpt')\n",
    "\n",
    "loss, acc = model.evaluate(X_test, y_test)\n",
    "print(\"loss: \", loss)\n",
    "print(\"acc: \", acc)"
   ]
  },
  {
   "cell_type": "code",
   "execution_count": 30,
   "id": "3d2b19a8",
   "metadata": {},
   "outputs": [
    {
     "name": "stdout",
     "output_type": "stream",
     "text": [
      "INFO:tensorflow:Assets written to: /tmp/tmpj_hff_f5/assets\n"
     ]
    },
    {
     "name": "stderr",
     "output_type": "stream",
     "text": [
      "INFO:tensorflow:Assets written to: /tmp/tmpj_hff_f5/assets\n"
     ]
    },
    {
     "data": {
      "text/plain": [
       "161847192"
      ]
     },
     "execution_count": 30,
     "metadata": {},
     "output_type": "execute_result"
    }
   ],
   "source": [
    "# Tensorflow Lite\n",
    "converter = tf.lite.TFLiteConverter.from_keras_model(model)\n",
    "tflite_model = converter.convert()\n",
    "open('/home/azure/passion/AI/Category and Attribute Prediction Benchmark/dataset/output/my_checkpoint4.tflite', 'wb').write(tflite_model)"
   ]
  },
  {
   "cell_type": "code",
   "execution_count": null,
   "id": "4cfa4fee",
   "metadata": {},
   "outputs": [],
   "source": []
  }
 ],
 "metadata": {
  "kernelspec": {
   "display_name": "Python 3",
   "language": "python",
   "name": "python3"
  },
  "language_info": {
   "codemirror_mode": {
    "name": "ipython",
    "version": 3
   },
   "file_extension": ".py",
   "mimetype": "text/x-python",
   "name": "python",
   "nbconvert_exporter": "python",
   "pygments_lexer": "ipython3",
   "version": "3.6.9"
  }
 },
 "nbformat": 4,
 "nbformat_minor": 5
}
