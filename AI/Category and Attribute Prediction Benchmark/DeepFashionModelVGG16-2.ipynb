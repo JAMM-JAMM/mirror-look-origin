{
 "cells": [
  {
   "cell_type": "code",
   "execution_count": 2,
   "id": "6559e06a",
   "metadata": {},
   "outputs": [],
   "source": [
    "import tensorflow as tf\n",
    "from tensorflow.python.client import device_lib\n",
    "from tensorflow.keras.applications import vgg16\n",
    "from tensorflow.keras.applications.vgg16 import VGG16\n",
    "from tensorflow.keras.layers import Conv2D, Dense, MaxPooling2D, Dropout, Flatten, Activation, BatchNormalization, LeakyReLU\n",
    "from tensorflow.keras.preprocessing.image import ImageDataGenerator\n",
    "import matplotlib.pyplot as plt\n",
    "import numpy as np\n",
    "from sklearn.metrics import confusion_matrix, classification_report\n",
    "import seaborn as sns\n",
    "import pandas as pd\n",
    "import cv2\n",
    "import glob\n",
    "from keras.utils import plot_model"
   ]
  },
  {
   "cell_type": "code",
   "execution_count": 3,
   "id": "53546bf3",
   "metadata": {},
   "outputs": [
    {
     "name": "stdout",
     "output_type": "stream",
     "text": [
      "[PhysicalDevice(name='/physical_device:GPU:0', device_type='GPU')]\n",
      "[name: \"/device:CPU:0\"\n",
      "device_type: \"CPU\"\n",
      "memory_limit: 268435456\n",
      "locality {\n",
      "}\n",
      "incarnation: 13208732218517525239\n",
      ", name: \"/device:GPU:0\"\n",
      "device_type: \"GPU\"\n",
      "memory_limit: 14648653952\n",
      "locality {\n",
      "  bus_id: 1\n",
      "  links {\n",
      "  }\n",
      "}\n",
      "incarnation: 17362212051346959033\n",
      "physical_device_desc: \"device: 0, name: NVIDIA Tesla T4, pci bus id: 0001:00:00.0, compute capability: 7.5\"\n",
      "]\n"
     ]
    }
   ],
   "source": [
    "print(tf.config.list_physical_devices('GPU'))\n",
    "print(device_lib.list_local_devices())"
   ]
  },
  {
   "cell_type": "code",
   "execution_count": 4,
   "id": "3421cc50",
   "metadata": {},
   "outputs": [],
   "source": [
    "# DeepFashion Dataset Path\n",
    "train_path = '/home/azure/passion/AI/Category and Attribute Prediction Benchmark/dataset/train'\n",
    "validation_path = '/home/azure/passion/AI/Category and Attribute Prediction Benchmark/dataset/validation'\n",
    "test_path = '/home/azure/passion/AI/Category and Attribute Prediction Benchmark/dataset/test'\n",
    "\n",
    "# Setting the Parameters & Hyperparameters\n",
    "\n",
    "# 1\n",
    "# img_row, img_col, img_channel = 224, 224, 3\n",
    "# batch_size_train = 32\n",
    "# batch_size_validation = 32\n",
    "# epochs = 10\n",
    "# category_nums = 50\n",
    "# drop_rate = 0.25\n",
    "# learning_rate = 0.001\n",
    "# momentum_num = 0.99\n",
    "# plot_num_rows = 3\n",
    "# plot_num_rows = 3\n",
    "\n",
    "# # 2\n",
    "# img_row, img_col, img_channel = 224, 224, 3\n",
    "# batch_size_train = 64\n",
    "# batch_size_validation = 64\n",
    "# epochs = 20\n",
    "# category_nums = 50\n",
    "# drop_rate = 0.25\n",
    "# learning_rate = 0.0001\n",
    "# momentum_num = 0.99\n",
    "# plot_num_rows = 3\n",
    "# plot_num_rows = 3\n",
    "\n",
    "# # 3\n",
    "# img_row, img_col, img_channel = 224, 224, 3\n",
    "# batch_size_train = 64\n",
    "# batch_size_validation = 64\n",
    "# epochs = 3\n",
    "# category_nums = 50\n",
    "# drop_rate = 0.25\n",
    "# learning_rate = 0.0001\n",
    "# momentum_num = 0.99\n",
    "# plot_num_rows = 3\n",
    "# plot_num_rows = 3\n",
    "\n",
    "# 4\n",
    "img_row, img_col, img_channel = 224, 224, 3\n",
    "batch_size_train = 64\n",
    "batch_size_validation = 64\n",
    "epochs = 1\n",
    "category_nums = 50\n",
    "drop_rate = 0.25\n",
    "learning_rate = 0.0001\n",
    "momentum_num = 0.99\n",
    "plot_num_rows = 3\n",
    "plot_num_rows = 3"
   ]
  },
  {
   "cell_type": "code",
   "execution_count": 6,
   "id": "03afda3a",
   "metadata": {},
   "outputs": [
    {
     "name": "stdout",
     "output_type": "stream",
     "text": [
      "<tensorflow.python.keras.engine.input_layer.InputLayer object at 0x7f2f4c4469e8> True\n",
      "<tensorflow.python.keras.layers.convolutional.Conv2D object at 0x7f2f4c446240> True\n",
      "<tensorflow.python.keras.layers.convolutional.Conv2D object at 0x7f2f4c49d198> True\n",
      "<tensorflow.python.keras.layers.pooling.MaxPooling2D object at 0x7f2f4c4825c0> True\n",
      "<tensorflow.python.keras.layers.convolutional.Conv2D object at 0x7f2f4c498588> True\n",
      "<tensorflow.python.keras.layers.convolutional.Conv2D object at 0x7f2f4c48ad30> True\n",
      "<tensorflow.python.keras.layers.pooling.MaxPooling2D object at 0x7f2f4c44cc50> True\n",
      "<tensorflow.python.keras.layers.convolutional.Conv2D object at 0x7f2f4c395d68> True\n",
      "<tensorflow.python.keras.layers.convolutional.Conv2D object at 0x7f2f4c395e10> True\n",
      "<tensorflow.python.keras.layers.convolutional.Conv2D object at 0x7f2f4c39b6a0> True\n",
      "<tensorflow.python.keras.layers.pooling.MaxPooling2D object at 0x7f2f4c3a0e48> True\n",
      "<tensorflow.python.keras.layers.convolutional.Conv2D object at 0x7f2f4c3a0940> True\n",
      "<tensorflow.python.keras.layers.convolutional.Conv2D object at 0x7f2f4c4a5e10> True\n",
      "<tensorflow.python.keras.layers.convolutional.Conv2D object at 0x7f2f4c3a5f28> True\n",
      "<tensorflow.python.keras.layers.pooling.MaxPooling2D object at 0x7f2f4c405630> True\n",
      "<tensorflow.python.keras.layers.convolutional.Conv2D object at 0x7f2f4c44c240> True\n",
      "<tensorflow.python.keras.layers.convolutional.Conv2D object at 0x7f2f4c40b9e8> True\n",
      "<tensorflow.python.keras.layers.convolutional.Conv2D object at 0x7f2f4c414d30> True\n",
      "<tensorflow.python.keras.layers.pooling.MaxPooling2D object at 0x7f2f4c414390> True\n"
     ]
    }
   ],
   "source": [
    "# Initialize the VGG model\n",
    "vgg_conv = VGG16(weights='imagenet', include_top=False, input_shape=(img_row, img_col, img_channel))\n",
    "\n",
    "# Freeze all the layers\n",
    "for layer in vgg_conv.layers[:]:\n",
    "    layer.trainable = True\n",
    "\n",
    "# Check the trainable status of the individual layers\n",
    "for layer in vgg_conv.layers:\n",
    "    print(layer, layer.trainable)"
   ]
  },
  {
   "cell_type": "code",
   "execution_count": 7,
   "id": "baf678a4",
   "metadata": {},
   "outputs": [],
   "source": [
    "def build_model(vgg_conv, category_nums, drop_rate, learning_rate, momentum_num):\n",
    "    \n",
    "    # Create the model\n",
    "    model = tf.keras.models.Sequential()\n",
    "\n",
    "    # Add the vgg convolutional base model\n",
    "    model.add(vgg_conv)\n",
    "\n",
    "    # Add new layers\n",
    "    model.add(Flatten())\n",
    "    model.add(Dense(1024, activation='relu'))\n",
    "    model.add(BatchNormalization())\n",
    "    model.add(Dropout(drop_rate))\n",
    "    model.add(Dense(category_nums, activation='softmax'))\n",
    "\n",
    "    # Compile the model with a SGD and a very slow learning rate\n",
    "    model.compile(\n",
    "        loss='categorical_crossentropy',\n",
    "        optimizer=tf.keras.optimizers.Adam(learning_rate=learning_rate),\n",
    "        metrics=['accuracy']\n",
    "    )\n",
    "\n",
    "    return model"
   ]
  },
  {
   "cell_type": "code",
   "execution_count": 8,
   "id": "57c13bb2",
   "metadata": {},
   "outputs": [],
   "source": [
    "model = build_model(vgg_conv, category_nums, drop_rate, learning_rate, momentum_num)"
   ]
  },
  {
   "cell_type": "code",
   "execution_count": 9,
   "id": "85fc9432",
   "metadata": {},
   "outputs": [
    {
     "name": "stdout",
     "output_type": "stream",
     "text": [
      "Model: \"sequential\"\n",
      "_________________________________________________________________\n",
      "Layer (type)                 Output Shape              Param #   \n",
      "=================================================================\n",
      "vgg16 (Functional)           (None, 7, 7, 512)         14714688  \n",
      "_________________________________________________________________\n",
      "flatten (Flatten)            (None, 25088)             0         \n",
      "_________________________________________________________________\n",
      "dense (Dense)                (None, 1024)              25691136  \n",
      "_________________________________________________________________\n",
      "batch_normalization (BatchNo (None, 1024)              4096      \n",
      "_________________________________________________________________\n",
      "dropout (Dropout)            (None, 1024)              0         \n",
      "_________________________________________________________________\n",
      "dense_1 (Dense)              (None, 50)                51250     \n",
      "=================================================================\n",
      "Total params: 40,461,170\n",
      "Trainable params: 40,459,122\n",
      "Non-trainable params: 2,048\n",
      "_________________________________________________________________\n"
     ]
    }
   ],
   "source": [
    "model.summary()"
   ]
  },
  {
   "cell_type": "code",
   "execution_count": 10,
   "id": "27b6e79b",
   "metadata": {},
   "outputs": [
    {
     "data": {
      "image/jpeg": "[encoded data removed]",
      "text/plain": [
       "<IPython.core.display.Image object>"
      ]
     },
     "execution_count": 10,
     "metadata": {},
     "output_type": "execute_result"
    }
   ],
   "source": [
    "# Show a summary of the model\n",
    "plot_model(model, to_file='/home/azure/passion/AI/Category and Attribute Prediction Benchmark/dataset/plot/model_summary4.jpg')"
   ]
  },
  {
   "cell_type": "code",
   "execution_count": 11,
   "id": "b5637c90",
   "metadata": {},
   "outputs": [],
   "source": [
    "def data_load(train_path, validation_path, test_path, batch_size_train, batch_size_validation, img_row, img_col):\n",
    "\n",
    "    # Train\n",
    "    imgdatagen_train = ImageDataGenerator(\n",
    "        rescale=1./255\n",
    "    )\n",
    "\n",
    "    train_dataset = imgdatagen_train.flow_from_directory(\n",
    "        train_path,\n",
    "        target_size=(img_row, img_col),\n",
    "        batch_size=batch_size_train,\n",
    "        classes = ['Anorak', 'Blazer', 'Blouse', 'Bomber', 'Button-Down', 'Cardigan', 'Flannel', 'Halter', 'Henley', 'Hoodie', 'Jacket', 'Jersey', 'Parka', 'Peacoat', 'Poncho', 'Sweater', 'Tank', 'Tee', 'Top', 'Turtleneck', 'Capris', 'Chinos', 'Culottes', 'Cutoffs', 'Gauchos', 'Jeans', 'Jeggings', 'Jodhpurs', 'Joggers', 'Leggings', 'Sarong', 'Shorts', 'Skirt', 'Sweatpants', 'Sweatshorts', 'Trunks', 'Caftan', 'Cape', 'Coat', 'Coverup', 'Dress', 'Jumpsuit', 'Kaftan', 'Kimono', 'Nightdress', 'Onesie', 'Robe', 'Romper', 'Shirtdress', 'Sundress'],\n",
    "        shuffle=True\n",
    "    )\n",
    "\n",
    "    # Validation\n",
    "    imgdatagen_validatioin = ImageDataGenerator(\n",
    "        rescale=1./255\n",
    "    )\n",
    "\n",
    "    validation_dataset = imgdatagen_validatioin.flow_from_directory(\n",
    "        validation_path,\n",
    "        target_size=(img_row, img_col),\n",
    "        batch_size=batch_size_validation,\n",
    "        classes = ['Anorak', 'Blazer', 'Blouse', 'Bomber', 'Button-Down', 'Cardigan', 'Flannel', 'Halter', 'Henley', 'Hoodie', 'Jacket', 'Jersey', 'Parka', 'Peacoat', 'Poncho', 'Sweater', 'Tank', 'Tee', 'Top', 'Turtleneck', 'Capris', 'Chinos', 'Culottes', 'Cutoffs', 'Gauchos', 'Jeans', 'Jeggings', 'Jodhpurs', 'Joggers', 'Leggings', 'Sarong', 'Shorts', 'Skirt', 'Sweatpants', 'Sweatshorts', 'Trunks', 'Caftan', 'Cape', 'Coat', 'Coverup', 'Dress', 'Jumpsuit', 'Kaftan', 'Kimono', 'Nightdress', 'Onesie', 'Robe', 'Romper', 'Shirtdress', 'Sundress'],\n",
    "        shuffle=True\n",
    "    )\n",
    "\n",
    "    # Test\n",
    "    imgdatagen_test = ImageDataGenerator(\n",
    "        rescale=1./255\n",
    "    )\n",
    "    \n",
    "    test_dataset = imgdatagen_test.flow_from_directory(\n",
    "        test_path,\n",
    "        target_size=(img_row, img_col),\n",
    "        classes = ['Anorak', 'Blazer', 'Blouse', 'Bomber', 'Button-Down', 'Cardigan', 'Flannel', 'Halter', 'Henley', 'Hoodie', 'Jacket', 'Jersey', 'Parka', 'Peacoat', 'Poncho', 'Sweater', 'Tank', 'Tee', 'Top', 'Turtleneck', 'Capris', 'Chinos', 'Culottes', 'Cutoffs', 'Gauchos', 'Jeans', 'Jeggings', 'Jodhpurs', 'Joggers', 'Leggings', 'Sarong', 'Shorts', 'Skirt', 'Sweatpants', 'Sweatshorts', 'Trunks', 'Caftan', 'Cape', 'Coat', 'Coverup', 'Dress', 'Jumpsuit', 'Kaftan', 'Kimono', 'Nightdress', 'Onesie', 'Robe', 'Romper', 'Shirtdress', 'Sundress'],\n",
    "        shuffle=True\n",
    "    )\n",
    "    \n",
    "    return train_dataset, validation_dataset, test_dataset"
   ]
  },
  {
   "cell_type": "code",
   "execution_count": 12,
   "id": "55759f2c",
   "metadata": {},
   "outputs": [
    {
     "name": "stdout",
     "output_type": "stream",
     "text": [
      "Found 209222 images belonging to 50 classes.\n",
      "Found 40000 images belonging to 50 classes.\n",
      "Found 40000 images belonging to 50 classes.\n",
      "(64, 224, 224, 3)\n",
      "(64, 50)\n",
      "[0. 1. 0. 0. 0. 0. 0. 0. 0. 0. 0. 0. 0. 0. 0. 0. 0. 0. 0. 0. 0. 0. 0. 0.\n",
      " 0. 0. 0. 0. 0. 0. 0. 0. 0. 0. 0. 0. 0. 0. 0. 0. 0. 0. 0. 0. 0. 0. 0. 0.\n",
      " 0. 0.]\n",
      "(64, 224, 224, 3)\n",
      "(64, 50)\n",
      "(32, 224, 224, 3)\n",
      "(32, 50)\n"
     ]
    }
   ],
   "source": [
    "train_dataset, validation_dataset, test_dataset = data_load(train_path, validation_path, test_path, batch_size_train, batch_size_validation, img_row, img_col)\n",
    "\n",
    "X_train, y_train = next(train_dataset)\n",
    "\n",
    "print(X_train.shape)\n",
    "print(y_train.shape)\n",
    "print(y_train[1,:])\n",
    "\n",
    "X_val, y_val = next(validation_dataset)\n",
    "\n",
    "print(X_val.shape)\n",
    "print(y_val.shape)\n",
    "\n",
    "X_test, y_test = next(test_dataset)\n",
    "\n",
    "print(X_test.shape)\n",
    "print(y_test.shape)"
   ]
  },
  {
   "cell_type": "code",
   "execution_count": 13,
   "id": "ce370b63",
   "metadata": {},
   "outputs": [
    {
     "name": "stdout",
     "output_type": "stream",
     "text": [
      "class_labels:  ['Anorak', 'Blazer', 'Blouse', 'Bomber', 'Button-Down', 'Cardigan', 'Flannel', 'Halter', 'Henley', 'Hoodie', 'Jacket', 'Jersey', 'Parka', 'Peacoat', 'Poncho', 'Sweater', 'Tank', 'Tee', 'Top', 'Turtleneck', 'Capris', 'Chinos', 'Culottes', 'Cutoffs', 'Gauchos', 'Jeans', 'Jeggings', 'Jodhpurs', 'Joggers', 'Leggings', 'Sarong', 'Shorts', 'Skirt', 'Sweatpants', 'Sweatshorts', 'Trunks', 'Caftan', 'Cape', 'Coat', 'Coverup', 'Dress', 'Jumpsuit', 'Kaftan', 'Kimono', 'Nightdress', 'Onesie', 'Robe', 'Romper', 'Shirtdress', 'Sundress']\n",
      "Length of class_labels:  50\n",
      "Number of train images:  209222\n",
      "Number of validation images:  40000\n",
      "Number of test images:  40000\n"
     ]
    }
   ],
   "source": [
    "class_labels = list(validation_dataset.class_indices.keys())\n",
    "num_imgs_validation = len(validation_dataset.filenames)\n",
    "num_imgs_train = len(train_dataset.filenames)\n",
    "num_imgs_test = len(test_dataset.filenames)\n",
    "print(\"class_labels: \", class_labels)\n",
    "print(\"Length of class_labels: \", len(class_labels))\n",
    "print(\"Number of train images: \", num_imgs_train)\n",
    "print(\"Number of validation images: \", num_imgs_validation)\n",
    "print(\"Number of test images: \", num_imgs_test)"
   ]
  },
  {
   "cell_type": "code",
   "execution_count": 14,
   "id": "18511395",
   "metadata": {},
   "outputs": [],
   "source": [
    "# Plotting Accuracy & Loss Curves\n",
    "def curves(model_histories, epochs):\n",
    "\n",
    "    acc = model_histories.history['accuracy']\n",
    "    val_acc = model_histories.history['val_accuracy']\n",
    "    loss = model_histories.history['loss']\n",
    "    val_loss = model_histories.history['val_loss']\n",
    "\n",
    "    # Plot\n",
    "    plt.plot(range(epochs), acc, 'mo', label='Training accuracy')\n",
    "    plt.plot(range(epochs), val_acc, 'b', label='Validation accuracy')\n",
    "    plt.title('Training and validation accuracy')\n",
    "    plt.legend()\n",
    "    plt.savefig('/home/azure/passion/AI/Category and Attribute Prediction Benchmark/dataset/plot/DeepFashionVGG16CurvesAcc4.jpg')\n",
    "\n",
    "    plt.figure()\n",
    "    plt.plot(range(epochs), loss, 'mo', label='Training loss')\n",
    "    plt.plot(range(epochs), val_loss, 'b', label='Validation loss')\n",
    "    plt.title('Training and validation loss')\n",
    "    plt.legend()\n",
    "    plt.savefig('/home/azure/passion/AI/Category and Attribute Prediction Benchmark/dataset/plot/DeepFashionVGG16CurvesLoss4.jpg')\n",
    "    plt.show()"
   ]
  },
  {
   "cell_type": "code",
   "execution_count": 15,
   "id": "1d0c81e0",
   "metadata": {},
   "outputs": [],
   "source": [
    "# Register Callbacks\n",
    "def callback():\n",
    "    \n",
    "    # CSVLogger\n",
    "    filename = '/home/azure/passion/AI/Category and Attribute Prediction Benchmark/dataset/output/model_train4.csv'\n",
    "    csv_log = tf.keras.callbacks.CSVLogger(filename, separator=' ', append=False)\n",
    "    \n",
    "    # EarlyStopping\n",
    "    early_stopping = tf.keras.callbacks.EarlyStopping(\n",
    "        monitor='loss', patience=500, verbose=1, mode='min'\n",
    "    )\n",
    "    \n",
    "    # ModelCheckpoint\n",
    "    check_point = tf.keras.callbacks.ModelCheckpoint(\n",
    "        filepath='/home/azure/passion/AI/Category and Attribute Prediction Benchmark/dataset/output/my_checkpoint4.ckpt',\n",
    "        save_best_only=True, save_weights_only=True, monitor='val_loss'\n",
    "    )\n",
    "    \n",
    "    callback_list = [csv_log, early_stopping, check_point]\n",
    "    return callback_list"
   ]
  },
  {
   "cell_type": "code",
   "execution_count": 16,
   "id": "5977235e",
   "metadata": {},
   "outputs": [],
   "source": [
    "callback_list = callback()"
   ]
  },
  {
   "cell_type": "code",
   "execution_count": 14,
   "id": "b7d2aa24",
   "metadata": {},
   "outputs": [],
   "source": [
    "# Fine-tune the model - Training\n",
    "def fit_model(model, train_dataset, X_val, y_val, batch_size_train, batch_size_validation, epochs):\n",
    "    \n",
    "    history = model.fit(\n",
    "        train_dataset,\n",
    "        epochs=epochs,\n",
    "        validation_data=(X_val, y_val),\n",
    "        workers=0,\n",
    "        verbose=1,\n",
    "        callbacks=callback_list\n",
    "    )\n",
    "\n",
    "    score = model.evaluate(\n",
    "        validation_dataset,\n",
    "        verbose=1\n",
    "    )\n",
    "\n",
    "    return model, history, score"
   ]
  },
  {
   "cell_type": "code",
   "execution_count": 15,
   "id": "701be2cf",
   "metadata": {
    "scrolled": false
   },
   "outputs": [
    {
     "name": "stdout",
     "output_type": "stream",
     "text": [
      " 222/3270 [=>............................] - ETA: 41:43 - loss: 2.3779 - accuracy: 0.4327"
     ]
    },
    {
     "ename": "KeyboardInterrupt",
     "evalue": "",
     "output_type": "error",
     "traceback": [
      "\u001b[0;31m---------------------------------------------------------------------------\u001b[0m",
      "\u001b[0;31mKeyboardInterrupt\u001b[0m                         Traceback (most recent call last)",
      "\u001b[0;32m<ipython-input-15-daf876c57d0e>\u001b[0m in \u001b[0;36m<module>\u001b[0;34m\u001b[0m\n\u001b[0;32m----> 1\u001b[0;31m \u001b[0mmodel\u001b[0m\u001b[0;34m,\u001b[0m \u001b[0mhistory\u001b[0m\u001b[0;34m,\u001b[0m \u001b[0mscore\u001b[0m \u001b[0;34m=\u001b[0m \u001b[0mfit_model\u001b[0m\u001b[0;34m(\u001b[0m\u001b[0mmodel\u001b[0m\u001b[0;34m,\u001b[0m \u001b[0mtrain_dataset\u001b[0m\u001b[0;34m,\u001b[0m \u001b[0mX_val\u001b[0m\u001b[0;34m,\u001b[0m \u001b[0my_val\u001b[0m\u001b[0;34m,\u001b[0m \u001b[0mbatch_size_train\u001b[0m\u001b[0;34m,\u001b[0m \u001b[0mbatch_size_validation\u001b[0m\u001b[0;34m,\u001b[0m \u001b[0mepochs\u001b[0m\u001b[0;34m)\u001b[0m\u001b[0;34m\u001b[0m\u001b[0;34m\u001b[0m\u001b[0m\n\u001b[0m\u001b[1;32m      2\u001b[0m \u001b[0;34m\u001b[0m\u001b[0m\n\u001b[1;32m      3\u001b[0m \u001b[0;31m# Learning curves\u001b[0m\u001b[0;34m\u001b[0m\u001b[0;34m\u001b[0m\u001b[0;34m\u001b[0m\u001b[0m\n\u001b[1;32m      4\u001b[0m \u001b[0mcurves\u001b[0m\u001b[0;34m(\u001b[0m\u001b[0mhistory\u001b[0m\u001b[0;34m,\u001b[0m \u001b[0mepochs\u001b[0m\u001b[0;34m)\u001b[0m\u001b[0;34m\u001b[0m\u001b[0;34m\u001b[0m\u001b[0m\n\u001b[1;32m      5\u001b[0m \u001b[0mprint\u001b[0m\u001b[0;34m(\u001b[0m\u001b[0;34m'Validation Accuracy:{} \\nValidation Loss:{}'\u001b[0m\u001b[0;34m.\u001b[0m\u001b[0mformat\u001b[0m\u001b[0;34m(\u001b[0m\u001b[0mscore\u001b[0m\u001b[0;34m[\u001b[0m\u001b[0;36m1\u001b[0m\u001b[0;34m]\u001b[0m \u001b[0;34m,\u001b[0m\u001b[0mscore\u001b[0m\u001b[0;34m[\u001b[0m\u001b[0;36m0\u001b[0m\u001b[0;34m]\u001b[0m\u001b[0;34m)\u001b[0m\u001b[0;34m)\u001b[0m\u001b[0;34m\u001b[0m\u001b[0;34m\u001b[0m\u001b[0m\n",
      "\u001b[0;32m<ipython-input-14-1d07e5f8a167>\u001b[0m in \u001b[0;36mfit_model\u001b[0;34m(model, train_dataset, X_val, y_val, batch_size_train, batch_size_validation, epochs)\u001b[0m\n\u001b[1;32m      8\u001b[0m         \u001b[0mworkers\u001b[0m\u001b[0;34m=\u001b[0m\u001b[0;36m0\u001b[0m\u001b[0;34m,\u001b[0m\u001b[0;34m\u001b[0m\u001b[0;34m\u001b[0m\u001b[0m\n\u001b[1;32m      9\u001b[0m         \u001b[0mverbose\u001b[0m\u001b[0;34m=\u001b[0m\u001b[0;36m1\u001b[0m\u001b[0;34m,\u001b[0m\u001b[0;34m\u001b[0m\u001b[0;34m\u001b[0m\u001b[0m\n\u001b[0;32m---> 10\u001b[0;31m         \u001b[0mcallbacks\u001b[0m\u001b[0;34m=\u001b[0m\u001b[0mcallback_list\u001b[0m\u001b[0;34m\u001b[0m\u001b[0;34m\u001b[0m\u001b[0m\n\u001b[0m\u001b[1;32m     11\u001b[0m     )\n\u001b[1;32m     12\u001b[0m \u001b[0;34m\u001b[0m\u001b[0m\n",
      "\u001b[0;32m~/passion/venv/lib/python3.6/site-packages/tensorflow/python/keras/engine/training.py\u001b[0m in \u001b[0;36mfit\u001b[0;34m(self, x, y, batch_size, epochs, verbose, callbacks, validation_split, validation_data, shuffle, class_weight, sample_weight, initial_epoch, steps_per_epoch, validation_steps, validation_batch_size, validation_freq, max_queue_size, workers, use_multiprocessing)\u001b[0m\n\u001b[1;32m   1098\u001b[0m                 _r=1):\n\u001b[1;32m   1099\u001b[0m               \u001b[0mcallbacks\u001b[0m\u001b[0;34m.\u001b[0m\u001b[0mon_train_batch_begin\u001b[0m\u001b[0;34m(\u001b[0m\u001b[0mstep\u001b[0m\u001b[0;34m)\u001b[0m\u001b[0;34m\u001b[0m\u001b[0;34m\u001b[0m\u001b[0m\n\u001b[0;32m-> 1100\u001b[0;31m               \u001b[0mtmp_logs\u001b[0m \u001b[0;34m=\u001b[0m \u001b[0mself\u001b[0m\u001b[0;34m.\u001b[0m\u001b[0mtrain_function\u001b[0m\u001b[0;34m(\u001b[0m\u001b[0miterator\u001b[0m\u001b[0;34m)\u001b[0m\u001b[0;34m\u001b[0m\u001b[0;34m\u001b[0m\u001b[0m\n\u001b[0m\u001b[1;32m   1101\u001b[0m               \u001b[0;32mif\u001b[0m \u001b[0mdata_handler\u001b[0m\u001b[0;34m.\u001b[0m\u001b[0mshould_sync\u001b[0m\u001b[0;34m:\u001b[0m\u001b[0;34m\u001b[0m\u001b[0;34m\u001b[0m\u001b[0m\n\u001b[1;32m   1102\u001b[0m                 \u001b[0mcontext\u001b[0m\u001b[0;34m.\u001b[0m\u001b[0masync_wait\u001b[0m\u001b[0;34m(\u001b[0m\u001b[0;34m)\u001b[0m\u001b[0;34m\u001b[0m\u001b[0;34m\u001b[0m\u001b[0m\n",
      "\u001b[0;32m~/passion/venv/lib/python3.6/site-packages/tensorflow/python/eager/def_function.py\u001b[0m in \u001b[0;36m__call__\u001b[0;34m(self, *args, **kwds)\u001b[0m\n\u001b[1;32m    826\u001b[0m     \u001b[0mtracing_count\u001b[0m \u001b[0;34m=\u001b[0m \u001b[0mself\u001b[0m\u001b[0;34m.\u001b[0m\u001b[0mexperimental_get_tracing_count\u001b[0m\u001b[0;34m(\u001b[0m\u001b[0;34m)\u001b[0m\u001b[0;34m\u001b[0m\u001b[0;34m\u001b[0m\u001b[0m\n\u001b[1;32m    827\u001b[0m     \u001b[0;32mwith\u001b[0m \u001b[0mtrace\u001b[0m\u001b[0;34m.\u001b[0m\u001b[0mTrace\u001b[0m\u001b[0;34m(\u001b[0m\u001b[0mself\u001b[0m\u001b[0;34m.\u001b[0m\u001b[0m_name\u001b[0m\u001b[0;34m)\u001b[0m \u001b[0;32mas\u001b[0m \u001b[0mtm\u001b[0m\u001b[0;34m:\u001b[0m\u001b[0;34m\u001b[0m\u001b[0;34m\u001b[0m\u001b[0m\n\u001b[0;32m--> 828\u001b[0;31m       \u001b[0mresult\u001b[0m \u001b[0;34m=\u001b[0m \u001b[0mself\u001b[0m\u001b[0;34m.\u001b[0m\u001b[0m_call\u001b[0m\u001b[0;34m(\u001b[0m\u001b[0;34m*\u001b[0m\u001b[0margs\u001b[0m\u001b[0;34m,\u001b[0m \u001b[0;34m**\u001b[0m\u001b[0mkwds\u001b[0m\u001b[0;34m)\u001b[0m\u001b[0;34m\u001b[0m\u001b[0;34m\u001b[0m\u001b[0m\n\u001b[0m\u001b[1;32m    829\u001b[0m       \u001b[0mcompiler\u001b[0m \u001b[0;34m=\u001b[0m \u001b[0;34m\"xla\"\u001b[0m \u001b[0;32mif\u001b[0m \u001b[0mself\u001b[0m\u001b[0;34m.\u001b[0m\u001b[0m_experimental_compile\u001b[0m \u001b[0;32melse\u001b[0m \u001b[0;34m\"nonXla\"\u001b[0m\u001b[0;34m\u001b[0m\u001b[0;34m\u001b[0m\u001b[0m\n\u001b[1;32m    830\u001b[0m       \u001b[0mnew_tracing_count\u001b[0m \u001b[0;34m=\u001b[0m \u001b[0mself\u001b[0m\u001b[0;34m.\u001b[0m\u001b[0mexperimental_get_tracing_count\u001b[0m\u001b[0;34m(\u001b[0m\u001b[0;34m)\u001b[0m\u001b[0;34m\u001b[0m\u001b[0;34m\u001b[0m\u001b[0m\n",
      "\u001b[0;32m~/passion/venv/lib/python3.6/site-packages/tensorflow/python/eager/def_function.py\u001b[0m in \u001b[0;36m_call\u001b[0;34m(self, *args, **kwds)\u001b[0m\n\u001b[1;32m    853\u001b[0m       \u001b[0;31m# In this case we have created variables on the first call, so we run the\u001b[0m\u001b[0;34m\u001b[0m\u001b[0;34m\u001b[0m\u001b[0;34m\u001b[0m\u001b[0m\n\u001b[1;32m    854\u001b[0m       \u001b[0;31m# defunned version which is guaranteed to never create variables.\u001b[0m\u001b[0;34m\u001b[0m\u001b[0;34m\u001b[0m\u001b[0;34m\u001b[0m\u001b[0m\n\u001b[0;32m--> 855\u001b[0;31m       \u001b[0;32mreturn\u001b[0m \u001b[0mself\u001b[0m\u001b[0;34m.\u001b[0m\u001b[0m_stateless_fn\u001b[0m\u001b[0;34m(\u001b[0m\u001b[0;34m*\u001b[0m\u001b[0margs\u001b[0m\u001b[0;34m,\u001b[0m \u001b[0;34m**\u001b[0m\u001b[0mkwds\u001b[0m\u001b[0;34m)\u001b[0m  \u001b[0;31m# pylint: disable=not-callable\u001b[0m\u001b[0;34m\u001b[0m\u001b[0;34m\u001b[0m\u001b[0m\n\u001b[0m\u001b[1;32m    856\u001b[0m     \u001b[0;32melif\u001b[0m \u001b[0mself\u001b[0m\u001b[0;34m.\u001b[0m\u001b[0m_stateful_fn\u001b[0m \u001b[0;32mis\u001b[0m \u001b[0;32mnot\u001b[0m \u001b[0;32mNone\u001b[0m\u001b[0;34m:\u001b[0m\u001b[0;34m\u001b[0m\u001b[0;34m\u001b[0m\u001b[0m\n\u001b[1;32m    857\u001b[0m       \u001b[0;31m# Release the lock early so that multiple threads can perform the call\u001b[0m\u001b[0;34m\u001b[0m\u001b[0;34m\u001b[0m\u001b[0;34m\u001b[0m\u001b[0m\n",
      "\u001b[0;32m~/passion/venv/lib/python3.6/site-packages/tensorflow/python/eager/function.py\u001b[0m in \u001b[0;36m__call__\u001b[0;34m(self, *args, **kwargs)\u001b[0m\n\u001b[1;32m   2941\u001b[0m        filtered_flat_args) = self._maybe_define_function(args, kwargs)\n\u001b[1;32m   2942\u001b[0m     return graph_function._call_flat(\n\u001b[0;32m-> 2943\u001b[0;31m         filtered_flat_args, captured_inputs=graph_function.captured_inputs)  # pylint: disable=protected-access\n\u001b[0m\u001b[1;32m   2944\u001b[0m \u001b[0;34m\u001b[0m\u001b[0m\n\u001b[1;32m   2945\u001b[0m   \u001b[0;34m@\u001b[0m\u001b[0mproperty\u001b[0m\u001b[0;34m\u001b[0m\u001b[0;34m\u001b[0m\u001b[0m\n",
      "\u001b[0;32m~/passion/venv/lib/python3.6/site-packages/tensorflow/python/eager/function.py\u001b[0m in \u001b[0;36m_call_flat\u001b[0;34m(self, args, captured_inputs, cancellation_manager)\u001b[0m\n\u001b[1;32m   1917\u001b[0m       \u001b[0;31m# No tape is watching; skip to running the function.\u001b[0m\u001b[0;34m\u001b[0m\u001b[0;34m\u001b[0m\u001b[0;34m\u001b[0m\u001b[0m\n\u001b[1;32m   1918\u001b[0m       return self._build_call_outputs(self._inference_function.call(\n\u001b[0;32m-> 1919\u001b[0;31m           ctx, args, cancellation_manager=cancellation_manager))\n\u001b[0m\u001b[1;32m   1920\u001b[0m     forward_backward = self._select_forward_and_backward_functions(\n\u001b[1;32m   1921\u001b[0m         \u001b[0margs\u001b[0m\u001b[0;34m,\u001b[0m\u001b[0;34m\u001b[0m\u001b[0;34m\u001b[0m\u001b[0m\n",
      "\u001b[0;32m~/passion/venv/lib/python3.6/site-packages/tensorflow/python/eager/function.py\u001b[0m in \u001b[0;36mcall\u001b[0;34m(self, ctx, args, cancellation_manager)\u001b[0m\n\u001b[1;32m    558\u001b[0m               \u001b[0minputs\u001b[0m\u001b[0;34m=\u001b[0m\u001b[0margs\u001b[0m\u001b[0;34m,\u001b[0m\u001b[0;34m\u001b[0m\u001b[0;34m\u001b[0m\u001b[0m\n\u001b[1;32m    559\u001b[0m               \u001b[0mattrs\u001b[0m\u001b[0;34m=\u001b[0m\u001b[0mattrs\u001b[0m\u001b[0;34m,\u001b[0m\u001b[0;34m\u001b[0m\u001b[0;34m\u001b[0m\u001b[0m\n\u001b[0;32m--> 560\u001b[0;31m               ctx=ctx)\n\u001b[0m\u001b[1;32m    561\u001b[0m         \u001b[0;32melse\u001b[0m\u001b[0;34m:\u001b[0m\u001b[0;34m\u001b[0m\u001b[0;34m\u001b[0m\u001b[0m\n\u001b[1;32m    562\u001b[0m           outputs = execute.execute_with_cancellation(\n",
      "\u001b[0;32m~/passion/venv/lib/python3.6/site-packages/tensorflow/python/eager/execute.py\u001b[0m in \u001b[0;36mquick_execute\u001b[0;34m(op_name, num_outputs, inputs, attrs, ctx, name)\u001b[0m\n\u001b[1;32m     58\u001b[0m     \u001b[0mctx\u001b[0m\u001b[0;34m.\u001b[0m\u001b[0mensure_initialized\u001b[0m\u001b[0;34m(\u001b[0m\u001b[0;34m)\u001b[0m\u001b[0;34m\u001b[0m\u001b[0;34m\u001b[0m\u001b[0m\n\u001b[1;32m     59\u001b[0m     tensors = pywrap_tfe.TFE_Py_Execute(ctx._handle, device_name, op_name,\n\u001b[0;32m---> 60\u001b[0;31m                                         inputs, attrs, num_outputs)\n\u001b[0m\u001b[1;32m     61\u001b[0m   \u001b[0;32mexcept\u001b[0m \u001b[0mcore\u001b[0m\u001b[0;34m.\u001b[0m\u001b[0m_NotOkStatusException\u001b[0m \u001b[0;32mas\u001b[0m \u001b[0me\u001b[0m\u001b[0;34m:\u001b[0m\u001b[0;34m\u001b[0m\u001b[0;34m\u001b[0m\u001b[0m\n\u001b[1;32m     62\u001b[0m     \u001b[0;32mif\u001b[0m \u001b[0mname\u001b[0m \u001b[0;32mis\u001b[0m \u001b[0;32mnot\u001b[0m \u001b[0;32mNone\u001b[0m\u001b[0;34m:\u001b[0m\u001b[0;34m\u001b[0m\u001b[0;34m\u001b[0m\u001b[0m\n",
      "\u001b[0;31mKeyboardInterrupt\u001b[0m: "
     ]
    }
   ],
   "source": [
    "model, history, score = fit_model(model, train_dataset, X_val, y_val, batch_size_train, batch_size_validation, epochs)\n",
    "\n",
    "# Learning curves\n",
    "curves(history, epochs)\n",
    "print('Validation Accuracy:{} \\nValidation Loss:{}'.format(score[1] ,score[0]))"
   ]
  },
  {
   "cell_type": "code",
   "execution_count": 22,
   "id": "d2a042ae",
   "metadata": {},
   "outputs": [],
   "source": [
    "# Prediction\n",
    "model.load_weights('/home/azure/passion/AI/Category and Attribute Prediction Benchmark/dataset/output/my_checkpoint4.ckpt')\n",
    "Y_pred = model.predict(test_dataset)"
   ]
  },
  {
   "cell_type": "code",
   "execution_count": 25,
   "id": "575e9617",
   "metadata": {},
   "outputs": [
    {
     "name": "stdout",
     "output_type": "stream",
     "text": [
      "[ 0  0  0 ... 47 47 47]\n",
      "40000\n"
     ]
    }
   ],
   "source": [
    "testY_labels = test_dataset.labels\n",
    "print(testY_labels)\n",
    "print(len(testY_labels))"
   ]
  },
  {
   "cell_type": "code",
   "execution_count": 27,
   "id": "a35f6add",
   "metadata": {},
   "outputs": [
    {
     "name": "stdout",
     "output_type": "stream",
     "text": [
      "1/1 [==============================] - 0s 167ms/step - loss: 0.0456 - accuracy: 0.5312\n",
      "loss:  0.0456390380859375\n",
      "acc:  0.53125\n"
     ]
    }
   ],
   "source": [
    "model.load_weights('/home/azure/passion/AI/Category and Attribute Prediction Benchmark/dataset/output/my_checkpoint4.ckpt')\n",
    "\n",
    "loss, acc = model.evaluate(X_test, y_test)\n",
    "print(\"loss: \", loss)\n",
    "print(\"acc: \", acc)"
   ]
  },
  {
   "cell_type": "code",
   "execution_count": 28,
   "id": "3d2b19a8",
   "metadata": {},
   "outputs": [
    {
     "name": "stdout",
     "output_type": "stream",
     "text": [
      "INFO:tensorflow:Assets written to: /tmp/tmpg01qc7b2/assets\n"
     ]
    },
    {
     "data": {
      "text/plain": [
       "161847192"
      ]
     },
     "execution_count": 28,
     "metadata": {},
     "output_type": "execute_result"
    }
   ],
   "source": [
    "# Tensorflow Lite\n",
    "converter = tf.lite.TFLiteConverter.from_keras_model(model)\n",
    "tflite_model = converter.convert()\n",
    "open('/home/azure/passion/AI/Category and Attribute Prediction Benchmark/dataset/output/my_checkpoint3.tflite', 'wb').write(tflite_model)"
   ]
  },
  {
   "cell_type": "code",
   "execution_count": null,
   "id": "4cfa4fee",
   "metadata": {},
   "outputs": [],
   "source": []
  }
 ],
 "metadata": {
  "kernelspec": {
   "display_name": "Python 3",
   "language": "python",
   "name": "python3"
  },
  "language_info": {
   "codemirror_mode": {
    "name": "ipython",
    "version": 3
   },
   "file_extension": ".py",
   "mimetype": "text/x-python",
   "name": "python",
   "nbconvert_exporter": "python",
   "pygments_lexer": "ipython3",
   "version": "3.6.9"
  }
 },
 "nbformat": 4,
 "nbformat_minor": 5
}
